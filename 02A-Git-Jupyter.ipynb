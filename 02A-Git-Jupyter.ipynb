{
 "cells": [
  {
   "cell_type": "markdown",
   "metadata": {
    "nbpresent": {
     "id": "eefcedb2-d95e-406f-adf0-a889c096010c"
    },
    "slideshow": {
     "slide_type": "slide"
    }
   },
   "source": [
    "# Essential Tools: Git and Jupyter "
   ]
  },
  {
   "cell_type": "code",
   "execution_count": 4,
   "metadata": {
    "hide_input": true,
    "nbpresent": {
     "id": "5a4b2ca5-894e-4f77-aaf0-556fff477982"
    },
    "slideshow": {
     "slide_type": "skip"
    },
    "tags": [
     "hide-input"
    ]
   },
   "outputs": [
    {
     "name": "stderr",
     "output_type": "stream",
     "text": [
      "/Users/markcrovella/repos/DS701-Tools-for-Data-Science/common.py:8: DeprecationWarning: Importing display from IPython.core.display is deprecated since IPython 7.14, please import from IPython display\n",
      "  from IPython.core.display import display, HTML, Markdown, TextDisplayObject, Javascript\n"
     ]
    },
    {
     "data": {
      "text/plain": [
       "<Figure size 432x288 with 0 Axes>"
      ]
     },
     "metadata": {},
     "output_type": "display_data"
    }
   ],
   "source": [
    "%matplotlib inline\n",
    "%config InlineBackend.figure_format='retina'\n",
    "%run -i common.py\n",
    "%run -i ln_preamble.py\n",
    "from importlib import reload\n",
    "from datetime import datetime"
   ]
  },
  {
   "cell_type": "markdown",
   "metadata": {
    "nbpresent": {
     "id": "1b780b57-8164-4eca-8f25-9851ed413d12"
    },
    "slideshow": {
     "slide_type": "slide"
    }
   },
   "source": [
    "## Critical Course Tools"
   ]
  },
  {
   "cell_type": "markdown",
   "metadata": {
    "nbpresent": {
     "id": "6a0e4348-5a00-4d82-9ced-3637a93cd3da"
    },
    "slideshow": {
     "slide_type": "fragment"
    }
   },
   "source": [
    "This course focuses on developing practical skills in working with data and providing students with a hands-on understanding of classical data analysis techniques. \n",
    "\n",
    "This will be a coding-intensive course. \n",
    "\n",
    "Instruction in this course will use [Python](https://www.python.org/), since it allows for fast prototyping and is supported by a great variety of scientific (and, specifically, data related) libraries."
   ]
  },
  {
   "cell_type": "markdown",
   "metadata": {
    "nbpresent": {
     "id": "f9b12b68-4254-4750-8915-db3e76780913"
    },
    "slideshow": {
     "slide_type": "fragment"
    }
   },
   "source": [
    "The materials of this course can be found under [this GitHub account](https://github.com/mcrovella/DS701-Tools-for-Data-Science). \n",
    "\n",
    "Both the lectures and the homeworks of this course are in the format of [Jupyter notebooks](https://jupyter.org)."
   ]
  },
  {
   "cell_type": "markdown",
   "metadata": {
    "slideshow": {
     "slide_type": "slide"
    }
   },
   "source": [
    "__Today's Agenda__ is a quick review of essential tools you will need for this course.\n",
    "\n",
    "We are __not__ providing a comprehensive introduction to these tools.\n",
    "\n",
    "They are all __extensively__ documented online and you will need to familiarize with online resources to learn what you need.  \n",
    "\n",
    "Stack overflow, etc, is also your friend -- but as a reference, not as a way to solve homework problems!"
   ]
  },
  {
   "cell_type": "markdown",
   "metadata": {
    "slideshow": {
     "slide_type": "fragment"
    }
   },
   "source": [
    "__The key tools you will need__ are:\n",
    "1. Git\n",
    "2. Jupyter\n",
    "3. Pandas"
   ]
  },
  {
   "cell_type": "markdown",
   "metadata": {
    "nbpresent": {
     "id": "b6077df1-2dab-46bc-bc47-890f29ab054d"
    },
    "slideshow": {
     "slide_type": "slide"
    }
   },
   "source": [
    "## Python"
   ]
  },
  {
   "cell_type": "markdown",
   "metadata": {},
   "source": [
    "We will not be teaching you python in this course.  \n",
    "\n",
    "You are assumed to be proficient in python.\n",
    "\n",
    "If you need to refresh your memory, there is a quick review of Python in the online lecture notes."
   ]
  },
  {
   "cell_type": "markdown",
   "metadata": {
    "nbpresent": {
     "id": "d17dbb84-35ea-407d-98bb-7e6ff1ee9f54"
    },
    "slideshow": {
     "slide_type": "fragment"
    }
   },
   "source": [
    "There are many ways to install Python.  \n",
    "\n",
    "The biggest challenge in installing Python is configuring the many different packages that can be used.\n",
    "\n",
    "For that reason, I recommend the free **Anaconda Scientific Python** distribution, which you can find via Google. This Python distribution contains most of the packages that we will be using throughout the course. It also includes an easy-to-use but powerful package install/update system, **`conda`**.\n",
    "\n",
    "Note that we are using Python 3 (get the latest version, which should be 3.9 or later).  "
   ]
  },
  {
   "cell_type": "markdown",
   "metadata": {
    "nbpresent": {
     "id": "0a546e1d-5cbd-4c88-b342-5e77449a6ed4"
    },
    "slideshow": {
     "slide_type": "slide"
    }
   },
   "source": [
    "## Git"
   ]
  },
  {
   "cell_type": "markdown",
   "metadata": {
    "nbpresent": {
     "id": "a2958f76-58ff-4971-985d-9bd958f1167c"
    }
   },
   "source": [
    "One of the goals of this course is make you familiar with the modern workflow of code-versioning and collaboration. \n",
    "\n",
    "\n",
    "\n",
    "If you don't have it already, download **git** from [here](http://git-scm.com/downloads). \n",
    "\n",
    "If you don't already have one, you __must__ also create an account on GitHub.\n",
    "\n",
    "You can find extensive documentation on how to use **git** on the [Help Pages of Github](https://docs.github.com/en/get-started/quickstart), on [Atlassian](https://www.atlassian.com/git/tutorials/setting-up-a-repository), and many other sites."
   ]
  },
  {
   "cell_type": "markdown",
   "metadata": {
    "nbpresent": {
     "id": "d5840375-c301-4a2f-b5b2-025afdb97fa9"
    },
    "slideshow": {
     "slide_type": "slide"
    }
   },
   "source": [
    "## Working with Git"
   ]
  },
  {
   "cell_type": "markdown",
   "metadata": {
    "nbpresent": {
     "id": "61b50409-5535-4a4f-b875-523d8cb3e486"
    },
    "slideshow": {
     "slide_type": "fragment"
    }
   },
   "source": [
    "### Configuration"
   ]
  },
  {
   "cell_type": "markdown",
   "metadata": {
    "nbpresent": {
     "id": "f6751685-9627-4a60-97a3-0aaa9f8bba8f"
    },
    "slideshow": {
     "slide_type": "-"
    }
   },
   "source": [
    "The first time we use *git* on a new machine, we need to configure our name and email\n",
    "\n",
    "```\n",
    "$ git config --global user.name \"Mark Crovella\"\n",
    "$ git config --global user.mail \"crovella@bu.edu\"\n",
    "```\n",
    "Use the email that you used for your GitHub account."
   ]
  },
  {
   "cell_type": "markdown",
   "metadata": {
    "nbpresent": {
     "id": "216849d9-80b7-4a8a-bd1c-6491053d36ce"
    },
    "slideshow": {
     "slide_type": "fragment"
    }
   },
   "source": [
    "### Creating a Repository"
   ]
  },
  {
   "cell_type": "code",
   "execution_count": 5,
   "metadata": {
    "cell_style": "split",
    "hide_input": false,
    "scrolled": false,
    "tags": [
     "remove-cell"
    ]
   },
   "outputs": [
    {
     "data": {
      "text/html": [
       "<b>Command Line</b>"
      ],
      "text/plain": [
       "<IPython.core.display.HTML object>"
      ]
     },
     "metadata": {},
     "output_type": "display_data"
    },
    {
     "data": {
      "text/html": [
       "\n",
       "        <iframe\n",
       "            width=\"100%\"\n",
       "            height=\"1000\"\n",
       "            src=\"/terminals/1\"\n",
       "            frameborder=\"0\"\n",
       "            allowfullscreen\n",
       "            \n",
       "        ></iframe>\n",
       "        "
      ],
      "text/plain": [
       "<IPython.lib.display.IFrame at 0x7f99c8e0db80>"
      ]
     },
     "execution_count": 5,
     "metadata": {},
     "output_type": "execute_result"
    }
   ],
   "source": [
    "def showGitTerm(title=\"Command Line\"):\n",
    "    return showTerm(EDITORTERM, title, \"100%\", 1000)\n",
    "showGitTerm()"
   ]
  },
  {
   "cell_type": "markdown",
   "metadata": {
    "cell_style": "split",
    "nbpresent": {
     "id": "5bcde23c-4756-48db-b89b-15957e51f93c"
    },
    "slideshow": {
     "slide_type": "-"
    }
   },
   "source": [
    "After installing Git, we can configure our first repository. First, let's create a new directory.\n",
    "\n",
    "```\n",
    "$ mkdir thoughts\n",
    "$ cd thoughts\n",
    "```\n",
    "\n",
    "Now, we can create a *git* repository in this directory.\n",
    "\n",
    "```\n",
    "$ git init\n",
    "```\n",
    "\n",
    "We can check that everything is set up correctly by asking *git* to tell us the status of our project.\n",
    "\n",
    "```\n",
    "$ git status\n",
    "On branch master\n",
    "\n",
    "No commits yet\n",
    "\n",
    "nothing to commit (create/copy files and use \"git add\" to track)\n",
    "```"
   ]
  },
  {
   "cell_type": "code",
   "execution_count": null,
   "metadata": {
    "hide_input": true,
    "slideshow": {
     "slide_type": "skip"
    }
   },
   "outputs": [],
   "source": []
  },
  {
   "cell_type": "code",
   "execution_count": null,
   "metadata": {
    "hide_input": true,
    "slideshow": {
     "slide_type": "fragment"
    }
   },
   "outputs": [],
   "source": []
  },
  {
   "cell_type": "code",
   "execution_count": 6,
   "metadata": {
    "cell_style": "split",
    "hide_input": true,
    "scrolled": true,
    "tags": [
     "remove-cell"
    ]
   },
   "outputs": [
    {
     "data": {
      "text/html": [
       "<b>Command Line</b>"
      ],
      "text/plain": [
       "<IPython.core.display.HTML object>"
      ]
     },
     "metadata": {},
     "output_type": "display_data"
    },
    {
     "data": {
      "text/html": [
       "\n",
       "        <iframe\n",
       "            width=\"100%\"\n",
       "            height=\"1000\"\n",
       "            src=\"/terminals/1\"\n",
       "            frameborder=\"0\"\n",
       "            allowfullscreen\n",
       "            \n",
       "        ></iframe>\n",
       "        "
      ],
      "text/plain": [
       "<IPython.lib.display.IFrame at 0x7f99eb913ca0>"
      ]
     },
     "execution_count": 6,
     "metadata": {},
     "output_type": "execute_result"
    }
   ],
   "source": [
    "showGitTerm()"
   ]
  },
  {
   "cell_type": "markdown",
   "metadata": {
    "cell_style": "split",
    "nbpresent": {
     "id": "20e30049-6480-4c72-969e-7c8d622e9263"
    },
    "slideshow": {
     "slide_type": "-"
    }
   },
   "source": [
    "Now, create a file named ```science.txt```, edit it with your favorite text editor and add the following lines\n",
    "\n",
    "```\n",
    "Starting to think about data\n",
    "```"
   ]
  },
  {
   "cell_type": "markdown",
   "metadata": {
    "cell_style": "split",
    "nbpresent": {
     "id": "e12f7ae0-554b-4ed8-9916-840b25b5d00e"
    },
    "slideshow": {
     "slide_type": "fragment"
    }
   },
   "source": [
    "If we check the status of our repository again, *git* tells us that there is a new file:\n",
    "```\n",
    "$ git status\n",
    "On branch master\n",
    "\n",
    "No commits yet\n",
    "\n",
    "Untracked files:\n",
    "  (use \"git add <file>...\" to include in what will be committed)\n",
    "\n",
    "        science.txt\n",
    "\n",
    "nothing added to commit but untracked files present (use \"git add\" to track)\n",
    "```"
   ]
  },
  {
   "cell_type": "markdown",
   "metadata": {
    "nbpresent": {
     "id": "9702171b-0de0-436e-b694-92e768ceb809"
    },
    "slideshow": {
     "slide_type": "fragment"
    }
   },
   "source": [
    "To give you precise control about what changes are included in each revision, *git* has a special staging area.\n",
    "\n",
    "In the staging area it keeps track of things that you have added to the current change set but not yet committed. \n",
    "\n",
    "```git add``` puts things in this area, and ```git commit``` then copies them to long-term storage (as a commit):\n",
    "\n",
    "![Alt text](./figs/git-staging-area.png)"
   ]
  },
  {
   "cell_type": "code",
   "execution_count": null,
   "metadata": {
    "hide_input": true,
    "slideshow": {
     "slide_type": "fragment"
    }
   },
   "outputs": [],
   "source": []
  },
  {
   "cell_type": "code",
   "execution_count": 7,
   "metadata": {
    "cell_style": "split",
    "hide_input": true,
    "scrolled": false,
    "slideshow": {
     "slide_type": "-"
    },
    "tags": [
     "remove-cell"
    ]
   },
   "outputs": [
    {
     "data": {
      "text/html": [
       "<b>Command Line</b>"
      ],
      "text/plain": [
       "<IPython.core.display.HTML object>"
      ]
     },
     "metadata": {},
     "output_type": "display_data"
    },
    {
     "data": {
      "text/html": [
       "\n",
       "        <iframe\n",
       "            width=\"100%\"\n",
       "            height=\"1000\"\n",
       "            src=\"/terminals/1\"\n",
       "            frameborder=\"0\"\n",
       "            allowfullscreen\n",
       "            \n",
       "        ></iframe>\n",
       "        "
      ],
      "text/plain": [
       "<IPython.lib.display.IFrame at 0x7f99eb9268b0>"
      ]
     },
     "execution_count": 7,
     "metadata": {},
     "output_type": "execute_result"
    }
   ],
   "source": [
    "showGitTerm()"
   ]
  },
  {
   "cell_type": "markdown",
   "metadata": {
    "cell_style": "split",
    "nbpresent": {
     "id": "c1f05d9f-77cd-4e90-b976-d6e44d1e7680"
    },
    "slideshow": {
     "slide_type": "-"
    }
   },
   "source": [
    "The \"untracked files\" message means that there's a file in the directory that *git* isn't keeping track of. We can tell *git* that it should do so using ```git add```:\n",
    "\n",
    "```\n",
    "$ git add science.txt\n",
    "```\n",
    "\n",
    "and then check that the file is now being tracked:\n",
    "\n",
    "```\n",
    "$ git status\n",
    "On branch master\n",
    "\n",
    "No commits yet\n",
    "\n",
    "Changes to be committed:\n",
    "  (use \"git rm --cached <file>...\" to unstage)\n",
    "\n",
    "        new file:   science.txt\n",
    "\n",
    "```"
   ]
  },
  {
   "cell_type": "markdown",
   "metadata": {
    "cell_style": "split",
    "nbpresent": {
     "id": "7bbeaa7e-751d-4a56-93e6-2b6e5d768d98"
    },
    "slideshow": {
     "slide_type": "fragment"
    }
   },
   "source": [
    "*git* now knows that it's supposed to keep track of ```science.txt```, but it hasn't yet recorded any changes for posterity as a commit. \n",
    "\n",
    "To get it to do that, we need to run one more command:\n",
    "\n",
    "```\n",
    "$ git commit -m \"Preparing for science\"\n",
    "[master (root-commit) f516d22] Preparing for science\n",
    " 1 file changed, 1 insertion(+)\n",
    " create mode 100644 science.txt\n",
    "```"
   ]
  },
  {
   "cell_type": "code",
   "execution_count": null,
   "metadata": {
    "hide_input": true,
    "slideshow": {
     "slide_type": "fragment"
    }
   },
   "outputs": [],
   "source": []
  },
  {
   "cell_type": "code",
   "execution_count": 8,
   "metadata": {
    "cell_style": "split",
    "hide_input": true,
    "scrolled": false,
    "tags": [
     "remove-cell"
    ]
   },
   "outputs": [
    {
     "data": {
      "text/html": [
       "<b>Command Line</b>"
      ],
      "text/plain": [
       "<IPython.core.display.HTML object>"
      ]
     },
     "metadata": {},
     "output_type": "display_data"
    },
    {
     "data": {
      "text/html": [
       "\n",
       "        <iframe\n",
       "            width=\"100%\"\n",
       "            height=\"1000\"\n",
       "            src=\"/terminals/1\"\n",
       "            frameborder=\"0\"\n",
       "            allowfullscreen\n",
       "            \n",
       "        ></iframe>\n",
       "        "
      ],
      "text/plain": [
       "<IPython.lib.display.IFrame at 0x7f99eb7d1130>"
      ]
     },
     "execution_count": 8,
     "metadata": {},
     "output_type": "execute_result"
    }
   ],
   "source": [
    "showGitTerm()"
   ]
  },
  {
   "cell_type": "markdown",
   "metadata": {
    "cell_style": "split",
    "nbpresent": {
     "id": "f2fae4e0-2fb8-4054-8752-d2482bbdc198"
    },
    "slideshow": {
     "slide_type": "-"
    }
   },
   "source": [
    "When we run ```git commit```, *git* takes everything we have told it to save by using ```git add``` and stores a copy permanently inside the special ```.git``` directory. \n",
    "\n",
    "This permanent copy is called a **revision** and its short identifier is *f516d22*. (Your revision will have another identifier.)"
   ]
  },
  {
   "cell_type": "markdown",
   "metadata": {
    "cell_style": "split",
    "nbpresent": {
     "id": "64e2830e-2728-4025-9c1a-88f8709a23e9"
    },
    "slideshow": {
     "slide_type": "fragment"
    }
   },
   "source": [
    "We use the -m flag (for \"message\") to record a comment that will help us remember later on what we did and why. \n",
    "\n",
    "If we just run ```git commit``` without the ```-m``` option, *git* will launch an editor such as ```vim``` (or whatever other editor we configured at the start) so that we can write a longer message. "
   ]
  },
  {
   "cell_type": "markdown",
   "metadata": {
    "cell_style": "split",
    "nbpresent": {
     "id": "2c056cc1-39af-479c-a648-3103edcddb62"
    },
    "slideshow": {
     "slide_type": "fragment"
    }
   },
   "source": [
    "If we run git status now:\n",
    "```\n",
    "$ git status\n",
    "On branch master\n",
    "nothing to commit, working tree clean\n",
    "```"
   ]
  },
  {
   "cell_type": "markdown",
   "metadata": {
    "cell_style": "split",
    "nbpresent": {
     "id": "afc51b47-dbbe-4ac3-b4d3-93882b31cacd"
    },
    "slideshow": {
     "slide_type": "fragment"
    }
   },
   "source": [
    "it tells us everything is up to date. If we want to know what we've done recently, we can ask *git* to show us the project's history using ```git log```:\n",
    "\n",
    "```\n",
    "$ git log\n",
    "Author: Mark Crovella <crovella@bu.edu>\n",
    "Date:   Sun Jan 25 12:48:44 2015 -0500\n",
    "\n",
    "    Preparing for science\n",
    "```"
   ]
  },
  {
   "cell_type": "markdown",
   "metadata": {
    "nbpresent": {
     "id": "27c48abb-af66-4891-99d4-e2640db5a28a"
    },
    "slideshow": {
     "slide_type": "fragment"
    }
   },
   "source": [
    "### Changing a file"
   ]
  },
  {
   "cell_type": "code",
   "execution_count": 9,
   "metadata": {
    "cell_style": "split",
    "hide_input": true,
    "scrolled": false,
    "tags": [
     "remove-cell"
    ]
   },
   "outputs": [
    {
     "data": {
      "text/html": [
       "<b>Command Line</b>"
      ],
      "text/plain": [
       "<IPython.core.display.HTML object>"
      ]
     },
     "metadata": {},
     "output_type": "display_data"
    },
    {
     "data": {
      "text/html": [
       "\n",
       "        <iframe\n",
       "            width=\"100%\"\n",
       "            height=\"1000\"\n",
       "            src=\"/terminals/1\"\n",
       "            frameborder=\"0\"\n",
       "            allowfullscreen\n",
       "            \n",
       "        ></iframe>\n",
       "        "
      ],
      "text/plain": [
       "<IPython.lib.display.IFrame at 0x7f99ec18ac70>"
      ]
     },
     "execution_count": 9,
     "metadata": {},
     "output_type": "execute_result"
    }
   ],
   "source": [
    "showGitTerm()"
   ]
  },
  {
   "cell_type": "markdown",
   "metadata": {
    "cell_style": "split",
    "nbpresent": {
     "id": "46dd224f-3833-4452-a909-27e22c338244"
    },
    "slideshow": {
     "slide_type": "fragment"
    }
   },
   "source": [
    "Now, suppose that we edit the file:\n",
    "\n",
    "```\n",
    "Starting to think about data\n",
    "I need to attend CS506\n",
    "```"
   ]
  },
  {
   "cell_type": "markdown",
   "metadata": {
    "cell_style": "split",
    "nbpresent": {
     "id": "3b555fd7-1e79-4263-a4b1-7adb5eb59a8a"
    },
    "slideshow": {
     "slide_type": "fragment"
    }
   },
   "source": [
    "Now if we run ```git status```, *git* will tell us that a file that it is tracking has been modified:\n",
    "\n",
    "```\n",
    "$ git status\n",
    "On branch master\n",
    "Changes not staged for commit:\n",
    "  (use \"git add <file>...\" to update what will be committed)\n",
    "  (use \"git checkout -- <file>...\" to discard changes in working directory)\n",
    "\n",
    "        modified:   science.txt\n",
    "\n",
    "no changes added to commit (use \"git add\" and/or \"git commit -a\")\n",
    "```\n",
    "\n",
    "The last line is the key phrase: *\"no changes added to commit\"*. \n",
    "\n",
    "We have changed this file, but we haven't told *git* we will want to save those changes (which we do with ```git add```) much less actually saved them. "
   ]
  },
  {
   "cell_type": "markdown",
   "metadata": {
    "cell_style": "split",
    "nbpresent": {
     "id": "defb543e-d5d5-4ae2-ac99-b057d6648f96"
    },
    "slideshow": {
     "slide_type": "fragment"
    }
   },
   "source": [
    "Let's double-check our work using ```git diff```, which shows us the differences between the current state of the file and the most recently saved version:\n",
    "\n",
    "```\n",
    "$ git diff\n",
    "diff --git a/science.txt b/science.txt\n",
    "index 0ac4b7b..c5b1b05 100644\n",
    "--- a/science.txt\n",
    "+++ b/science.txt\n",
    "@@ -1 +1,2 @@\n",
    " Starting to think about data\n",
    "+I need to attend CS506\n",
    "```"
   ]
  },
  {
   "cell_type": "code",
   "execution_count": null,
   "metadata": {
    "hide_input": true,
    "slideshow": {
     "slide_type": "fragment"
    }
   },
   "outputs": [],
   "source": []
  },
  {
   "cell_type": "code",
   "execution_count": 10,
   "metadata": {
    "cell_style": "split",
    "hide_input": true,
    "scrolled": false,
    "tags": [
     "remove-cell"
    ]
   },
   "outputs": [
    {
     "data": {
      "text/html": [
       "<b>Command Line</b>"
      ],
      "text/plain": [
       "<IPython.core.display.HTML object>"
      ]
     },
     "metadata": {},
     "output_type": "display_data"
    },
    {
     "data": {
      "text/html": [
       "\n",
       "        <iframe\n",
       "            width=\"100%\"\n",
       "            height=\"1000\"\n",
       "            src=\"/terminals/1\"\n",
       "            frameborder=\"0\"\n",
       "            allowfullscreen\n",
       "            \n",
       "        ></iframe>\n",
       "        "
      ],
      "text/plain": [
       "<IPython.lib.display.IFrame at 0x7f99ec18aa90>"
      ]
     },
     "execution_count": 10,
     "metadata": {},
     "output_type": "execute_result"
    }
   ],
   "source": [
    "showGitTerm()"
   ]
  },
  {
   "cell_type": "markdown",
   "metadata": {
    "cell_style": "split",
    "nbpresent": {
     "id": "a40271c6-d186-4179-b573-fec299bc9d8e"
    },
    "slideshow": {
     "slide_type": "fragment"
    }
   },
   "source": [
    "OK, we are happy with that, so let's commit our change:\n",
    "```\n",
    "$ git commit -m \"Related course\"\n",
    "On branch master\n",
    "Changes not staged for commit:\n",
    "        modified:   science.txt\n",
    "\n",
    "no changes added to commit\n",
    "```"
   ]
  },
  {
   "cell_type": "markdown",
   "metadata": {
    "cell_style": "split",
    "nbpresent": {
     "id": "b603b598-e15d-40c7-9836-55b4e8905fd4"
    },
    "slideshow": {
     "slide_type": "fragment"
    }
   },
   "source": [
    "*Whoops!* *Git* won't commit the file because we didn't use ```git add``` first. Let's fix that:\n",
    "```\n",
    "$ git add science.txt\n",
    "$ git commit -m \"Related course\"\n",
    "[master 1bd7277] Related course\n",
    " 1 file changed, 1 insertion(+)\n",
    "```"
   ]
  },
  {
   "cell_type": "markdown",
   "metadata": {
    "cell_style": "split",
    "nbpresent": {
     "id": "154a475c-394b-4796-93f0-9287ceca948e"
    },
    "slideshow": {
     "slide_type": "fragment"
    }
   },
   "source": [
    "*Git* insists that we add files to the set we want to commit before actually committing anything because we may not want to commit everything at once. \n",
    "\n",
    "For example, suppose we're adding a few citations to our project. We might want to commit those additions, and the corresponding addition to the bibliography, but not commit the work we're doing on the analysis (which we haven't finished yet)."
   ]
  },
  {
   "cell_type": "markdown",
   "metadata": {
    "nbpresent": {
     "id": "0a85a94c-1749-405d-a381-3ccf78fd824c"
    },
    "slideshow": {
     "slide_type": "slide"
    }
   },
   "source": [
    "### Recovering old versions"
   ]
  },
  {
   "cell_type": "code",
   "execution_count": 11,
   "metadata": {
    "cell_style": "split",
    "hide_input": true,
    "scrolled": false,
    "tags": [
     "remove-cell"
    ]
   },
   "outputs": [
    {
     "data": {
      "text/html": [
       "<b>Command Line</b>"
      ],
      "text/plain": [
       "<IPython.core.display.HTML object>"
      ]
     },
     "metadata": {},
     "output_type": "display_data"
    },
    {
     "data": {
      "text/html": [
       "\n",
       "        <iframe\n",
       "            width=\"100%\"\n",
       "            height=\"1000\"\n",
       "            src=\"/terminals/1\"\n",
       "            frameborder=\"0\"\n",
       "            allowfullscreen\n",
       "            \n",
       "        ></iframe>\n",
       "        "
      ],
      "text/plain": [
       "<IPython.lib.display.IFrame at 0x7f99ec17fa30>"
      ]
     },
     "execution_count": 11,
     "metadata": {},
     "output_type": "execute_result"
    }
   ],
   "source": [
    "showGitTerm()"
   ]
  },
  {
   "cell_type": "markdown",
   "metadata": {
    "cell_style": "split",
    "nbpresent": {
     "id": "9712b523-d0b0-4d82-a2c8-9a16b133032c"
    },
    "slideshow": {
     "slide_type": "fragment"
    }
   },
   "source": [
    "We can save changes to files and see what we have changed. How can we restore older versions however? Let's suppose we accidentally overwrite the file:\n",
    "\n",
    "```\n",
    "$ cat science.txt\n",
    "Despair! Nothing works\n",
    "```"
   ]
  },
  {
   "cell_type": "markdown",
   "metadata": {
    "cell_style": "split",
    "nbpresent": {
     "id": "309e9219-c681-447f-b151-f60402182084"
    },
    "slideshow": {
     "slide_type": "fragment"
    }
   },
   "source": [
    "Now, ```git status``` tells us that the file has been changed, but those changes haven't been staged:\n",
    "\n",
    "```\n",
    "$ git status\n",
    "On branch master\n",
    "Changes not staged for commit:\n",
    "  (use \"git add <file>...\" to update what will be committed)\n",
    "  (use \"git checkout -- <file>...\" to discard changes in working directory)\n",
    "\n",
    "        modified:   science.txt\n",
    "\n",
    "no changes added to commit (use \"git add\" and/or \"git commit -a\")\n",
    "```"
   ]
  },
  {
   "cell_type": "markdown",
   "metadata": {
    "cell_style": "split",
    "nbpresent": {
     "id": "3305017a-ba7c-4099-911a-7d9327bb3420"
    },
    "slideshow": {
     "slide_type": "fragment"
    }
   },
   "source": [
    "We can put things back the way they were by using ```git checkout```:\n",
    "\n",
    "```\n",
    "$ git checkout HEAD science.txt\n",
    "$ cat science.txt\n",
    "Starting to think about data\n",
    "I need to attend CS506\n",
    "```"
   ]
  },
  {
   "cell_type": "markdown",
   "metadata": {
    "nbpresent": {
     "id": "63469f5c-77a5-491d-a3bb-6bcc28aca70d"
    },
    "slideshow": {
     "slide_type": "slide"
    }
   },
   "source": [
    "## GitHub"
   ]
  },
  {
   "cell_type": "markdown",
   "metadata": {
    "nbpresent": {
     "id": "0b741034-531d-4538-bc1f-b573a4eab34d"
    }
   },
   "source": [
    "Systems like *git* allow us to move work between any two repositories.\n",
    "\n",
    "In practice, though, it's easiest to use one copy as a central hub, and to keep it on the web rather than on someone's laptop. Most programmers use hosting services like [GitHub](https://github.com/) to hold those master copies. \n",
    "\n",
    "For the purpose of our course, we will be using [GitHub](https://github.com/) to host the course material. \n",
    "\n",
    "You will also submit your homeworks through this platform. \n",
    "\n",
    "Next, we will cover how you can clone the course's repository and how to submit your solutions to the homework. \n",
    "\n",
    "For more information on how to create your own repository on GitHub and upload code to it, please see the tutorial by [Software Carpentry](http://swcarpentry.github.io/git-novice/)."
   ]
  },
  {
   "cell_type": "markdown",
   "metadata": {
    "slideshow": {
     "slide_type": "slide"
    }
   },
   "source": [
    "<img src=\"./figs/github-workflow.jpg\" alt=\"Drawing\" width=\"500px\">\n",
    "\n",
    "This workflow shows you the essential new commands:\n",
    "\n",
    "* ``git pull``\n",
    "* ``git push``\n",
    "\n",
    "And when you first copy a remote repository, you will use:\n",
    "\n",
    "* ``git clone``"
   ]
  },
  {
   "cell_type": "markdown",
   "metadata": {
    "nbpresent": {
     "id": "04460419-9b64-4fd9-a1e1-3dd29c00105a"
    },
    "slideshow": {
     "slide_type": "slide"
    }
   },
   "source": [
    "### Course repositories"
   ]
  },
  {
   "cell_type": "markdown",
   "metadata": {
    "nbpresent": {
     "id": "4b173db4-8824-4065-ba0c-ab406fb8f544"
    },
    "slideshow": {
     "slide_type": "-"
    }
   },
   "source": [
    "The material of the course is hosted on GitHub, under [this account](https://github.com/mcrovella/CS506-Computational-Tools-for-Data-Science)."
   ]
  },
  {
   "cell_type": "markdown",
   "metadata": {
    "nbpresent": {
     "id": "559240af-1ae4-4f7b-b47b-4967bca0fe30"
    },
    "slideshow": {
     "slide_type": "fragment"
    }
   },
   "source": [
    "In order to download a copy of the lectures and run them locally on your computer, you need to clone the lecture repository. To do that:\n",
    "\n",
    "1. Create a new folder for the course.\n",
    "```\n",
    "$ mkdir cs506\n",
    "$ cd cs506\n",
    "```\n",
    "2. Copy the clone url from the [repository's website](https://github.com/mcrovella/CS506-Computational-Tools-for-Data-Science).\n",
    "3. Clone the repository from *git*.\n",
    "```\n",
    "$ git clone https://github.com/mcrovella/CS506-Computational-Tools-for-Data-Science.git\n",
    "```\n",
    "\n",
    "You should now have a directory with the course material.\n",
    "\n",
    "To update the repository and download the **new material**, type\n",
    "```\n",
    "$ git pull\n",
    "```"
   ]
  },
  {
   "cell_type": "markdown",
   "metadata": {
    "nbpresent": {
     "id": "6c03a8ae-289c-41f0-9469-6002b0c1fc9c"
    },
    "slideshow": {
     "slide_type": "slide"
    }
   },
   "source": [
    "### Create a private homework repository"
   ]
  },
  {
   "cell_type": "markdown",
   "metadata": {
    "nbpresent": {
     "id": "9725ece4-64ba-4afb-be06-fba207bc94e8"
    },
    "slideshow": {
     "slide_type": "-"
    }
   },
   "source": [
    "Each assignment will have its own private repository, on GitHub shared only by you and the instructors.  \n",
    "\n",
    "The last commit time on the repo will be used as the submission time."
   ]
  },
  {
   "cell_type": "markdown",
   "metadata": {
    "nbpresent": {
     "id": "d8eb6fe6-100b-4b06-a69b-6b21f9e892c9"
    },
    "slideshow": {
     "slide_type": "slide"
    }
   },
   "source": [
    "## Jupyter Notebook"
   ]
  },
  {
   "cell_type": "markdown",
   "metadata": {
    "slideshow": {
     "slide_type": "fragment"
    }
   },
   "source": [
    "You should get used to developing your code _incrementally._\n",
    "\n",
    "If you typically are writing files that you then run from the command line, e.g., `python code.py`, then you are not getting one of the main benefits of working in python."
   ]
  },
  {
   "cell_type": "markdown",
   "metadata": {
    "nbpresent": {
     "id": "c32ab510-2293-4222-986a-189b33a0730a"
    },
    "slideshow": {
     "slide_type": "fragment"
    }
   },
   "source": [
    "Instead you should __interact with the interpreter.__  \n",
    "\n",
    "An ideal way to do this is to use `Jupyter notebook`.   This puts a browser front-end on `ipython`.  "
   ]
  },
  {
   "cell_type": "markdown",
   "metadata": {
    "nbpresent": {
     "id": "f8e65780-5034-4b28-b506-d5f22e28f571"
    },
    "slideshow": {
     "slide_type": "fragment"
    }
   },
   "source": [
    "In fact, these slides are actually just a Jupyter notebook.\n",
    "\n",
    "To run the Jupyter Notebook server from the command line, type ```jupyter notebook```. Your web browser will open and load the environment."
   ]
  },
  {
   "cell_type": "markdown",
   "metadata": {
    "nbpresent": {
     "id": "8bc5dd73-54f6-443d-97fd-249446d1c111"
    },
    "slideshow": {
     "slide_type": "fragment"
    }
   },
   "source": [
    "In the notebook, you can type and run code:"
   ]
  },
  {
   "cell_type": "code",
   "execution_count": 12,
   "metadata": {
    "nbpresent": {
     "id": "c82fac99-51ab-41f4-af0d-b272bee62cdc"
    },
    "slideshow": {
     "slide_type": "-"
    }
   },
   "outputs": [
    {
     "name": "stdout",
     "output_type": "stream",
     "text": [
      "whatever!\n"
     ]
    }
   ],
   "source": [
    "print(\"whatever!\")"
   ]
  },
  {
   "cell_type": "markdown",
   "metadata": {
    "slideshow": {
     "slide_type": "slide"
    }
   },
   "source": [
    "### Ideal Use of Jupyter Notebook"
   ]
  },
  {
   "cell_type": "markdown",
   "metadata": {
    "slideshow": {
     "slide_type": "fragment"
    }
   },
   "source": [
    "The Jupyter Notebook environment is beneficially used as follows:\n",
    "* Documentation Cell(s)\n",
    "* Computation Cell(s)\n",
    "* Visualization Cell(s)"
   ]
  },
  {
   "cell_type": "markdown",
   "metadata": {
    "slideshow": {
     "slide_type": "fragment"
    }
   },
   "source": [
    "For example, let's say you are studying correlation in stock prices.\n",
    "\n",
    "First, you document what you are doing:"
   ]
  },
  {
   "cell_type": "markdown",
   "metadata": {
    "slideshow": {
     "slide_type": "fragment"
    }
   },
   "source": [
    "We are interested in asking \"how similar\" are two stock prices.\n",
    "\n",
    "The tool for this purpose is __correlation__, ie, normalized covariance:\n",
    "\n",
    "$$\\rho(X,Y) = \\frac{E\\left[(X-\\mu_X)(Y-\\mu_Y)\\right]}{\\sigma_X \\sigma_Y}$$"
   ]
  },
  {
   "cell_type": "markdown",
   "metadata": {
    "slideshow": {
     "slide_type": "fragment"
    }
   },
   "source": [
    "Then, you perform the computation:"
   ]
  },
  {
   "cell_type": "code",
   "execution_count": 14,
   "metadata": {
    "slideshow": {
     "slide_type": "fragment"
    }
   },
   "outputs": [
    {
     "data": {
      "text/html": [
       "<div>\n",
       "<style scoped>\n",
       "    .dataframe tbody tr th:only-of-type {\n",
       "        vertical-align: middle;\n",
       "    }\n",
       "\n",
       "    .dataframe tbody tr th {\n",
       "        vertical-align: top;\n",
       "    }\n",
       "\n",
       "    .dataframe thead th {\n",
       "        text-align: right;\n",
       "    }\n",
       "</style>\n",
       "<table border=\"1\" class=\"dataframe\">\n",
       "  <thead>\n",
       "    <tr style=\"text-align: right;\">\n",
       "      <th></th>\n",
       "      <th>TSLA</th>\n",
       "      <th>YELP</th>\n",
       "    </tr>\n",
       "  </thead>\n",
       "  <tbody>\n",
       "    <tr>\n",
       "      <th>TSLA</th>\n",
       "      <td>1.000000</td>\n",
       "      <td>0.137742</td>\n",
       "    </tr>\n",
       "    <tr>\n",
       "      <th>YELP</th>\n",
       "      <td>0.137742</td>\n",
       "      <td>1.000000</td>\n",
       "    </tr>\n",
       "  </tbody>\n",
       "</table>\n",
       "</div>"
      ],
      "text/plain": [
       "          TSLA      YELP\n",
       "TSLA  1.000000  0.137742\n",
       "YELP  0.137742  1.000000"
      ]
     },
     "execution_count": 14,
     "metadata": {},
     "output_type": "execute_result"
    }
   ],
   "source": [
    "import pandas as pd\n",
    "import yfinance as yf\n",
    "\n",
    "stocks = ['TSLA', 'YELP']\n",
    "df = pd.DataFrame()\n",
    "for s in stocks:\n",
    "    df[s] = pd.DataFrame(yf.download(s,start='2014-01-01',end='2014-12-31', progress = False))['Close']\n",
    "\n",
    "rets = df.pct_change(30)\n",
    "\n",
    "df.corr()"
   ]
  },
  {
   "cell_type": "markdown",
   "metadata": {
    "slideshow": {
     "slide_type": "fragment"
    }
   },
   "source": [
    "Then, you visualize the results:"
   ]
  },
  {
   "cell_type": "code",
   "execution_count": 15,
   "metadata": {
    "slideshow": {
     "slide_type": "fragment"
    }
   },
   "outputs": [
    {
     "data": {
      "image/png": "[encoded data removed]",
      "text/plain": [
       "<Figure size 432x288 with 1 Axes>"
      ]
     },
     "metadata": {
      "image/png": {
       "height": 259,
       "width": 387
      },
      "needs_background": "light"
     },
     "output_type": "display_data"
    }
   ],
   "source": [
    "rets[['TSLA', 'YELP']].plot(lw=2)\n",
    "plt.legend(loc='best');"
   ]
  },
  {
   "cell_type": "markdown",
   "metadata": {
    "slideshow": {
     "slide_type": "fragment"
    }
   },
   "source": [
    "As you use the Jupyter notebook, this will become a natural cycle:\n",
    "    \n",
    "* Document\n",
    "* Compute\n",
    "* Visualize"
   ]
  }
 ],
 "metadata": {
  "anaconda-cloud": {},
  "celltoolbar": "Slideshow",
  "kernelspec": {
   "display_name": "Python 3 (ipykernel)",
   "language": "python",
   "name": "python3"
  },
  "language_info": {
   "codemirror_mode": {
    "name": "ipython",
    "version": 3
   },
   "file_extension": ".py",
   "mimetype": "text/x-python",
   "name": "python",
   "nbconvert_exporter": "python",
   "pygments_lexer": "ipython3",
   "version": "3.9.12"
  },
  "nbpresent": {
   "slides": {
    "5f3c7f98-1925-4a75-bba3-ce201e3cd531": {
     "id": "5f3c7f98-1925-4a75-bba3-ce201e3cd531",
     "prev": null,
     "regions": {
      "74a87d20-d055-4a94-b37b-d140a6e83ea5": {
       "attrs": {
        "height": 1,
        "width": 1,
        "x": 0,
        "y": 0
       },
       "content": {
        "cell": "eefcedb2-d95e-406f-adf0-a889c096010c",
        "part": "source"
       },
       "id": "74a87d20-d055-4a94-b37b-d140a6e83ea5"
      }
     }
    },
    "fd5c2b76-6eae-429d-91b6-b9669434839b": {
     "id": "fd5c2b76-6eae-429d-91b6-b9669434839b",
     "prev": "5f3c7f98-1925-4a75-bba3-ce201e3cd531",
     "regions": {
      "2ce5e167-6174-4a61-885f-66e8c39554c3": {
       "attrs": {
        "height": 1,
        "width": 1,
        "x": 0,
        "y": 0
       },
       "content": {
        "cell": "1b780b57-8164-4eca-8f25-9851ed413d12",
        "part": "source"
       },
       "id": "2ce5e167-6174-4a61-885f-66e8c39554c3"
      }
     }
    }
   },
   "themes": {}
  },
  "rise": {
   "scroll": true,
   "theme": "beige",
   "transition": "fade"
  }
 },
 "nbformat": 4,
 "nbformat_minor": 1
}
