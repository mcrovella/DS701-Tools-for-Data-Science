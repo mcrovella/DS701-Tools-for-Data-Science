{
 "cells": [
  {
   "cell_type": "code",
   "execution_count": 1,
   "metadata": {},
   "outputs": [],
   "source": [
    "import numpy as np\n",
    "import matplotlib.pyplot as plt\n",
    "import matplotlib as mp\n",
    "from IPython.display import Image, HTML\n",
    "\n",
    "%matplotlib inline"
   ]
  },
  {
   "cell_type": "markdown",
   "metadata": {},
   "source": [
    "#  NN III -- Convolutional Neural Networks"
   ]
  },
  {
   "cell_type": "markdown",
   "metadata": {},
   "source": [
    "### Live ConvNet Demo in HTML and JavaScript"
   ]
  },
  {
   "cell_type": "markdown",
   "metadata": {},
   "source": [
    "#### Live Convnet Demo in Javascript using iFrame in markdown cell.\n",
    "\n",
    "Commented out in this cell.\n",
    "\n",
    "<!--\n",
    "<iframe src=\"/conv-demo/index.html\" width=\"100%\" height=\"700px;\" style=\"border:none;\"></iframe>\n",
    "-->"
   ]
  },
  {
   "cell_type": "markdown",
   "metadata": {},
   "source": [
    "#### Using IPython.display.*"
   ]
  },
  {
   "cell_type": "code",
   "execution_count": 1,
   "metadata": {
    "scrolled": false
   },
   "outputs": [],
   "source": [
    "import IPython\n",
    "\n",
    "# src = \"conv-demo/index.html\"\n",
    "# src = \"file:///Users/tomg/Source/courses/DS701-Tools-for-Data-Science/conv-demo/index.html\"\n",
    "\n",
    "# IPython.display.IFrame(src, width=974, height=550 )"
   ]
  },
  {
   "cell_type": "code",
   "execution_count": 2,
   "metadata": {},
   "outputs": [
    {
     "data": {
      "text/html": [
       "\n",
       "<html>\n",
       "<head>\n",
       "<title>Convolution demo</title>\n",
       "\n",
       "<script type=\"text/javascript\" src=\"external/d3.min.js\"></script>\n",
       "<script type=\"text/javascript\" src=\"utils.js\"></script>\n",
       "\n",
       "<style type=\"text/css\">\n",
       "body {\n",
       "  margin: 0;\n",
       "  padding: 0;\n",
       "}\n",
       "</style>\n",
       "\n",
       "<script type=\"text/javascript\">\n",
       "\n",
       "var W1 = 7;\n",
       "var H1 = 7;\n",
       "var D1 = 3;\n",
       "\n",
       "var K = 2;\n",
       "var F = 3;\n",
       "var S = 2; // stride\n",
       "\n",
       "var cs = 25; // cell size\n",
       "\n",
       "var X = new U.Vol(W1, H1, D1); // input volume\n",
       "for(var q=0;q<X.w.length;q++) {\n",
       "  X.w[q] = Math.floor(Math.random()*3);\n",
       "  // 0 pad with P = 1\n",
       "  for(var d=0;d<X.depth;d++) {\n",
       "    for(var x=0;x<X.sx;x++) {\n",
       "      for(var y=0;y<X.sy;y++) {\n",
       "        if(x === 0 || x === (X.sx - 1) || y === 0 || y === (X.sy - 1)) {\n",
       "          X.set(x,y,d,0);\n",
       "        }\n",
       "      }  \n",
       "    }\n",
       "  }\n",
       "}\n",
       "\n",
       "var Ws = [];\n",
       "var bs = [];\n",
       "for(var k=0;k<K;k++) {\n",
       "  var W = new U.Vol(F, F, D1);\n",
       "  for(var q=0;q<W.w.length;q++) {\n",
       "    W.w[q] = Math.floor(Math.random()*3) - 1;\n",
       "  }\n",
       "  Ws.push(W);\n",
       "  var b = new U.Vol(1,1,1);\n",
       "  b.w[0] = 1 - k;\n",
       "  bs.push(b);\n",
       "}\n",
       "\n",
       "var conv_forward = function(V, Ws, bs, stride) {\n",
       "  // optimized code by @mdda that achieves 2x speedup over previous version\n",
       "  var out_sy = ((V.sy-W.sy)/stride +1);\n",
       "  var out_sx = ((V.sx-W.sx)/stride +1);\n",
       "  var A = new U.Vol(out_sx |0, out_sy |0, Ws.length |0, 0.0);\n",
       "  \n",
       "  var V_sx = V.sx |0;\n",
       "  var V_sy = V.sy |0;\n",
       "  var xy_stride = stride |0;\n",
       "\n",
       "  for(var d=0;d<Ws.length;d++) {\n",
       "    var f = Ws[d];\n",
       "    var x = 0;\n",
       "    var y = 0;\n",
       "    for(var ay=0; ay<out_sy; y+=xy_stride,ay++) {  // xy_stride\n",
       "      x = 0;\n",
       "      for(var ax=0; ax<out_sx; x+=xy_stride,ax++) {  // xy_stride\n",
       "\n",
       "        // convolve centered at this particular location\n",
       "        var a = 0.0;\n",
       "        for(var fy=0;fy<f.sy;fy++) {\n",
       "          var oy = y+fy; // coordinates in the original input array coordinates\n",
       "          for(var fx=0;fx<f.sx;fx++) {\n",
       "            var ox = x+fx;\n",
       "            if(oy>=0 && oy<V_sy && ox>=0 && ox<V_sx) {\n",
       "              for(var fd=0;fd<f.depth;fd++) {\n",
       "                // avoid function call overhead (x2) for efficiency, compromise modularity :(\n",
       "                a += f.w[((f.sx * fy)+fx)*f.depth+fd] * V.w[((V_sx * oy)+ox)*V.depth+fd];\n",
       "              }\n",
       "            }\n",
       "          }\n",
       "        }\n",
       "        a += bs[d].w[0];\n",
       "        A.set(ax, ay, d, a);\n",
       "      }\n",
       "    }\n",
       "  }\n",
       "  return A;\n",
       "}\n",
       "\n",
       "function renderVol(svg, V, xoff, yoff, col, title, vid) {\n",
       "\n",
       "  var pad = 3;\n",
       "  var dpad = 20;\n",
       "\n",
       "  var gyoff = 20;\n",
       "\n",
       "  var txt = title + ' (' + V.sx + 'x' + V.sy + 'x' + V.depth + ')';\n",
       "  // 1 padding exception\n",
       "  //if(vid === 'x') { txt = title + ' (' + (V.sx-2) + 'x' + (V.sy-2) + 'x' + V.depth + ')'; }\n",
       "\n",
       "  svg.append('text')\n",
       "    .attr('x', xoff)\n",
       "    .attr('y', yoff - 5)\n",
       "    .attr('font-size', 16)\n",
       "    .attr('fill', 'black')\n",
       "    .text(txt);\n",
       "\n",
       "  for(var d = 0; d < V.depth; d++) {\n",
       "\n",
       "    svg.append('text')\n",
       "      .attr('x', xoff)\n",
       "      .attr('y', yoff + d * (V.sy * (cs + pad) + dpad) + gyoff - 5)\n",
       "      .attr('font-size', 16)\n",
       "      .attr('fill', 'black')\n",
       "      .attr('style', 'font-family: courier;')\n",
       "      .text(vid + '[:,:,'+d+']');\n",
       "\n",
       "    for(var x = 0; x < V.sx; x++) {\n",
       "      for(var y = 0; y < V.sy; y++) {\n",
       "\n",
       "        var xcoord = xoff + x * (cs + pad);\n",
       "        var ycoord = yoff + y * (cs + pad) + d * (V.sy * (cs + pad) + dpad) + gyoff;\n",
       "\n",
       "        var thecol = col;\n",
       "        if(vid === 'x' && (x === 0 || y === 0 || x === V.sx - 1 || y === V.sy - 1)) {thecol = '#DDD';}\n",
       "\n",
       "        svg.append('rect')\n",
       "          .attr('x', xcoord)\n",
       "          .attr('y', ycoord)\n",
       "          .attr('height', cs)\n",
       "          .attr('width', cs)\n",
       "          .attr('fill', thecol)\n",
       "          .attr('stroke', 'none')\n",
       "          .attr('stroke-width', '2')\n",
       "          .attr('id', vid+'_'+x+'_'+y+'_'+d)\n",
       "          .attr('class', vid);\n",
       "\n",
       "        svg.append('text')\n",
       "          .attr('x', xcoord + 5)\n",
       "          .attr('y', ycoord + 15)\n",
       "          .attr('font-size', 16)\n",
       "          .attr('fill', 'black')\n",
       "          .text(V.get(x,y,d).toFixed(0));\n",
       "\n",
       "      }\n",
       "    }\n",
       "  }\n",
       "}\n",
       "\n",
       "function draw() {\n",
       "  var d3elt = d3.select('#draw');\n",
       "  svg = d3elt.append('svg').attr('width', '100%').attr('height', '100%')\n",
       "        .append('g').attr('transform', 'scale(1)');\n",
       "\n",
       "  var yoff = 20;\n",
       "  // render input volume\n",
       "  renderVol(svg, X, 10, yoff, '#DDF', 'Input Volume (+pad 1)', 'x');\n",
       "\n",
       "  for(var i=0;i<Ws.length;i++) {\n",
       "    // render weights\n",
       "    renderVol(svg, Ws[i], 270 + i*170, yoff, '#FDD', 'Filter W'+i, 'w'+i);\n",
       "    // render biases\n",
       "    renderVol(svg, bs[i], 270 + i*170, 350 + yoff, '#FDD', 'Bias b'+i, 'b'+i);\n",
       "  }\n",
       "\n",
       "  // render output\n",
       "  renderVol(svg, O, 600, yoff, '#DFD', 'Output Volume', 'o');\n",
       "\n",
       "  // render controls\n",
       "  \n",
       "  svg.append('text')\n",
       "    .attr('x', 520)\n",
       "    .attr('y', 470)\n",
       "    .attr('font-size', 16)\n",
       "    .attr('fill', 'black')\n",
       "    .text('toggle movement');\n",
       "  svg.append('rect')\n",
       "    .attr('x', 500)\n",
       "    .attr('y', 450)\n",
       "    .attr('height', 30)\n",
       "    .attr('width', 150)\n",
       "    .attr('fill', \"rgba(200, 200, 200, 0.1)\")\n",
       "    .attr('stroke', 'black')\n",
       "    .attr('stroke-width', '2')\n",
       "    .attr('style', 'cursor:pointer;')\n",
       "    .on('click', function() {\n",
       "      // toggle \n",
       "      if(iid === -1) {\n",
       "        iid = setInterval(focusCell, 1000);\n",
       "      } else {\n",
       "        clearInterval(iid);\n",
       "        iid = -1;\n",
       "      }\n",
       "    });\n",
       "}\n",
       "\n",
       "var fxg = 0;\n",
       "var fyg = 0;\n",
       "var fdg = 0;\n",
       "function focusCell() {\n",
       "  \n",
       "  // first unfocus all\n",
       "  for(var i=0;i<Ws.length;i++) {\n",
       "    d3.selectAll('.w'+i).attr('stroke', 'none');\n",
       "    d3.selectAll('.b'+i).attr('stroke', 'none');\n",
       "  }\n",
       "  d3.selectAll('.x').attr('stroke', 'none');\n",
       "  d3.selectAll('.o').attr('stroke', 'none');\n",
       "\n",
       "  var fx = fxg;\n",
       "  var fy = fyg;\n",
       "  var fd = fdg;\n",
       "\n",
       "  // highlight the output cell\n",
       "  var csel = d3.select('#o'+'_'+fx+'_'+fy+'_'+fd);\n",
       "  csel.attr('stroke', '#0A0');\n",
       "\n",
       "  // highlight the weights\n",
       "  d3.selectAll('.w'+fd).attr('stroke', '#A00');\n",
       "  // highlight the bias\n",
       "  d3.selectAll('.b'+fd).attr('stroke', '#A00');\n",
       "\n",
       "  d3.selectAll('.ll').remove();\n",
       "\n",
       "  // highlight the input cell\n",
       "  for(var d=0;d<D1;d++) {\n",
       "    for(var x=0;x<F;x++) {\n",
       "      for(var y=0;y<F;y++) {\n",
       "        var ix = fx * S + x;\n",
       "        var iy = fy * S + y;\n",
       "        var id = d;\n",
       "        var csel = d3.select('#x'+'_'+ix+'_'+iy+'_'+id);\n",
       "        csel.attr('stroke', '#00A');\n",
       "\n",
       "        // connect with line\n",
       "        if(x === 0 && y === 0) {\n",
       "          var wsel = d3.select('#w'+fd+'_'+x+'_'+y+'_'+d);\n",
       "          svg.append('line')\n",
       "            .attr('x1', csel.attr('x'))\n",
       "            .attr('y1', csel.attr('y'))\n",
       "            .attr('x2', wsel.attr('x'))\n",
       "            .attr('y2', wsel.attr('y'))\n",
       "            .attr('stroke', 'black')\n",
       "            .attr('stroke-width', '1')\n",
       "            .attr('class', 'll');\n",
       "        }\n",
       "        if(x === 0 && y === (F-1)) {\n",
       "          var wsel = d3.select('#w'+fd+'_'+x+'_'+y+'_'+d);\n",
       "          svg.append('line')\n",
       "            .attr('x1', csel.attr('x'))\n",
       "            .attr('y1', parseFloat(csel.attr('y')) + cs)\n",
       "            .attr('x2', wsel.attr('x'))\n",
       "            .attr('y2', parseFloat(wsel.attr('y')) + cs)\n",
       "            .attr('stroke', 'black')\n",
       "            .attr('stroke-width', '1')\n",
       "            .attr('class', 'll');\n",
       "        }\n",
       "        if(x === (F-1) && y === 0) {\n",
       "          var wsel = d3.select('#w'+fd+'_'+x+'_'+y+'_'+d);\n",
       "          svg.append('line')\n",
       "            .attr('x1', parseFloat(csel.attr('x')) + cs)\n",
       "            .attr('y1', csel.attr('y'))\n",
       "            .attr('x2', parseFloat(wsel.attr('x')) + cs)\n",
       "            .attr('y2', wsel.attr('y'))\n",
       "            .attr('stroke', 'black')\n",
       "            .attr('stroke-width', '1')\n",
       "            .attr('class', 'll');\n",
       "        }\n",
       "        if(x === (F-1) && y === (F-1)) {\n",
       "          var wsel = d3.select('#w'+fd+'_'+x+'_'+y+'_'+d);\n",
       "          svg.append('line')\n",
       "            .attr('x1', parseFloat(csel.attr('x')) + cs)\n",
       "            .attr('y1', parseFloat(csel.attr('y')) + cs)\n",
       "            .attr('x2', parseFloat(wsel.attr('x')) + cs)\n",
       "            .attr('y2', parseFloat(wsel.attr('y')) + cs)\n",
       "            .attr('stroke', 'black')\n",
       "            .attr('stroke-width', '1')\n",
       "            .attr('class', 'll');\n",
       "        }\n",
       "        \n",
       "      }\n",
       "    }\n",
       "  }\n",
       "\n",
       "  // output focus cycle\n",
       "  fxg++;\n",
       "  if(fxg >= O.sx) {\n",
       "    fxg = 0;\n",
       "    fyg++;\n",
       "    if(fyg >=O.sy) {\n",
       "      fyg = 0;\n",
       "      fdg++;\n",
       "      if(fdg >= O.depth) {\n",
       "        fdg = 0;\n",
       "      }\n",
       "    }\n",
       "  }\n",
       "\n",
       "}\n",
       "\n",
       "iid = -1;\n",
       "function start() {\n",
       "  O = conv_forward(X, Ws, bs, S);\n",
       "  draw();\n",
       "  iid = setInterval(focusCell, 1000);\n",
       "}\n",
       "\n",
       "</script>\n",
       "\n",
       "\n",
       "\n",
       "</head>\n",
       "\n",
       "<body onload=\"start()\">\n",
       "\n",
       "<div id=\"draw\">\n",
       "</div>\n",
       "\n",
       "</body>\n",
       "</html>"
      ],
      "text/plain": [
       "<IPython.core.display.HTML object>"
      ]
     },
     "execution_count": 2,
     "metadata": {},
     "output_type": "execute_result"
    }
   ],
   "source": [
    "import IPython\n",
    "\n",
    "with open(\"conv-demo/index.html\", \"r\") as f:\n",
    "    html_content = f.read()\n",
    "\n",
    "IPython.display.HTML(html_content)"
   ]
  },
  {
   "cell_type": "markdown",
   "metadata": {},
   "source": [
    "## Training a Small Image Classification Model"
   ]
  },
  {
   "cell_type": "markdown",
   "metadata": {},
   "source": [
    "We will do the following steps in order:\n",
    "\n",
    "1. Load and normalize the CIFAR10 training and test datasets using\n",
    "   ``torchvision``\n",
    "2. Define a Convolutional Neural Network\n",
    "3. Define a loss function\n",
    "4. Train the network on the training data\n",
    "5. Test the network on the test data"
   ]
  },
  {
   "cell_type": "markdown",
   "metadata": {},
   "source": [
    "https://pytorch.org/tutorials/beginner/blitz/cifar10_tutorial.html"
   ]
  },
  {
   "cell_type": "code",
   "execution_count": 4,
   "metadata": {},
   "outputs": [],
   "source": [
    "%matplotlib inline"
   ]
  },
  {
   "cell_type": "code",
   "execution_count": 5,
   "metadata": {},
   "outputs": [],
   "source": [
    "import torch\n",
    "import torchvision\n",
    "import torchvision.transforms as transforms"
   ]
  },
  {
   "cell_type": "markdown",
   "metadata": {},
   "source": [
    "### 1. Load and normalize CIFAR10"
   ]
  },
  {
   "cell_type": "code",
   "execution_count": 8,
   "metadata": {},
   "outputs": [
    {
     "name": "stdout",
     "output_type": "stream",
     "text": [
      "Files already downloaded and verified\n",
      "Files already downloaded and verified\n"
     ]
    }
   ],
   "source": [
    "transform = transforms.Compose(\n",
    "    [transforms.ToTensor(),\n",
    "     transforms.Normalize((0.5, 0.5, 0.5), (0.5, 0.5, 0.5))])\n",
    "\n",
    "batch_size = 4\n",
    "\n",
    "trainset = torchvision.datasets.CIFAR10(root='./data', train=True,\n",
    "                                        download=True, transform=transform)\n",
    "trainloader = torch.utils.data.DataLoader(trainset, batch_size=batch_size,\n",
    "                                          shuffle=True, num_workers=2)\n",
    "\n",
    "testset = torchvision.datasets.CIFAR10(root='./data', train=False,\n",
    "                                       download=True, transform=transform)\n",
    "testloader = torch.utils.data.DataLoader(testset, batch_size=batch_size,\n",
    "                                         shuffle=False, num_workers=2)\n",
    "\n",
    "classes = ('plane', 'car', 'bird', 'cat',\n",
    "           'deer', 'dog', 'frog', 'horse', 'ship', 'truck')"
   ]
  },
  {
   "cell_type": "code",
   "execution_count": null,
   "metadata": {},
   "outputs": [],
   "source": []
  },
  {
   "cell_type": "code",
   "execution_count": 9,
   "metadata": {},
   "outputs": [
    {
     "name": "stdout",
     "output_type": "stream",
     "text": [
      "['airplane', 'automobile', 'bird', 'cat', 'deer', 'dog', 'frog', 'horse', 'ship', 'truck']\n"
     ]
    }
   ],
   "source": [
    "print(trainset.classes)"
   ]
  },
  {
   "cell_type": "code",
   "execution_count": 12,
   "metadata": {},
   "outputs": [],
   "source": [
    "#import torch\n",
    "#from torchvision import datasets, transforms\n",
    "\n",
    "# Define a transform to normalize the data\n",
    "transform = transforms.Compose([transforms.ToTensor(),\n",
    "                                transforms.Normalize((0.5,), (0.5,))])\n",
    "\n",
    "batch_size = 64\n",
    "\n",
    "# Download and load the training data\n",
    "trainset = torchvision.datasets.MNIST('./data/MNIST_data/', download=True,\n",
    "                                    train=True, transform=transform)\n",
    "trainloader = torch.utils.data.DataLoader(trainset, batch_size=batch_size, \n",
    "                                          shuffle=True)\n",
    "\n",
    "# Download and load the test data\n",
    "testset = torchvision.datasets.MNIST('./data/MNIST_data/', download=True,\n",
    "                                    train=False, transform=transform)\n",
    "testloader = torch.utils.data.DataLoader(testset, batch_size=batch_size, \n",
    "                                         shuffle=True)"
   ]
  },
  {
   "cell_type": "code",
   "execution_count": 11,
   "metadata": {},
   "outputs": [
    {
     "name": "stdout",
     "output_type": "stream",
     "text": [
      "['0 - zero', '1 - one', '2 - two', '3 - three', '4 - four', '5 - five', '6 - six', '7 - seven', '8 - eight', '9 - nine']\n"
     ]
    }
   ],
   "source": [
    "print(trainset.classes)"
   ]
  },
  {
   "cell_type": "code",
   "execution_count": 22,
   "metadata": {},
   "outputs": [
    {
     "data": {
      "image/png": "[encoded data removed]",
      "text/plain": [
       "<Figure size 640x480 with 1 Axes>"
      ]
     },
     "metadata": {},
     "output_type": "display_data"
    },
    {
     "name": "stdout",
     "output_type": "stream",
     "text": [
      "2 - two 3 - three 1 - one 8 - eight 2 - two 6 - six 8 - eight 6 - six 2 - two 9 - nine 9 - nine 2 - two 7 - seven 5 - five 6 - six 8 - eight 2 - two 3 - three 8 - eight 2 - two 3 - three 2 - two 2 - two 7 - seven 2 - two 8 - eight 3 - three 3 - three 7 - seven 0 - zero 3 - three 8 - eight 0 - zero 3 - three 7 - seven 1 - one 4 - four 0 - zero 9 - nine 9 - nine 4 - four 5 - five 7 - seven 3 - three 5 - five 8 - eight 0 - zero 8 - eight 9 - nine 4 - four 6 - six 7 - seven 5 - five 8 - eight 3 - three 0 - zero 3 - three 7 - seven 0 - zero 6 - six 3 - three 6 - six 8 - eight 8 - eight\n"
     ]
    }
   ],
   "source": [
    "import matplotlib.pyplot as plt\n",
    "import numpy as np\n",
    "\n",
    "# functions to show an image\n",
    "\n",
    "\n",
    "def imshow(img):\n",
    "    img = img / 2 + 0.5     # unnormalize\n",
    "    npimg = img.numpy()\n",
    "    plt.imshow(np.transpose(npimg, (1, 2, 0)))\n",
    "    plt.show()\n",
    "\n",
    "\n",
    "# get some random training images\n",
    "dataiter = iter(trainloader)\n",
    "images, labels = next(dataiter)\n",
    "\n",
    "# show images\n",
    "imshow(torchvision.utils.make_grid(images))\n",
    "# print labels\n",
    "print(' '.join(f'{trainset.classes[labels[j]]:5s}' for j in range(batch_size)))"
   ]
  },
  {
   "cell_type": "code",
   "execution_count": 16,
   "metadata": {},
   "outputs": [
    {
     "name": "stdout",
     "output_type": "stream",
     "text": [
      "0 - zero 1 - one 4 - four 0 - zero 4 - four 5 - five 3 - three 7 - seven\n",
      "4 - four 5 - five 3 - three 3 - three 1 - one 5 - five 2 - two 6 - six\n",
      "4 - four 1 - one 8 - eight 4 - four 4 - four 4 - four 2 - two 7 - seven\n",
      "7 - seven 1 - one 7 - seven 4 - four 3 - three 3 - three 7 - seven 6 - six\n",
      "5 - five 4 - four 3 - three 0 - zero 7 - seven 7 - seven 3 - three 5 - five\n",
      "6 - six 1 - one 3 - three 3 - three 1 - one 9 - nine 1 - one 4 - four\n",
      "3 - three 7 - seven 6 - six 1 - one 1 - one 3 - three 8 - eight 1 - one\n",
      "0 - zero 2 - two 7 - seven 5 - five 3 - three 7 - seven 9 - nine 3 - three\n"
     ]
    }
   ],
   "source": [
    "# Assuming batch_size is 64 and images are displayed in an 8x8 grid\n",
    "for i in range(8):\n",
    "    print(' '.join(f'{trainset.classes[labels[j]]:5s}' for j in range(i * 8, (i + 1) * 8)))"
   ]
  },
  {
   "cell_type": "markdown",
   "metadata": {},
   "source": [
    "### 2. Define a Convolutional Neural Network\n"
   ]
  },
  {
   "cell_type": "code",
   "execution_count": 8,
   "metadata": {},
   "outputs": [],
   "source": [
    "# network for CIFAR10 from PyTorch tutorial\n",
    "import torch.nn as nn\n",
    "import torch.nn.functional as F\n",
    "\n",
    "\n",
    "class Net(nn.Module):\n",
    "    def __init__(self):\n",
    "        super().__init__()\n",
    "        self.conv1 = nn.Conv2d(3, 6, 5)\n",
    "        self.pool = nn.MaxPool2d(2, 2)\n",
    "        self.conv2 = nn.Conv2d(6, 16, 5)\n",
    "        self.fc1 = nn.Linear(16 * 5 * 5, 120)\n",
    "        self.fc2 = nn.Linear(120, 84)\n",
    "        self.fc3 = nn.Linear(84, 10)\n",
    "\n",
    "    def forward(self, x):\n",
    "        x = self.pool(F.relu(self.conv1(x)))\n",
    "        x = self.pool(F.relu(self.conv2(x)))\n",
    "        x = torch.flatten(x, 1) # flatten all dimensions except batch\n",
    "        x = F.relu(self.fc1(x))\n",
    "        x = F.relu(self.fc2(x))\n",
    "        x = self.fc3(x)\n",
    "        return x\n",
    "\n",
    "\n",
    "net = Net()"
   ]
  },
  {
   "cell_type": "code",
   "execution_count": null,
   "metadata": {},
   "outputs": [],
   "source": [
    "# network for CIFAR10 as proposed by CoPilot\n",
    "import torch.nn as nn\n",
    "import torch.nn.functional as F\n",
    "\n",
    "class Net(nn.Module):\n",
    "    def __init__(self):\n",
    "        super(Net, self).__init__()\n",
    "        self.conv1 = nn.Conv2d(3, 32, 3, 1)\n",
    "        self.conv2 = nn.Conv2d(32, 64, 3, 1)\n",
    "        self.dropout1 = nn.Dropout2d(0.25)\n",
    "        self.dropout2 = nn.Dropout2d(0.5)\n",
    "        self.fc1 = nn.Linear(576, 128)\n",
    "        self.fc2 = nn.Linear(128, 10)\n",
    "\n",
    "    def forward(self, x):\n",
    "        x = self.conv1(x)\n",
    "        x = F.relu(x)\n",
    "        x = self.conv2(x)\n",
    "        x = F.relu(x)\n",
    "        x = F.max_pool2d(x, 2)\n",
    "        x = self.dropout1(x)\n",
    "        x = torch.flatten(x, 1)\n",
    "        x = self.fc1(x)\n",
    "        x = F.relu(x)\n",
    "        x = self.dropout2(x)\n",
    "        x = self.fc2(x)\n",
    "        output = F.log_softmax(x, dim=1)\n",
    "        return output\n",
    "\n",
    "net = Net()"
   ]
  },
  {
   "cell_type": "code",
   "execution_count": 23,
   "metadata": {},
   "outputs": [],
   "source": [
    "# network for MNIST\n",
    "import torch\n",
    "from torch import nn\n",
    "\n",
    "class Net(nn.Module):\n",
    "    def __init__(self):\n",
    "        super(Net, self).__init__()\n",
    "        self.conv1 = nn.Conv2d(1, 32, 3, 1)\n",
    "        self.conv2 = nn.Conv2d(32, 64, 3, 1)\n",
    "        self.dropout1 = nn.Dropout2d(0.25)\n",
    "        self.dropout2 = nn.Dropout2d(0.5)\n",
    "        self.fc1 = nn.Linear(9216, 128)\n",
    "        self.fc2 = nn.Linear(128, 10)\n",
    "\n",
    "    def forward(self, x):\n",
    "        x = self.conv1(x)\n",
    "        x = nn.functional.relu(x)\n",
    "        x = self.conv2(x)\n",
    "        x = nn.functional.relu(x)\n",
    "        x = nn.functional.max_pool2d(x, 2)\n",
    "        x = self.dropout1(x)\n",
    "        x = torch.flatten(x, 1)\n",
    "        x = self.fc1(x)\n",
    "        x = nn.functional.relu(x)\n",
    "        x = self.dropout2(x)\n",
    "        x = self.fc2(x)\n",
    "        output = nn.functional.log_softmax(x, dim=1)\n",
    "        return output"
   ]
  },
  {
   "cell_type": "markdown",
   "metadata": {},
   "source": [
    "### 3. Define a Loss function and optimizer\n",
    "We'll use a Classification Cross-Entropy loss and SGD with momentum."
   ]
  },
  {
   "cell_type": "code",
   "execution_count": 9,
   "metadata": {},
   "outputs": [],
   "source": [
    "import torch.optim as optim\n",
    "\n",
    "criterion = nn.CrossEntropyLoss()\n",
    "optimizer = optim.SGD(net.parameters(), lr=0.001, momentum=0.9)"
   ]
  },
  {
   "cell_type": "markdown",
   "metadata": {},
   "source": [
    "### 4. Train the network"
   ]
  },
  {
   "cell_type": "code",
   "execution_count": 10,
   "metadata": {},
   "outputs": [
    {
     "name": "stdout",
     "output_type": "stream",
     "text": [
      "[1,  2000] loss: 2.152\n",
      "[1,  4000] loss: 1.831\n",
      "[1,  6000] loss: 1.647\n",
      "[1,  8000] loss: 1.560\n",
      "[1, 10000] loss: 1.507\n",
      "[1, 12000] loss: 1.458\n",
      "[2,  2000] loss: 1.391\n",
      "[2,  4000] loss: 1.372\n",
      "[2,  6000] loss: 1.339\n",
      "[2,  8000] loss: 1.288\n",
      "[2, 10000] loss: 1.294\n",
      "[2, 12000] loss: 1.283\n",
      "Finished Training\n"
     ]
    }
   ],
   "source": [
    "for epoch in range(2):  # loop over the dataset multiple times\n",
    "\n",
    "    running_loss = 0.0\n",
    "    for i, data in enumerate(trainloader, 0):\n",
    "        # get the inputs; data is a list of [inputs, labels]\n",
    "        inputs, labels = data\n",
    "\n",
    "        # zero the parameter gradients\n",
    "        optimizer.zero_grad()\n",
    "\n",
    "        # forward + backward + optimize\n",
    "        outputs = net(inputs)\n",
    "        loss = criterion(outputs, labels)\n",
    "        loss.backward()\n",
    "        optimizer.step()\n",
    "\n",
    "        # print statistics\n",
    "        running_loss += loss.item()\n",
    "        if i % 2000 == 1999:    # print every 2000 mini-batches\n",
    "            print(f'[{epoch + 1}, {i + 1:5d}] loss: {running_loss / 2000:.3f}')\n",
    "            running_loss = 0.0\n",
    "\n",
    "print('Finished Training')"
   ]
  },
  {
   "cell_type": "markdown",
   "metadata": {},
   "source": [
    "Not necessary, but we save the network to storage."
   ]
  },
  {
   "cell_type": "code",
   "execution_count": 11,
   "metadata": {},
   "outputs": [],
   "source": [
    "PATH = './cifar_net.pth'\n",
    "torch.save(net.state_dict(), PATH)"
   ]
  },
  {
   "cell_type": "markdown",
   "metadata": {},
   "source": [
    "Display some of the images from the test set with the ground truth labels."
   ]
  },
  {
   "cell_type": "code",
   "execution_count": 12,
   "metadata": {},
   "outputs": [
    {
     "data": {
      "image/png": "[encoded data removed]",
      "text/plain": [
       "<Figure size 640x480 with 1 Axes>"
      ]
     },
     "metadata": {},
     "output_type": "display_data"
    },
    {
     "name": "stdout",
     "output_type": "stream",
     "text": [
      "GroundTruth:  cat   ship  ship  plane\n"
     ]
    }
   ],
   "source": [
    "dataiter = iter(testloader)\n",
    "images, labels = next(dataiter)\n",
    "\n",
    "# print images\n",
    "imshow(torchvision.utils.make_grid(images))\n",
    "print('GroundTruth: ', ' '.join(f'{classes[labels[j]]:5s}' for j in range(4)))"
   ]
  },
  {
   "cell_type": "markdown",
   "metadata": {},
   "source": [
    "We'll load the model back from storage, which is not strictly necessary since it\n",
    "is still in memory, but for illustration purposes."
   ]
  },
  {
   "cell_type": "code",
   "execution_count": 13,
   "metadata": {},
   "outputs": [
    {
     "data": {
      "text/plain": [
       "<All keys matched successfully>"
      ]
     },
     "execution_count": 13,
     "metadata": {},
     "output_type": "execute_result"
    }
   ],
   "source": [
    "net = Net()\n",
    "net.load_state_dict(torch.load(PATH))"
   ]
  },
  {
   "cell_type": "markdown",
   "metadata": {},
   "source": [
    "Let's run inference (forward pass) on the model to get numeric outputs."
   ]
  },
  {
   "cell_type": "code",
   "execution_count": 14,
   "metadata": {},
   "outputs": [],
   "source": [
    "outputs = net(images)"
   ]
  },
  {
   "cell_type": "markdown",
   "metadata": {},
   "source": [
    "Get the index of the element with highest value and print the label \n",
    "associated with that index."
   ]
  },
  {
   "cell_type": "code",
   "execution_count": 15,
   "metadata": {},
   "outputs": [
    {
     "name": "stdout",
     "output_type": "stream",
     "text": [
      "Predicted:  cat   ship  car   ship \n"
     ]
    }
   ],
   "source": [
    "_, predicted = torch.max(outputs, 1)\n",
    "\n",
    "print('Predicted: ', ' '.join(f'{classes[predicted[j]]:5s}'\n",
    "                              for j in range(4)))"
   ]
  },
  {
   "cell_type": "markdown",
   "metadata": {},
   "source": [
    "Evaluate over the entire test set."
   ]
  },
  {
   "cell_type": "code",
   "execution_count": 16,
   "metadata": {},
   "outputs": [
    {
     "name": "stdout",
     "output_type": "stream",
     "text": [
      "Accuracy of the network on the 10000 test images: 55 %\n"
     ]
    }
   ],
   "source": [
    "correct = 0\n",
    "total = 0\n",
    "# since we're not training, we don't need to calculate the gradients for our outputs\n",
    "with torch.no_grad():\n",
    "    for data in testloader:\n",
    "        images, labels = data\n",
    "        # calculate outputs by running images through the network\n",
    "        outputs = net(images)\n",
    "        # the class with the highest energy is what we choose as prediction\n",
    "        _, predicted = torch.max(outputs.data, 1)\n",
    "        total += labels.size(0)\n",
    "        correct += (predicted == labels).sum().item()\n",
    "\n",
    "print(f'Accuracy of the network on the 10000 test images: {100 * correct // total} %')"
   ]
  },
  {
   "cell_type": "markdown",
   "metadata": {},
   "source": [
    "Evaluate the performance per class."
   ]
  },
  {
   "cell_type": "code",
   "execution_count": 17,
   "metadata": {},
   "outputs": [
    {
     "name": "stdout",
     "output_type": "stream",
     "text": [
      "Accuracy for class: plane is 44.6 %\n",
      "Accuracy for class: car   is 72.7 %\n",
      "Accuracy for class: bird  is 43.4 %\n",
      "Accuracy for class: cat   is 30.7 %\n",
      "Accuracy for class: deer  is 51.5 %\n",
      "Accuracy for class: dog   is 38.4 %\n",
      "Accuracy for class: frog  is 59.7 %\n",
      "Accuracy for class: horse is 63.6 %\n",
      "Accuracy for class: ship  is 80.5 %\n",
      "Accuracy for class: truck is 70.2 %\n"
     ]
    }
   ],
   "source": [
    "# prepare to count predictions for each class\n",
    "correct_pred = {classname: 0 for classname in classes}\n",
    "total_pred = {classname: 0 for classname in classes}\n",
    "\n",
    "# again no gradients needed\n",
    "with torch.no_grad():\n",
    "    for data in testloader:\n",
    "        images, labels = data\n",
    "        outputs = net(images)\n",
    "        _, predictions = torch.max(outputs, 1)\n",
    "        # collect the correct predictions for each class\n",
    "        for label, prediction in zip(labels, predictions):\n",
    "            if label == prediction:\n",
    "                correct_pred[classes[label]] += 1\n",
    "            total_pred[classes[label]] += 1\n",
    "\n",
    "\n",
    "# print accuracy for each class\n",
    "for classname, correct_count in correct_pred.items():\n",
    "    accuracy = 100 * float(correct_count) / total_pred[classname]\n",
    "    print(f'Accuracy for class: {classname:5s} is {accuracy:.1f} %')"
   ]
  },
  {
   "cell_type": "markdown",
   "metadata": {
    "slideshow": {
     "slide_type": "slide"
    }
   },
   "source": [
    "## Convolutional Neural Networks"
   ]
  },
  {
   "cell_type": "markdown",
   "metadata": {
    "slideshow": {
     "slide_type": "subslide"
    }
   },
   "source": [
    "### Example with 1-D Input Data"
   ]
  },
  {
   "cell_type": "markdown",
   "metadata": {},
   "source": [
    "In _convolutional neural networks_, we define a set of weights that we move across\n",
    "the input data."
   ]
  },
  {
   "cell_type": "markdown",
   "metadata": {},
   "source": [
    "<!-- Image Credit \"https://udlbook.github.io/udlbook/\"-->\n",
    "<center>\n",
    "<img src=\"figs/NN-figs/L25-conv04.png\" height=\"75%\">\n",
    "</center> \n",
    "\n",
    "Example with 3 weights and input of length 6.\n",
    "\n",
    "For figure (a), we calculate \n",
    "\n",
    "$$ z_2 = \\omega_1 x_1 + \\omega_2 x_2 + \\omega_3 x_3 $$"
   ]
  },
  {
   "cell_type": "markdown",
   "metadata": {
    "slideshow": {
     "slide_type": "subslide"
    }
   },
   "source": [
    "<!-- Image Credit \"https://udlbook.github.io/udlbook/\"-->\n",
    "<center>    \n",
    "<img src=\"figs/NN-figs/L25-conv05.png\" height=\"75%\">\n",
    "</center> \n",
    "\n",
    "To calculate $z_2$, we shift the weights over 1 place (figure (b)) and then\n",
    "weight and sum the inputs. We can generalize the equation slightly.\n",
    "\n",
    "$$ z_i = \\omega_1 x_{i - 1} + \\omega_2 x_i + \\omega_3 x_{i+1} $$"
   ]
  },
  {
   "cell_type": "markdown",
   "metadata": {
    "slideshow": {
     "slide_type": "fragment"
    }
   },
   "source": [
    "But what do we do about $z_1$?"
   ]
  },
  {
   "cell_type": "markdown",
   "metadata": {
    "slideshow": {
     "slide_type": "subslide"
    }
   },
   "source": [
    "<!-- Image Credit \"https://udlbook.github.io/udlbook/\"-->\n",
    "\n",
    "<center>\n",
    "<img src=\"figs/NN-figs/L25-conv06.png\" height=\"75%\">\n",
    "</center> \n",
    "\n",
    "We can calculate $z_1$ by _padding_ our input data. In figure (c), we\n",
    "simply add $0$, which means we can now calculate $z_1$."
   ]
  },
  {
   "cell_type": "markdown",
   "metadata": {
    "slideshow": {
     "slide_type": "subslide"
    }
   },
   "source": [
    "<!-- Image Credit \"https://udlbook.github.io/udlbook/\"-->\n",
    "<center>    \n",
    "<img src=\"figs/NN-figs/L25-conv07.png\" height=\"75%\">\n",
    "</center> \n",
    "\n",
    "Alternatively, we can just reduce the size of the output, by only calculating where\n",
    "we have _valid_ input data, as in figure (d).\n",
    "\n",
    "For 1-D data, this reduces the output size by 1 at the beginning and end of the\n",
    "data, so by 2 overall for length-3 filter."
   ]
  },
  {
   "cell_type": "markdown",
   "metadata": {},
   "source": [
    "<!-- Image Credit \"https://udlbook.github.io/udlbook/\"-->\n",
    "<center>    \n",
    "<img src=\"figs/NN-figs/L25-conv-fig10-3.png\" height=\"75%\">\n",
    "</center> "
   ]
  },
  {
   "cell_type": "markdown",
   "metadata": {},
   "source": [
    "There are a few design choices one can make with convolution layers, such as:\n",
    "\n",
    "1. _filter length_, e.g. size 3 in figures (a) and (b)\n",
    "2. _stride_, which is how much you shift to calculate the next output. Common values are\n",
    "    1. _stride 1_ as we saw in the previous examples and in figures (c) and (d)\n",
    "    2. _stride 2_, where you shift by 2 instead of 1, an effectively halve the size of the output as in figures (a) and (b)\n",
    "3. _dilation_, where you expand the filter as in figure (d)"
   ]
  },
  {
   "cell_type": "markdown",
   "metadata": {},
   "source": [
    "### 2D Convolution"
   ]
  },
  {
   "cell_type": "markdown",
   "metadata": {},
   "source": [
    "For images and video frames we use a two-dimensional convolution\n",
    "(called `conv2d` in PyTorch) which is an extension of the 1-D\n",
    "convolution as shown in the following illustration."
   ]
  },
  {
   "cell_type": "markdown",
   "metadata": {},
   "source": [
    "(iFrame markdown commented out)\n",
    "<!--\n",
    "<iframe src=\"conv-demo/index.html\" width=\"100%\" height=\"700px;\" style=\"border:none;\"></iframe>\n",
    "-->"
   ]
  },
  {
   "cell_type": "code",
   "execution_count": 3,
   "metadata": {},
   "outputs": [],
   "source": [
    "import IPython\n",
    "\n",
    "# src = \"conv-demo/index.html\"\n",
    "# src = \"file:///Users/tomg/Source/courses/DS701-Tools-for-Data-Science/conv-demo/index.html\"\n",
    "\n",
    "# IPython.display.IFrame(src, width=974, height=550 )"
   ]
  },
  {
   "cell_type": "markdown",
   "metadata": {},
   "source": [
    "<!-- Image Credit \"https://udlbook.github.io/udlbook/\"-->\n",
    "<center>    \n",
    "<img src=\"figs/NN-figs/L25-conv-2d.png\" height=\"50%\">\n",
    "</center> "
   ]
  },
  {
   "cell_type": "markdown",
   "metadata": {},
   "source": [
    "## Batches and Stochastic Gradient Descent"
   ]
  },
  {
   "cell_type": "markdown",
   "metadata": {},
   "source": [
    "Illustrate with the dataloader iterable...\n",
    "\n",
    "Mention how SGD can improve optimization..."
   ]
  },
  {
   "cell_type": "markdown",
   "metadata": {},
   "source": []
  }
 ],
 "metadata": {
  "celltoolbar": "Slideshow",
  "colab": {
   "provenance": [],
   "toc_visible": true
  },
  "kernelspec": {
   "display_name": "Python 3 (ipykernel)",
   "language": "python",
   "name": "python3"
  },
  "language_info": {
   "codemirror_mode": {
    "name": "ipython",
    "version": 3
   },
   "file_extension": ".py",
   "mimetype": "text/x-python",
   "name": "python",
   "nbconvert_exporter": "python",
   "pygments_lexer": "ipython3",
   "version": "3.9.18"
  }
 },
 "nbformat": 4,
 "nbformat_minor": 1
}
