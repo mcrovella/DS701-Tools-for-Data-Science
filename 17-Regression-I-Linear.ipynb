{
 "cells": [
  {
   "cell_type": "code",
   "execution_count": 1,
   "metadata": {
    "hide_input": true,
    "internals": {},
    "slideshow": {
     "slide_type": "skip"
    },
    "tags": [
     "hide-cell"
    ]
   },
   "outputs": [],
   "source": [
    "import numpy as np\n",
    "import scipy as sp\n",
    "import matplotlib.pyplot as plt\n",
    "import pandas as pd\n",
    "import seaborn as sns\n",
    "import matplotlib as mp\n",
    "import sklearn\n",
    "from IPython.display import Image, HTML\n",
    "\n",
    "import laUtilities as ut\n",
    "\n",
    "%matplotlib inline\n",
    "\n",
    "import statsmodels.api as sm\n",
    "\n",
    "def centerAxes(ax):\n",
    "    ax.spines['left'].set_position('zero')\n",
    "    ax.spines['right'].set_color('none')\n",
    "    ax.spines['bottom'].set_position('zero')\n",
    "    ax.spines['top'].set_color('none')\n",
    "    ax.xaxis.set_ticks_position('bottom')\n",
    "    ax.yaxis.set_ticks_position('left')\n",
    "    bounds = np.array([ax.axes.get_xlim(), ax.axes.get_ylim()])\n",
    "    ax.plot(bounds[0][0],bounds[1][0],'')\n",
    "    ax.plot(bounds[0][1],bounds[1][1],'')"
   ]
  },
  {
   "cell_type": "markdown",
   "metadata": {
    "hide_input": true,
    "internals": {
     "slide_type": "subslide"
    },
    "slideshow": {
     "slide_type": "slide"
    }
   },
   "source": [
    "# Linear Regression"
   ]
  },
  {
   "cell_type": "markdown",
   "metadata": {
    "slideshow": {
     "slide_type": "fragment"
    },
    "tags": [
     "hide-input"
    ]
   },
   "source": [
    "<img src=\"figs/Sir_Francis_Galton_by_Charles_Wellington_Furse.jpg\" alt=\"Figure\" width=\"45%\">"
   ]
  },
  {
   "cell_type": "code",
   "execution_count": 2,
   "metadata": {
    "hide_input": true,
    "tags": [
     "hide-input"
    ]
   },
   "outputs": [
    {
     "data": {
      "text/html": [
       "<a href=\"https://commons.wikimedia.org/wiki/File:Sir_Francis_Galton_by_Charles_Wellington_Furse.jpg#/media/File:Sir_Francis_Galton_by_Charles_Wellington_Furse.jpg\">Sir Francis Galton by Charles Wellington Furse</a> by Charles Wellington Furse (died 1904) - <a href=\"//en.wikipedia.org/wiki/National_Portrait_Gallery,_London\" class=\"extiw\" title=\"en:National Portrait Gallery, London\">National Portrait Gallery</a>: <a rel=\"nofollow\" class=\"external text\" href=\"http://www.npg.org.uk/collections/search/portrait.php?search=ap&amp;npgno=3916&amp;eDate=&amp;lDate=\">NPG 3916</a>"
      ],
      "text/plain": [
       "<IPython.core.display.HTML object>"
      ]
     },
     "execution_count": 2,
     "metadata": {},
     "output_type": "execute_result"
    }
   ],
   "source": [
    "HTML(u'<a href=\"https://commons.wikimedia.org/wiki/File:Sir_Francis_Galton_by_Charles_Wellington_Furse.jpg#/media/File:Sir_Francis_Galton_by_Charles_Wellington_Furse.jpg\">Sir Francis Galton by Charles Wellington Furse</a> by Charles Wellington Furse (died 1904) - <a href=\"//en.wikipedia.org/wiki/National_Portrait_Gallery,_London\" class=\"extiw\" title=\"en:National Portrait Gallery, London\">National Portrait Gallery</a>: <a rel=\"nofollow\" class=\"external text\" href=\"http://www.npg.org.uk/collections/search/portrait.php?search=ap&amp;npgno=3916&amp;eDate=&amp;lDate=\">NPG 3916</a>')"
   ]
  },
  {
   "cell_type": "markdown",
   "metadata": {
    "slideshow": {
     "slide_type": "slide"
    }
   },
   "source": [
    "<img src=\"figs/galton-title.png\" alt=\"Figure\" width=\"55%\">"
   ]
  },
  {
   "cell_type": "markdown",
   "metadata": {},
   "source": [
    "In 1886 Francis Galton published his observations about how random factors affect outliers.\n",
    "\n",
    "This notion has come to be called \"regression to the mean\" because unusually large or small phenomena, after the influence of random events, become closer to their mean values (less extreme)."
   ]
  },
  {
   "cell_type": "markdown",
   "metadata": {
    "slideshow": {
     "slide_type": "fragment"
    }
   },
   "source": [
    "<img src=\"figs/galton-regression.png\" alt=\"Figure\" width=\"55%\">"
   ]
  },
  {
   "cell_type": "markdown",
   "metadata": {},
   "source": [
    "Galton fit a straight line to this effect, and the fitting of lines or curves to data has come to be called regression as well."
   ]
  },
  {
   "cell_type": "markdown",
   "metadata": {
    "slideshow": {
     "slide_type": "fragment"
    }
   },
   "source": [
    "The most common form of machine learning is __regression__, which means constructing an equation that describes the relationships among variables.\n",
    "\n",
    "It is a form of supervised learning: whereas __classification__ deals with predicting categorical features (labels or classes), __regression__ deals with predicting continuous features (real values)."
   ]
  },
  {
   "cell_type": "markdown",
   "metadata": {
    "slideshow": {
     "slide_type": "slide"
    }
   },
   "source": [
    "For example, we may look at these points and decide to model them using a line."
   ]
  },
  {
   "cell_type": "code",
   "execution_count": 3,
   "metadata": {
    "hide_input": true,
    "tags": [
     "hide-input"
    ]
   },
   "outputs": [
    {
     "data": {
      "image/png": "[encoded data removed]",
      "text/plain": [
       "<Figure size 504x504 with 1 Axes>"
      ]
     },
     "metadata": {
      "needs_background": "light"
     },
     "output_type": "display_data"
    }
   ],
   "source": [
    "ax = plt.figure(figsize = (7, 7)).add_subplot()\n",
    "centerAxes(ax)\n",
    "line = np.array([1, 0.5])\n",
    "xlin = -10.0 + 20.0 * np.random.random(100)\n",
    "ylin = line[0] + (line[1] * xlin) + np.random.randn(100)\n",
    "ax.plot(xlin, ylin, 'ro', markersize = 4);"
   ]
  },
  {
   "cell_type": "markdown",
   "metadata": {
    "slideshow": {
     "slide_type": "fragment"
    }
   },
   "source": [
    "We may look at these points and decide to model them using a quadratic function."
   ]
  },
  {
   "cell_type": "code",
   "execution_count": 4,
   "metadata": {
    "hide_input": true,
    "tags": [
     "hide-input"
    ]
   },
   "outputs": [
    {
     "data": {
      "image/png": "[encoded data removed]",
      "text/plain": [
       "<Figure size 504x504 with 1 Axes>"
      ]
     },
     "metadata": {
      "needs_background": "light"
     },
     "output_type": "display_data"
    }
   ],
   "source": [
    "ax = plt.figure(figsize = (7, 7)).add_subplot()\n",
    "centerAxes(ax)\n",
    "quad = np.array([1, 3, 0.5])\n",
    "xquad = -10.0 + 20.0 * np.random.random(100)\n",
    "yquad = quad[0] + (quad[1] * xquad) + (quad[2] * xquad * xquad) + np.random.randn(100)\n",
    "ax.plot(xquad, yquad, 'ro', markersize = 4);"
   ]
  },
  {
   "cell_type": "markdown",
   "metadata": {
    "slideshow": {
     "slide_type": "fragment"
    }
   },
   "source": [
    "And we may look at these points and decide to model them using a logarithmic function."
   ]
  },
  {
   "cell_type": "code",
   "execution_count": 5,
   "metadata": {
    "hide_input": true,
    "tags": [
     "hide-input"
    ]
   },
   "outputs": [
    {
     "data": {
      "image/png": "[encoded data removed]",
      "text/plain": [
       "<Figure size 504x504 with 1 Axes>"
      ]
     },
     "metadata": {
      "needs_background": "light"
     },
     "output_type": "display_data"
    }
   ],
   "source": [
    "ax = plt.figure(figsize = (7, 7)).add_subplot()\n",
    "centerAxes(ax)\n",
    "log = np.array([1, 4])\n",
    "xlog = 10.0 * np.random.random(100)\n",
    "ylog = log[0] + log[1] * np.log(xlog) + np.random.randn(100)\n",
    "ax.plot(xlog, ylog, 'ro', markersize=4);"
   ]
  },
  {
   "cell_type": "markdown",
   "metadata": {
    "slideshow": {
     "slide_type": "fragment"
    }
   },
   "source": [
    "Clearly, none of these datasets agrees perfectly with the proposed model.   So the question arises:\n",
    "\n",
    "How do we find the __best__ linear function (or quadratic function, or logarithmic function) given the data?"
   ]
  },
  {
   "cell_type": "markdown",
   "metadata": {
    "slideshow": {
     "slide_type": "slide"
    }
   },
   "source": [
    "__Framework.__\n",
    "\n",
    "This problem has been studied extensively in the field of statistics.   Certain terminology is used:\n",
    "\n",
    "* Some values are referred to as \"independent,\" and\n",
    "* Some values are referred to as \"dependent.\""
   ]
  },
  {
   "cell_type": "markdown",
   "metadata": {
    "slideshow": {
     "slide_type": "fragment"
    }
   },
   "source": [
    "The basic regression task is: \n",
    "* given a set of independent variables \n",
    "* and the associated dependent variables, \n",
    "* estimate the parameters of a model (such as a line, parabola, etc) that describes how the dependent variables are related to the independent variables."
   ]
  },
  {
   "cell_type": "markdown",
   "metadata": {
    "slideshow": {
     "slide_type": "fragment"
    }
   },
   "source": [
    "The independent variables are collected into a matrix $X,$ which is called the __design matrix.__\n",
    "\n",
    "The dependent variables are collected into an __observation__ vector $\\mathbf{y}.$\n",
    "\n",
    "The parameters of the model (for any kind of model) are collected into a __parameter__ vector $\\mathbf{\\beta}.$"
   ]
  },
  {
   "cell_type": "code",
   "execution_count": 6,
   "metadata": {
    "hide_input": true,
    "slideshow": {
     "slide_type": "skip"
    },
    "tags": [
     "hide-input"
    ]
   },
   "outputs": [
    {
     "data": {
      "image/png": "[encoded data removed]",
      "text/plain": [
       "<Figure size 504x504 with 1 Axes>"
      ]
     },
     "metadata": {
      "needs_background": "light"
     },
     "output_type": "display_data"
    }
   ],
   "source": [
    "ax = plt.figure(figsize = (7, 7)).add_subplot()\n",
    "centerAxes(ax)\n",
    "line = np.array([1, 0.5])\n",
    "xlin = -10.0 + 20.0 * np.random.random(100)\n",
    "ylin = line[0] + (line[1] * xlin) + np.random.randn(100)\n",
    "ax.plot(xlin, ylin, 'ro', markersize = 4)\n",
    "ax.plot(xlin, line[0] + line[1] * xlin, 'b-')\n",
    "plt.text(-9, 3, r'$y = \\beta_0 + \\beta_1x$', size=20);"
   ]
  },
  {
   "cell_type": "markdown",
   "metadata": {
    "slideshow": {
     "slide_type": "slide"
    }
   },
   "source": [
    "## Least-Squares Lines"
   ]
  },
  {
   "cell_type": "markdown",
   "metadata": {
    "slideshow": {
     "slide_type": "fragment"
    }
   },
   "source": [
    "The first kind of model we'll study is a linear equation, $y = \\beta_0 + \\beta_1 x.$\n",
    "\n",
    "Experimental data often produce points $(x_1, y_1), \\dots, (x_n,y_n)$ that seem to lie close to a line.   \n",
    "\n",
    "We want to determine the parameters $\\beta_0, \\beta_1$ that define a line that is as \"close\" to the points as possible."
   ]
  },
  {
   "cell_type": "markdown",
   "metadata": {
    "slideshow": {
     "slide_type": "fragment"
    }
   },
   "source": [
    "Suppose we have a line $y = \\beta_0 + \\beta_1 x$.   For each data point $(x_j, y_j),$ there is a point $(x_j, \\beta_0 + \\beta_1 x_j)$ that is the point on the line with the same $x$-coordinate."
   ]
  },
  {
   "cell_type": "markdown",
   "metadata": {
    "slideshow": {
     "slide_type": "fragment"
    }
   },
   "source": [
    "<img src=\"figs/Lay-fig-6-6-1.jpg\" alt=\"Figure\" width=\"55%\">"
   ]
  },
  {
   "cell_type": "markdown",
   "metadata": {},
   "source": [
    "Image from Lay, _Linear Algebra and its Applications,_ 4th edition"
   ]
  },
  {
   "cell_type": "markdown",
   "metadata": {
    "slideshow": {
     "slide_type": "fragment"
    }
   },
   "source": [
    "We call \n",
    "* $y_j$ the __observed__ value of $y$ and \n",
    "* $\\beta_0 + \\beta_1 x_j$ the __predicted__ $y$-value.   \n",
    "\n",
    "The difference between an observed $y$-value and a predicted $y$-value is called a __residual__."
   ]
  },
  {
   "cell_type": "markdown",
   "metadata": {
    "slideshow": {
     "slide_type": "fragment"
    }
   },
   "source": [
    "There are several ways of measure how \"close\" the line is to the data. \n",
    "\n",
    "The usual choice is to sum the squares of the residuals.  "
   ]
  },
  {
   "cell_type": "markdown",
   "metadata": {
    "slideshow": {
     "slide_type": "fragment"
    }
   },
   "source": [
    "The __least-squares line__ is the line $y = \\beta_0 + \\beta_1x$ that minimizes the sum of squares of the residuals. \n",
    "\n",
    "The coefficients $\\beta_0, \\beta_1$ of the line are called __regression coefficients.__"
   ]
  },
  {
   "cell_type": "markdown",
   "metadata": {
    "slideshow": {
     "slide_type": "slide"
    }
   },
   "source": [
    "__A least-squares problem.__\n",
    "\n",
    "If the data points were on the line, the parameters $\\beta_0$ and $\\beta_1$ would satisfy the equations\n",
    "\n",
    "$$\\beta_0 + \\beta_1 x_1 = y_1 $$\n",
    "$$\\beta_0 + \\beta_1 x_2 = y_2 $$\n",
    "$$\\beta_0 + \\beta_1 x_3 = y_3 $$\n",
    "$$ \\vdots$$\n",
    "$$\\beta_0 + \\beta_1 x_n = y_n $$"
   ]
  },
  {
   "cell_type": "markdown",
   "metadata": {
    "slideshow": {
     "slide_type": "fragment"
    }
   },
   "source": [
    "We can write this system as \n",
    "\n",
    "$$X\\mathbf{\\beta} = \\mathbf{y}$$\n",
    "\n",
    "where \n",
    "\n",
    "$$X=\\begin{bmatrix}1&x_1\\\\1&x_2\\\\\\vdots&\\vdots\\\\1&x_n\\end{bmatrix},\\;\\;\\mathbf{\\beta} = \\begin{bmatrix}\\beta_0\\\\\\beta_1\\end{bmatrix},\\;\\;\\mathbf{y}=\\begin{bmatrix}y_1\\\\y_2\\\\\\vdots\\\\y_n\\end{bmatrix}$$"
   ]
  },
  {
   "cell_type": "markdown",
   "metadata": {
    "slideshow": {
     "slide_type": "fragment"
    }
   },
   "source": [
    "Of course, if the data points don't actually lie exactly on a line, \n",
    "\n",
    "... then there are no parameters $\\beta_0, \\beta_1$ for which the predicted $y$-values in $X\\mathbf{\\beta}$ equal the observed $y$-values in $\\mathbf{y}$, \n",
    "\n",
    "... and $X\\mathbf{\\beta}=\\mathbf{y}$ has no solution."
   ]
  },
  {
   "cell_type": "markdown",
   "metadata": {
    "slideshow": {
     "slide_type": "fragment"
    }
   },
   "source": [
    "Now, since the data doesn't fall exactly on a line, we have decided to seek the $\\beta$ that minimizes the sum of squared residuals, ie,\n",
    "\n",
    "$$\\sum_i (\\beta_0 + \\beta_1 x_i - y_i)^2$$"
   ]
  },
  {
   "cell_type": "markdown",
   "metadata": {
    "slideshow": {
     "slide_type": "fragment"
    }
   },
   "source": [
    "$$=\\Vert X\\beta -\\mathbf{y}\\Vert^2$$"
   ]
  },
  {
   "cell_type": "markdown",
   "metadata": {
    "slideshow": {
     "slide_type": "fragment"
    }
   },
   "source": [
    "This is key: __the sum of squares of the residuals__ is __exactly__ the __square of the distance between the vectors $X\\mathbf{\\beta}$ and $\\mathbf{y}.$__"
   ]
  },
  {
   "cell_type": "markdown",
   "metadata": {
    "slideshow": {
     "slide_type": "fragment"
    }
   },
   "source": [
    "Computing the least-squares solution of $X\\beta = \\mathbf{y}$ is equivalent to finding the $\\mathbf{\\beta}$ that determines the least-squares line."
   ]
  },
  {
   "cell_type": "code",
   "execution_count": 7,
   "metadata": {
    "hide_input": true,
    "tags": [
     "hide-input"
    ]
   },
   "outputs": [
    {
     "data": {
      "image/png": "[encoded data removed]",
      "text/plain": [
       "<Figure size 504x504 with 1 Axes>"
      ]
     },
     "metadata": {
      "needs_background": "light"
     },
     "output_type": "display_data"
    }
   ],
   "source": [
    "ax = plt.figure(figsize = (7, 7)).add_subplot()\n",
    "centerAxes(ax)\n",
    "line = np.array([1, 0.5])\n",
    "xlin = -10.0 + 20.0 * np.random.random(100)\n",
    "ylin = line[0] + (line[1] * xlin) + np.random.randn(100)\n",
    "ax.plot(xlin, ylin, 'ro', markersize = 4)\n",
    "ax.plot(xlin, line[0] + line[1] * xlin, 'b-')\n",
    "plt.text(-9, 3, r'$y = \\beta_0 + \\beta_1x$', size=20);"
   ]
  },
  {
   "cell_type": "markdown",
   "metadata": {
    "slideshow": {
     "slide_type": "fragment"
    }
   },
   "source": [
    "Now, to obtain the least-squares line, find the least-squares solution to $X\\mathbf{\\beta} = \\mathbf{y}.$"
   ]
  },
  {
   "cell_type": "markdown",
   "metadata": {
    "slideshow": {
     "slide_type": "fragment"
    }
   },
   "source": [
    "From linear algebra we know that the least squares solution of $X\\mathbf{\\beta} = \\mathbf{y}$ is given by the solution of the __normal equations__:\n",
    "\n",
    "$$X^TX\\mathbf{\\beta} = X^T\\mathbf{y}$$"
   ]
  },
  {
   "cell_type": "markdown",
   "metadata": {},
   "source": [
    "We also know that the normal equations __always__ have at least one solution.\n",
    "\n",
    "And if $X^TX$ is invertible, there is a unique solution that is given by:\n",
    "    \n",
    "$$\\hat{\\mathbf{\\beta}} = (X^TX)^{-1} X^T\\mathbf{y}$$"
   ]
  },
  {
   "cell_type": "markdown",
   "metadata": {
    "slideshow": {
     "slide_type": "slide"
    }
   },
   "source": [
    "## The General Linear Model"
   ]
  },
  {
   "cell_type": "markdown",
   "metadata": {
    "slideshow": {
     "slide_type": "fragment"
    }
   },
   "source": [
    "Another way that the inconsistent linear system is often written is to collect all the residuals into a __residual vector.__ \n",
    "\n",
    "Then an exact equation is\n",
    "\n",
    "$$y = X\\mathbf{\\beta} + {\\mathbf\\epsilon}$$"
   ]
  },
  {
   "cell_type": "markdown",
   "metadata": {
    "slideshow": {
     "slide_type": "fragment"
    }
   },
   "source": [
    "Any equation of this form is referred to as a __linear model.__ \n",
    "\n",
    "In this formulation, the goal is to find the $\\beta$ so as to minimize the length of $\\epsilon$, ie, $\\Vert\\epsilon\\Vert.$"
   ]
  },
  {
   "cell_type": "markdown",
   "metadata": {
    "slideshow": {
     "slide_type": "fragment"
    }
   },
   "source": [
    "In some cases, one would like to fit data points with something other than a straight line.  \n",
    "\n",
    "In cases like this, the matrix equation is still $X\\mathbf{\\beta} = \\mathbf{y}$, but the specific form of $X$ changes from one problem to the next."
   ]
  },
  {
   "cell_type": "markdown",
   "metadata": {
    "slideshow": {
     "slide_type": "slide"
    }
   },
   "source": [
    "## Least-Squares Fitting of Other Models"
   ]
  },
  {
   "cell_type": "markdown",
   "metadata": {
    "slideshow": {
     "slide_type": "fragment"
    }
   },
   "source": [
    "In model fitting, the parameters of the model are what is unknown.  \n",
    "\n",
    "A central question for us is whether the model is _linear_ in its parameters."
   ]
  },
  {
   "cell_type": "markdown",
   "metadata": {
    "slideshow": {
     "slide_type": "fragment"
    }
   },
   "source": [
    "For example, the model \n",
    "\n",
    "$$y = \\beta_0 e^{-\\beta_1 x}$$\n",
    "\n",
    "is __not__ linear in its parameters.  \n",
    "\n",
    "The model \n",
    "\n",
    "$$y = \\beta_0 e^{-2 x}$$\n",
    "\n",
    "__is__ linear in its parameters."
   ]
  },
  {
   "cell_type": "markdown",
   "metadata": {
    "slideshow": {
     "slide_type": "fragment"
    }
   },
   "source": [
    "For a model that is linear in its parameters, an observation is a linear combination of (arbitrary) known functions."
   ]
  },
  {
   "cell_type": "markdown",
   "metadata": {
    "slideshow": {
     "slide_type": "fragment"
    }
   },
   "source": [
    "In other words, a model that is linear in its parameters is\n",
    "\n",
    "$$y = \\beta_0f_0(x) + \\beta_1f_1(x) + \\dots + \\beta_nf_n(x)$$\n",
    "\n",
    "where $f_0, \\dots, f_n$ are known functions and $\\beta_0,\\dots,\\beta_k$ are parameters."
   ]
  },
  {
   "cell_type": "markdown",
   "metadata": {
    "slideshow": {
     "slide_type": "slide"
    }
   },
   "source": [
    "__Example.__  \n",
    "\n",
    "Suppose data points $(x_1, y_1), \\dots, (x_n, y_n)$ appear to lie along some sort of parabola instead of a straight line.  "
   ]
  },
  {
   "cell_type": "code",
   "execution_count": 8,
   "metadata": {
    "hide_input": true,
    "tags": [
     "hide-input"
    ]
   },
   "outputs": [
    {
     "data": {
      "image/png": "[encoded data removed]",
      "text/plain": [
       "<Figure size 504x504 with 1 Axes>"
      ]
     },
     "metadata": {
      "needs_background": "light"
     },
     "output_type": "display_data"
    }
   ],
   "source": [
    "ax = plt.figure(figsize = (7, 7)).add_subplot()\n",
    "centerAxes(ax)\n",
    "quad = np.array([1, 3, 0.5])\n",
    "xquad = -10.0 + 20.0 * np.random.random(100)\n",
    "yquad = quad[0] + (quad[1] * xquad) + (quad[2] * xquad * xquad) + np.random.randn(100)\n",
    "ax.plot(xquad, yquad, 'ro', markersize = 4);"
   ]
  },
  {
   "cell_type": "markdown",
   "metadata": {
    "slideshow": {
     "slide_type": "fragment"
    }
   },
   "source": [
    "As a result, we wish to approximate the data by an equation of the form\n",
    "\n",
    "$$y = \\beta_0 + \\beta_1x + \\beta_2x^2.$$\n",
    "\n",
    "Let's describe the linear model that produces a \"least squares fit\" of the data by the equation."
   ]
  },
  {
   "cell_type": "markdown",
   "metadata": {
    "slideshow": {
     "slide_type": "fragment"
    }
   },
   "source": [
    "__Solution.__  The ideal relationship is $y = \\beta_0 + \\beta_1x + \\beta_2x^2.$"
   ]
  },
  {
   "cell_type": "markdown",
   "metadata": {
    "slideshow": {
     "slide_type": "fragment"
    }
   },
   "source": [
    "Suppose the actual values of the parameters are $\\beta_0, \\beta_1, \\beta_2.$  Then the coordinates of the first data point satisfy the equation\n",
    "\n",
    "$$y_1 = \\beta_0 + \\beta_1x_1 + \\beta_2x_1^2 + \\epsilon_1$$\n",
    "\n",
    "where $\\epsilon_1$ is the residual error between the observed value $y_1$ and the predicted $y$-value."
   ]
  },
  {
   "cell_type": "markdown",
   "metadata": {
    "slideshow": {
     "slide_type": "fragment"
    }
   },
   "source": [
    "Each data point determines a similar equation:\n",
    "\n",
    "$$y_1 = \\beta_0 + \\beta_1x_1 + \\beta_2x_1^2 + \\epsilon_1$$\n",
    "$$y_2 = \\beta_0 + \\beta_1x_2 + \\beta_2x_2^2 + \\epsilon_2$$\n",
    "$$\\vdots$$\n",
    "$$y_n = \\beta_0 + \\beta_1x_n + \\beta_2x_n^2 + \\epsilon_n$$"
   ]
  },
  {
   "cell_type": "markdown",
   "metadata": {
    "collapsed": true,
    "slideshow": {
     "slide_type": "fragment"
    }
   },
   "source": [
    "Clearly, this system can be written as $\\mathbf{y} = X\\mathbf{\\beta} + \\mathbf{\\epsilon}.$\n",
    "\n",
    "$$\\begin{bmatrix}y_1\\\\y_2\\\\\\vdots\\\\y_n\\end{bmatrix} = \\begin{bmatrix}1&x_1&x_1^2\\\\1&x_2&x_2^2\\\\\\vdots&\\vdots&\\vdots\\\\1&x_n&x_n^2\\end{bmatrix} \\begin{bmatrix}\\beta_0\\\\\\beta_1\\\\\\beta_2\\end{bmatrix} + \\begin{bmatrix}\\epsilon_1\\\\\\epsilon_2\\\\\\vdots\\\\\\epsilon_n\\end{bmatrix}$$"
   ]
  },
  {
   "cell_type": "code",
   "execution_count": 9,
   "metadata": {
    "hide_input": false,
    "slideshow": {
     "slide_type": "fragment"
    }
   },
   "outputs": [],
   "source": [
    "#\n",
    "# Input data are in the vectors xquad and yquad\n",
    "#\n",
    "# estimate the parameters of the linear model\n",
    "#\n",
    "m = np.shape(xquad)[0]\n",
    "X = np.array([np.ones(m), xquad, xquad**2]).T\n",
    "beta = np.linalg.inv(X.T @ X) @ X.T @ yquad"
   ]
  },
  {
   "cell_type": "code",
   "execution_count": 10,
   "metadata": {
    "hide_input": true,
    "slideshow": {
     "slide_type": "fragment"
    },
    "tags": [
     "hide-input"
    ]
   },
   "outputs": [
    {
     "data": {
      "image/png": "[encoded data removed]",
      "text/plain": [
       "<Figure size 432x288 with 1 Axes>"
      ]
     },
     "metadata": {
      "needs_background": "light"
     },
     "output_type": "display_data"
    }
   ],
   "source": [
    "#\n",
    "# plot the results\n",
    "#\n",
    "ax = ut.plotSetup(-10, 10, -10, 20)\n",
    "ut.centerAxes(ax)\n",
    "xplot = np.linspace(-10, 10, 50)\n",
    "yestplot = beta[0] + beta[1] * xplot + beta[2] * xplot**2\n",
    "ax.plot(xplot, yestplot, 'b-', lw=2)\n",
    "ax.plot(xquad, yquad, 'ro', markersize=4);"
   ]
  },
  {
   "cell_type": "code",
   "execution_count": 11,
   "metadata": {
    "slideshow": {
     "slide_type": "fragment"
    }
   },
   "outputs": [],
   "source": [
    "#\n",
    "# Input data are in the vectors xlog and ylog\n",
    "#\n",
    "# estimate the parameters of the linear model\n",
    "#\n",
    "m = np.shape(xlog)[0]\n",
    "X = np.array([np.ones(m), np.log(xlog)]).T\n",
    "beta = np.linalg.inv(X.T @ X) @ X.T @ ylog"
   ]
  },
  {
   "cell_type": "code",
   "execution_count": 12,
   "metadata": {
    "hide_input": true,
    "slideshow": {
     "slide_type": "fragment"
    },
    "tags": [
     "hide-input"
    ]
   },
   "outputs": [
    {
     "data": {
      "image/png": "[encoded data removed]",
      "text/plain": [
       "<Figure size 432x288 with 1 Axes>"
      ]
     },
     "metadata": {
      "needs_background": "light"
     },
     "output_type": "display_data"
    }
   ],
   "source": [
    "# \n",
    "# plot the results\n",
    "#\n",
    "ax = ut.plotSetup(-10,10,-10,15)\n",
    "ut.centerAxes(ax)\n",
    "xplot = np.logspace(np.log10(0.0001),1,100)\n",
    "yestplot = beta[0]+beta[1]*np.log(xplot)\n",
    "ax.plot(xplot,yestplot,'b-',lw=2)\n",
    "ax.plot(xlog,ylog,'ro',markersize=4);"
   ]
  },
  {
   "cell_type": "markdown",
   "metadata": {
    "slideshow": {
     "slide_type": "slide"
    }
   },
   "source": [
    "## Multiple Regression"
   ]
  },
  {
   "cell_type": "markdown",
   "metadata": {
    "slideshow": {
     "slide_type": "fragment"
    }
   },
   "source": [
    "Suppose an experiment involves two independent variables -- say, $u$ and $v$, -- and one dependent variable, $y$.  A simple equation for predicting $y$ from $u$ and $v$ has the form\n",
    "\n",
    "$$y = \\beta_0 + \\beta_1 u + \\beta_2 v$$"
   ]
  },
  {
   "cell_type": "markdown",
   "metadata": {
    "slideshow": {
     "slide_type": "fragment"
    }
   },
   "source": [
    "Since there is more than one independent variable, this is called __multiple regression.__"
   ]
  },
  {
   "cell_type": "markdown",
   "metadata": {
    "slideshow": {
     "slide_type": "fragment"
    }
   },
   "source": [
    "A more general prediction equation might have the form\n",
    "\n",
    "$$y = \\beta_0 + \\beta_1 u + \\beta_2 v + \\beta_3u^2 + \\beta_4 uv + \\beta_5 v^2$$\n",
    "\n",
    "A least squares fit to equations like this is called a __trend surface.__"
   ]
  },
  {
   "cell_type": "markdown",
   "metadata": {
    "slideshow": {
     "slide_type": "fragment"
    }
   },
   "source": [
    "In general, a linear model will arise whenever $y$ is to be predicted by an equation of the form\n",
    "\n",
    "$$y = \\beta_0f_0(u,v) + \\beta_1f_1(u,v) + \\cdots + \\beta_kf_k(u,v)$$\n",
    "\n",
    "with $f_0,\\dots,f_k$ any sort of known functions and $\\beta_0,...,\\beta_k$ unknown weights."
   ]
  },
  {
   "cell_type": "markdown",
   "metadata": {
    "slideshow": {
     "slide_type": "fragment"
    }
   },
   "source": [
    "Let's take an example.   Here are a set of points in $\\mathbb{R}^3$:"
   ]
  },
  {
   "cell_type": "code",
   "execution_count": 45,
   "metadata": {
    "hide_input": false,
    "scrolled": true,
    "tags": [
     "hide-input"
    ]
   },
   "outputs": [
    {
     "data": {
      "application/javascript": [
       "/* Put everything inside the global mpl namespace */\n",
       "/* global mpl */\n",
       "window.mpl = {};\n",
       "\n",
       "mpl.get_websocket_type = function () {\n",
       "    if (typeof WebSocket !== 'undefined') {\n",
       "        return WebSocket;\n",
       "    } else if (typeof MozWebSocket !== 'undefined') {\n",
       "        return MozWebSocket;\n",
       "    } else {\n",
       "        alert(\n",
       "            'Your browser does not have WebSocket support. ' +\n",
       "                'Please try Chrome, Safari or Firefox ≥ 6. ' +\n",
       "                'Firefox 4 and 5 are also supported but you ' +\n",
       "                'have to enable WebSockets in about:config.'\n",
       "        );\n",
       "    }\n",
       "};\n",
       "\n",
       "mpl.figure = function (figure_id, websocket, ondownload, parent_element) {\n",
       "    this.id = figure_id;\n",
       "\n",
       "    this.ws = websocket;\n",
       "\n",
       "    this.supports_binary = this.ws.binaryType !== undefined;\n",
       "\n",
       "    if (!this.supports_binary) {\n",
       "        var warnings = document.getElementById('mpl-warnings');\n",
       "        if (warnings) {\n",
       "            warnings.style.display = 'block';\n",
       "            warnings.textContent =\n",
       "                'This browser does not support binary websocket messages. ' +\n",
       "                'Performance may be slow.';\n",
       "        }\n",
       "    }\n",
       "\n",
       "    this.imageObj = new Image();\n",
       "\n",
       "    this.context = undefined;\n",
       "    this.message = undefined;\n",
       "    this.canvas = undefined;\n",
       "    this.rubberband_canvas = undefined;\n",
       "    this.rubberband_context = undefined;\n",
       "    this.format_dropdown = undefined;\n",
       "\n",
       "    this.image_mode = 'full';\n",
       "\n",
       "    this.root = document.createElement('div');\n",
       "    this.root.setAttribute('style', 'display: inline-block');\n",
       "    this._root_extra_style(this.root);\n",
       "\n",
       "    parent_element.appendChild(this.root);\n",
       "\n",
       "    this._init_header(this);\n",
       "    this._init_canvas(this);\n",
       "    this._init_toolbar(this);\n",
       "\n",
       "    var fig = this;\n",
       "\n",
       "    this.waiting = false;\n",
       "\n",
       "    this.ws.onopen = function () {\n",
       "        fig.send_message('supports_binary', { value: fig.supports_binary });\n",
       "        fig.send_message('send_image_mode', {});\n",
       "        if (fig.ratio !== 1) {\n",
       "            fig.send_message('set_device_pixel_ratio', {\n",
       "                device_pixel_ratio: fig.ratio,\n",
       "            });\n",
       "        }\n",
       "        fig.send_message('refresh', {});\n",
       "    };\n",
       "\n",
       "    this.imageObj.onload = function () {\n",
       "        if (fig.image_mode === 'full') {\n",
       "            // Full images could contain transparency (where diff images\n",
       "            // almost always do), so we need to clear the canvas so that\n",
       "            // there is no ghosting.\n",
       "            fig.context.clearRect(0, 0, fig.canvas.width, fig.canvas.height);\n",
       "        }\n",
       "        fig.context.drawImage(fig.imageObj, 0, 0);\n",
       "    };\n",
       "\n",
       "    this.imageObj.onunload = function () {\n",
       "        fig.ws.close();\n",
       "    };\n",
       "\n",
       "    this.ws.onmessage = this._make_on_message_function(this);\n",
       "\n",
       "    this.ondownload = ondownload;\n",
       "};\n",
       "\n",
       "mpl.figure.prototype._init_header = function () {\n",
       "    var titlebar = document.createElement('div');\n",
       "    titlebar.classList =\n",
       "        'ui-dialog-titlebar ui-widget-header ui-corner-all ui-helper-clearfix';\n",
       "    var titletext = document.createElement('div');\n",
       "    titletext.classList = 'ui-dialog-title';\n",
       "    titletext.setAttribute(\n",
       "        'style',\n",
       "        'width: 100%; text-align: center; padding: 3px;'\n",
       "    );\n",
       "    titlebar.appendChild(titletext);\n",
       "    this.root.appendChild(titlebar);\n",
       "    this.header = titletext;\n",
       "};\n",
       "\n",
       "mpl.figure.prototype._canvas_extra_style = function (_canvas_div) {};\n",
       "\n",
       "mpl.figure.prototype._root_extra_style = function (_canvas_div) {};\n",
       "\n",
       "mpl.figure.prototype._init_canvas = function () {\n",
       "    var fig = this;\n",
       "\n",
       "    var canvas_div = (this.canvas_div = document.createElement('div'));\n",
       "    canvas_div.setAttribute(\n",
       "        'style',\n",
       "        'border: 1px solid #ddd;' +\n",
       "            'box-sizing: content-box;' +\n",
       "            'clear: both;' +\n",
       "            'min-height: 1px;' +\n",
       "            'min-width: 1px;' +\n",
       "            'outline: 0;' +\n",
       "            'overflow: hidden;' +\n",
       "            'position: relative;' +\n",
       "            'resize: both;'\n",
       "    );\n",
       "\n",
       "    function on_keyboard_event_closure(name) {\n",
       "        return function (event) {\n",
       "            return fig.key_event(event, name);\n",
       "        };\n",
       "    }\n",
       "\n",
       "    canvas_div.addEventListener(\n",
       "        'keydown',\n",
       "        on_keyboard_event_closure('key_press')\n",
       "    );\n",
       "    canvas_div.addEventListener(\n",
       "        'keyup',\n",
       "        on_keyboard_event_closure('key_release')\n",
       "    );\n",
       "\n",
       "    this._canvas_extra_style(canvas_div);\n",
       "    this.root.appendChild(canvas_div);\n",
       "\n",
       "    var canvas = (this.canvas = document.createElement('canvas'));\n",
       "    canvas.classList.add('mpl-canvas');\n",
       "    canvas.setAttribute('style', 'box-sizing: content-box;');\n",
       "\n",
       "    this.context = canvas.getContext('2d');\n",
       "\n",
       "    var backingStore =\n",
       "        this.context.backingStorePixelRatio ||\n",
       "        this.context.webkitBackingStorePixelRatio ||\n",
       "        this.context.mozBackingStorePixelRatio ||\n",
       "        this.context.msBackingStorePixelRatio ||\n",
       "        this.context.oBackingStorePixelRatio ||\n",
       "        this.context.backingStorePixelRatio ||\n",
       "        1;\n",
       "\n",
       "    this.ratio = (window.devicePixelRatio || 1) / backingStore;\n",
       "\n",
       "    var rubberband_canvas = (this.rubberband_canvas = document.createElement(\n",
       "        'canvas'\n",
       "    ));\n",
       "    rubberband_canvas.setAttribute(\n",
       "        'style',\n",
       "        'box-sizing: content-box; position: absolute; left: 0; top: 0; z-index: 1;'\n",
       "    );\n",
       "\n",
       "    // Apply a ponyfill if ResizeObserver is not implemented by browser.\n",
       "    if (this.ResizeObserver === undefined) {\n",
       "        if (window.ResizeObserver !== undefined) {\n",
       "            this.ResizeObserver = window.ResizeObserver;\n",
       "        } else {\n",
       "            var obs = _JSXTOOLS_RESIZE_OBSERVER({});\n",
       "            this.ResizeObserver = obs.ResizeObserver;\n",
       "        }\n",
       "    }\n",
       "\n",
       "    this.resizeObserverInstance = new this.ResizeObserver(function (entries) {\n",
       "        var nentries = entries.length;\n",
       "        for (var i = 0; i < nentries; i++) {\n",
       "            var entry = entries[i];\n",
       "            var width, height;\n",
       "            if (entry.contentBoxSize) {\n",
       "                if (entry.contentBoxSize instanceof Array) {\n",
       "                    // Chrome 84 implements new version of spec.\n",
       "                    width = entry.contentBoxSize[0].inlineSize;\n",
       "                    height = entry.contentBoxSize[0].blockSize;\n",
       "                } else {\n",
       "                    // Firefox implements old version of spec.\n",
       "                    width = entry.contentBoxSize.inlineSize;\n",
       "                    height = entry.contentBoxSize.blockSize;\n",
       "                }\n",
       "            } else {\n",
       "                // Chrome <84 implements even older version of spec.\n",
       "                width = entry.contentRect.width;\n",
       "                height = entry.contentRect.height;\n",
       "            }\n",
       "\n",
       "            // Keep the size of the canvas and rubber band canvas in sync with\n",
       "            // the canvas container.\n",
       "            if (entry.devicePixelContentBoxSize) {\n",
       "                // Chrome 84 implements new version of spec.\n",
       "                canvas.setAttribute(\n",
       "                    'width',\n",
       "                    entry.devicePixelContentBoxSize[0].inlineSize\n",
       "                );\n",
       "                canvas.setAttribute(\n",
       "                    'height',\n",
       "                    entry.devicePixelContentBoxSize[0].blockSize\n",
       "                );\n",
       "            } else {\n",
       "                canvas.setAttribute('width', width * fig.ratio);\n",
       "                canvas.setAttribute('height', height * fig.ratio);\n",
       "            }\n",
       "            canvas.setAttribute(\n",
       "                'style',\n",
       "                'width: ' + width + 'px; height: ' + height + 'px;'\n",
       "            );\n",
       "\n",
       "            rubberband_canvas.setAttribute('width', width);\n",
       "            rubberband_canvas.setAttribute('height', height);\n",
       "\n",
       "            // And update the size in Python. We ignore the initial 0/0 size\n",
       "            // that occurs as the element is placed into the DOM, which should\n",
       "            // otherwise not happen due to the minimum size styling.\n",
       "            if (fig.ws.readyState == 1 && width != 0 && height != 0) {\n",
       "                fig.request_resize(width, height);\n",
       "            }\n",
       "        }\n",
       "    });\n",
       "    this.resizeObserverInstance.observe(canvas_div);\n",
       "\n",
       "    function on_mouse_event_closure(name) {\n",
       "        return function (event) {\n",
       "            return fig.mouse_event(event, name);\n",
       "        };\n",
       "    }\n",
       "\n",
       "    rubberband_canvas.addEventListener(\n",
       "        'mousedown',\n",
       "        on_mouse_event_closure('button_press')\n",
       "    );\n",
       "    rubberband_canvas.addEventListener(\n",
       "        'mouseup',\n",
       "        on_mouse_event_closure('button_release')\n",
       "    );\n",
       "    rubberband_canvas.addEventListener(\n",
       "        'dblclick',\n",
       "        on_mouse_event_closure('dblclick')\n",
       "    );\n",
       "    // Throttle sequential mouse events to 1 every 20ms.\n",
       "    rubberband_canvas.addEventListener(\n",
       "        'mousemove',\n",
       "        on_mouse_event_closure('motion_notify')\n",
       "    );\n",
       "\n",
       "    rubberband_canvas.addEventListener(\n",
       "        'mouseenter',\n",
       "        on_mouse_event_closure('figure_enter')\n",
       "    );\n",
       "    rubberband_canvas.addEventListener(\n",
       "        'mouseleave',\n",
       "        on_mouse_event_closure('figure_leave')\n",
       "    );\n",
       "\n",
       "    canvas_div.addEventListener('wheel', function (event) {\n",
       "        if (event.deltaY < 0) {\n",
       "            event.step = 1;\n",
       "        } else {\n",
       "            event.step = -1;\n",
       "        }\n",
       "        on_mouse_event_closure('scroll')(event);\n",
       "    });\n",
       "\n",
       "    canvas_div.appendChild(canvas);\n",
       "    canvas_div.appendChild(rubberband_canvas);\n",
       "\n",
       "    this.rubberband_context = rubberband_canvas.getContext('2d');\n",
       "    this.rubberband_context.strokeStyle = '#000000';\n",
       "\n",
       "    this._resize_canvas = function (width, height, forward) {\n",
       "        if (forward) {\n",
       "            canvas_div.style.width = width + 'px';\n",
       "            canvas_div.style.height = height + 'px';\n",
       "        }\n",
       "    };\n",
       "\n",
       "    // Disable right mouse context menu.\n",
       "    this.rubberband_canvas.addEventListener('contextmenu', function (_e) {\n",
       "        event.preventDefault();\n",
       "        return false;\n",
       "    });\n",
       "\n",
       "    function set_focus() {\n",
       "        canvas.focus();\n",
       "        canvas_div.focus();\n",
       "    }\n",
       "\n",
       "    window.setTimeout(set_focus, 100);\n",
       "};\n",
       "\n",
       "mpl.figure.prototype._init_toolbar = function () {\n",
       "    var fig = this;\n",
       "\n",
       "    var toolbar = document.createElement('div');\n",
       "    toolbar.classList = 'mpl-toolbar';\n",
       "    this.root.appendChild(toolbar);\n",
       "\n",
       "    function on_click_closure(name) {\n",
       "        return function (_event) {\n",
       "            return fig.toolbar_button_onclick(name);\n",
       "        };\n",
       "    }\n",
       "\n",
       "    function on_mouseover_closure(tooltip) {\n",
       "        return function (event) {\n",
       "            if (!event.currentTarget.disabled) {\n",
       "                return fig.toolbar_button_onmouseover(tooltip);\n",
       "            }\n",
       "        };\n",
       "    }\n",
       "\n",
       "    fig.buttons = {};\n",
       "    var buttonGroup = document.createElement('div');\n",
       "    buttonGroup.classList = 'mpl-button-group';\n",
       "    for (var toolbar_ind in mpl.toolbar_items) {\n",
       "        var name = mpl.toolbar_items[toolbar_ind][0];\n",
       "        var tooltip = mpl.toolbar_items[toolbar_ind][1];\n",
       "        var image = mpl.toolbar_items[toolbar_ind][2];\n",
       "        var method_name = mpl.toolbar_items[toolbar_ind][3];\n",
       "\n",
       "        if (!name) {\n",
       "            /* Instead of a spacer, we start a new button group. */\n",
       "            if (buttonGroup.hasChildNodes()) {\n",
       "                toolbar.appendChild(buttonGroup);\n",
       "            }\n",
       "            buttonGroup = document.createElement('div');\n",
       "            buttonGroup.classList = 'mpl-button-group';\n",
       "            continue;\n",
       "        }\n",
       "\n",
       "        var button = (fig.buttons[name] = document.createElement('button'));\n",
       "        button.classList = 'mpl-widget';\n",
       "        button.setAttribute('role', 'button');\n",
       "        button.setAttribute('aria-disabled', 'false');\n",
       "        button.addEventListener('click', on_click_closure(method_name));\n",
       "        button.addEventListener('mouseover', on_mouseover_closure(tooltip));\n",
       "\n",
       "        var icon_img = document.createElement('img');\n",
       "        icon_img.src = '_images/' + image + '.png';\n",
       "        icon_img.srcset = '_images/' + image + '_large.png 2x';\n",
       "        icon_img.alt = tooltip;\n",
       "        button.appendChild(icon_img);\n",
       "\n",
       "        buttonGroup.appendChild(button);\n",
       "    }\n",
       "\n",
       "    if (buttonGroup.hasChildNodes()) {\n",
       "        toolbar.appendChild(buttonGroup);\n",
       "    }\n",
       "\n",
       "    var fmt_picker = document.createElement('select');\n",
       "    fmt_picker.classList = 'mpl-widget';\n",
       "    toolbar.appendChild(fmt_picker);\n",
       "    this.format_dropdown = fmt_picker;\n",
       "\n",
       "    for (var ind in mpl.extensions) {\n",
       "        var fmt = mpl.extensions[ind];\n",
       "        var option = document.createElement('option');\n",
       "        option.selected = fmt === mpl.default_extension;\n",
       "        option.innerHTML = fmt;\n",
       "        fmt_picker.appendChild(option);\n",
       "    }\n",
       "\n",
       "    var status_bar = document.createElement('span');\n",
       "    status_bar.classList = 'mpl-message';\n",
       "    toolbar.appendChild(status_bar);\n",
       "    this.message = status_bar;\n",
       "};\n",
       "\n",
       "mpl.figure.prototype.request_resize = function (x_pixels, y_pixels) {\n",
       "    // Request matplotlib to resize the figure. Matplotlib will then trigger a resize in the client,\n",
       "    // which will in turn request a refresh of the image.\n",
       "    this.send_message('resize', { width: x_pixels, height: y_pixels });\n",
       "};\n",
       "\n",
       "mpl.figure.prototype.send_message = function (type, properties) {\n",
       "    properties['type'] = type;\n",
       "    properties['figure_id'] = this.id;\n",
       "    this.ws.send(JSON.stringify(properties));\n",
       "};\n",
       "\n",
       "mpl.figure.prototype.send_draw_message = function () {\n",
       "    if (!this.waiting) {\n",
       "        this.waiting = true;\n",
       "        this.ws.send(JSON.stringify({ type: 'draw', figure_id: this.id }));\n",
       "    }\n",
       "};\n",
       "\n",
       "mpl.figure.prototype.handle_save = function (fig, _msg) {\n",
       "    var format_dropdown = fig.format_dropdown;\n",
       "    var format = format_dropdown.options[format_dropdown.selectedIndex].value;\n",
       "    fig.ondownload(fig, format);\n",
       "};\n",
       "\n",
       "mpl.figure.prototype.handle_resize = function (fig, msg) {\n",
       "    var size = msg['size'];\n",
       "    if (size[0] !== fig.canvas.width || size[1] !== fig.canvas.height) {\n",
       "        fig._resize_canvas(size[0], size[1], msg['forward']);\n",
       "        fig.send_message('refresh', {});\n",
       "    }\n",
       "};\n",
       "\n",
       "mpl.figure.prototype.handle_rubberband = function (fig, msg) {\n",
       "    var x0 = msg['x0'] / fig.ratio;\n",
       "    var y0 = (fig.canvas.height - msg['y0']) / fig.ratio;\n",
       "    var x1 = msg['x1'] / fig.ratio;\n",
       "    var y1 = (fig.canvas.height - msg['y1']) / fig.ratio;\n",
       "    x0 = Math.floor(x0) + 0.5;\n",
       "    y0 = Math.floor(y0) + 0.5;\n",
       "    x1 = Math.floor(x1) + 0.5;\n",
       "    y1 = Math.floor(y1) + 0.5;\n",
       "    var min_x = Math.min(x0, x1);\n",
       "    var min_y = Math.min(y0, y1);\n",
       "    var width = Math.abs(x1 - x0);\n",
       "    var height = Math.abs(y1 - y0);\n",
       "\n",
       "    fig.rubberband_context.clearRect(\n",
       "        0,\n",
       "        0,\n",
       "        fig.canvas.width / fig.ratio,\n",
       "        fig.canvas.height / fig.ratio\n",
       "    );\n",
       "\n",
       "    fig.rubberband_context.strokeRect(min_x, min_y, width, height);\n",
       "};\n",
       "\n",
       "mpl.figure.prototype.handle_figure_label = function (fig, msg) {\n",
       "    // Updates the figure title.\n",
       "    fig.header.textContent = msg['label'];\n",
       "};\n",
       "\n",
       "mpl.figure.prototype.handle_cursor = function (fig, msg) {\n",
       "    fig.rubberband_canvas.style.cursor = msg['cursor'];\n",
       "};\n",
       "\n",
       "mpl.figure.prototype.handle_message = function (fig, msg) {\n",
       "    fig.message.textContent = msg['message'];\n",
       "};\n",
       "\n",
       "mpl.figure.prototype.handle_draw = function (fig, _msg) {\n",
       "    // Request the server to send over a new figure.\n",
       "    fig.send_draw_message();\n",
       "};\n",
       "\n",
       "mpl.figure.prototype.handle_image_mode = function (fig, msg) {\n",
       "    fig.image_mode = msg['mode'];\n",
       "};\n",
       "\n",
       "mpl.figure.prototype.handle_history_buttons = function (fig, msg) {\n",
       "    for (var key in msg) {\n",
       "        if (!(key in fig.buttons)) {\n",
       "            continue;\n",
       "        }\n",
       "        fig.buttons[key].disabled = !msg[key];\n",
       "        fig.buttons[key].setAttribute('aria-disabled', !msg[key]);\n",
       "    }\n",
       "};\n",
       "\n",
       "mpl.figure.prototype.handle_navigate_mode = function (fig, msg) {\n",
       "    if (msg['mode'] === 'PAN') {\n",
       "        fig.buttons['Pan'].classList.add('active');\n",
       "        fig.buttons['Zoom'].classList.remove('active');\n",
       "    } else if (msg['mode'] === 'ZOOM') {\n",
       "        fig.buttons['Pan'].classList.remove('active');\n",
       "        fig.buttons['Zoom'].classList.add('active');\n",
       "    } else {\n",
       "        fig.buttons['Pan'].classList.remove('active');\n",
       "        fig.buttons['Zoom'].classList.remove('active');\n",
       "    }\n",
       "};\n",
       "\n",
       "mpl.figure.prototype.updated_canvas_event = function () {\n",
       "    // Called whenever the canvas gets updated.\n",
       "    this.send_message('ack', {});\n",
       "};\n",
       "\n",
       "// A function to construct a web socket function for onmessage handling.\n",
       "// Called in the figure constructor.\n",
       "mpl.figure.prototype._make_on_message_function = function (fig) {\n",
       "    return function socket_on_message(evt) {\n",
       "        if (evt.data instanceof Blob) {\n",
       "            var img = evt.data;\n",
       "            if (img.type !== 'image/png') {\n",
       "                /* FIXME: We get \"Resource interpreted as Image but\n",
       "                 * transferred with MIME type text/plain:\" errors on\n",
       "                 * Chrome.  But how to set the MIME type?  It doesn't seem\n",
       "                 * to be part of the websocket stream */\n",
       "                img.type = 'image/png';\n",
       "            }\n",
       "\n",
       "            /* Free the memory for the previous frames */\n",
       "            if (fig.imageObj.src) {\n",
       "                (window.URL || window.webkitURL).revokeObjectURL(\n",
       "                    fig.imageObj.src\n",
       "                );\n",
       "            }\n",
       "\n",
       "            fig.imageObj.src = (window.URL || window.webkitURL).createObjectURL(\n",
       "                img\n",
       "            );\n",
       "            fig.updated_canvas_event();\n",
       "            fig.waiting = false;\n",
       "            return;\n",
       "        } else if (\n",
       "            typeof evt.data === 'string' &&\n",
       "            evt.data.slice(0, 21) === 'data:image/png;base64'\n",
       "        ) {\n",
       "            fig.imageObj.src = evt.data;\n",
       "            fig.updated_canvas_event();\n",
       "            fig.waiting = false;\n",
       "            return;\n",
       "        }\n",
       "\n",
       "        var msg = JSON.parse(evt.data);\n",
       "        var msg_type = msg['type'];\n",
       "\n",
       "        // Call the  \"handle_{type}\" callback, which takes\n",
       "        // the figure and JSON message as its only arguments.\n",
       "        try {\n",
       "            var callback = fig['handle_' + msg_type];\n",
       "        } catch (e) {\n",
       "            console.log(\n",
       "                \"No handler for the '\" + msg_type + \"' message type: \",\n",
       "                msg\n",
       "            );\n",
       "            return;\n",
       "        }\n",
       "\n",
       "        if (callback) {\n",
       "            try {\n",
       "                // console.log(\"Handling '\" + msg_type + \"' message: \", msg);\n",
       "                callback(fig, msg);\n",
       "            } catch (e) {\n",
       "                console.log(\n",
       "                    \"Exception inside the 'handler_\" + msg_type + \"' callback:\",\n",
       "                    e,\n",
       "                    e.stack,\n",
       "                    msg\n",
       "                );\n",
       "            }\n",
       "        }\n",
       "    };\n",
       "};\n",
       "\n",
       "// from https://stackoverflow.com/questions/1114465/getting-mouse-location-in-canvas\n",
       "mpl.findpos = function (e) {\n",
       "    //this section is from http://www.quirksmode.org/js/events_properties.html\n",
       "    var targ;\n",
       "    if (!e) {\n",
       "        e = window.event;\n",
       "    }\n",
       "    if (e.target) {\n",
       "        targ = e.target;\n",
       "    } else if (e.srcElement) {\n",
       "        targ = e.srcElement;\n",
       "    }\n",
       "    if (targ.nodeType === 3) {\n",
       "        // defeat Safari bug\n",
       "        targ = targ.parentNode;\n",
       "    }\n",
       "\n",
       "    // pageX,Y are the mouse positions relative to the document\n",
       "    var boundingRect = targ.getBoundingClientRect();\n",
       "    var x = e.pageX - (boundingRect.left + document.body.scrollLeft);\n",
       "    var y = e.pageY - (boundingRect.top + document.body.scrollTop);\n",
       "\n",
       "    return { x: x, y: y };\n",
       "};\n",
       "\n",
       "/*\n",
       " * return a copy of an object with only non-object keys\n",
       " * we need this to avoid circular references\n",
       " * https://stackoverflow.com/a/24161582/3208463\n",
       " */\n",
       "function simpleKeys(original) {\n",
       "    return Object.keys(original).reduce(function (obj, key) {\n",
       "        if (typeof original[key] !== 'object') {\n",
       "            obj[key] = original[key];\n",
       "        }\n",
       "        return obj;\n",
       "    }, {});\n",
       "}\n",
       "\n",
       "mpl.figure.prototype.mouse_event = function (event, name) {\n",
       "    var canvas_pos = mpl.findpos(event);\n",
       "\n",
       "    if (name === 'button_press') {\n",
       "        this.canvas.focus();\n",
       "        this.canvas_div.focus();\n",
       "    }\n",
       "\n",
       "    var x = canvas_pos.x * this.ratio;\n",
       "    var y = canvas_pos.y * this.ratio;\n",
       "\n",
       "    this.send_message(name, {\n",
       "        x: x,\n",
       "        y: y,\n",
       "        button: event.button,\n",
       "        step: event.step,\n",
       "        guiEvent: simpleKeys(event),\n",
       "    });\n",
       "\n",
       "    /* This prevents the web browser from automatically changing to\n",
       "     * the text insertion cursor when the button is pressed.  We want\n",
       "     * to control all of the cursor setting manually through the\n",
       "     * 'cursor' event from matplotlib */\n",
       "    event.preventDefault();\n",
       "    return false;\n",
       "};\n",
       "\n",
       "mpl.figure.prototype._key_event_extra = function (_event, _name) {\n",
       "    // Handle any extra behaviour associated with a key event\n",
       "};\n",
       "\n",
       "mpl.figure.prototype.key_event = function (event, name) {\n",
       "    // Prevent repeat events\n",
       "    if (name === 'key_press') {\n",
       "        if (event.key === this._key) {\n",
       "            return;\n",
       "        } else {\n",
       "            this._key = event.key;\n",
       "        }\n",
       "    }\n",
       "    if (name === 'key_release') {\n",
       "        this._key = null;\n",
       "    }\n",
       "\n",
       "    var value = '';\n",
       "    if (event.ctrlKey && event.key !== 'Control') {\n",
       "        value += 'ctrl+';\n",
       "    }\n",
       "    else if (event.altKey && event.key !== 'Alt') {\n",
       "        value += 'alt+';\n",
       "    }\n",
       "    else if (event.shiftKey && event.key !== 'Shift') {\n",
       "        value += 'shift+';\n",
       "    }\n",
       "\n",
       "    value += 'k' + event.key;\n",
       "\n",
       "    this._key_event_extra(event, name);\n",
       "\n",
       "    this.send_message(name, { key: value, guiEvent: simpleKeys(event) });\n",
       "    return false;\n",
       "};\n",
       "\n",
       "mpl.figure.prototype.toolbar_button_onclick = function (name) {\n",
       "    if (name === 'download') {\n",
       "        this.handle_save(this, null);\n",
       "    } else {\n",
       "        this.send_message('toolbar_button', { name: name });\n",
       "    }\n",
       "};\n",
       "\n",
       "mpl.figure.prototype.toolbar_button_onmouseover = function (tooltip) {\n",
       "    this.message.textContent = tooltip;\n",
       "};\n",
       "\n",
       "///////////////// REMAINING CONTENT GENERATED BY embed_js.py /////////////////\n",
       "// prettier-ignore\n",
       "var _JSXTOOLS_RESIZE_OBSERVER=function(A){var t,i=new WeakMap,n=new WeakMap,a=new WeakMap,r=new WeakMap,o=new Set;function s(e){if(!(this instanceof s))throw new TypeError(\"Constructor requires 'new' operator\");i.set(this,e)}function h(){throw new TypeError(\"Function is not a constructor\")}function c(e,t,i,n){e=0 in arguments?Number(arguments[0]):0,t=1 in arguments?Number(arguments[1]):0,i=2 in arguments?Number(arguments[2]):0,n=3 in arguments?Number(arguments[3]):0,this.right=(this.x=this.left=e)+(this.width=i),this.bottom=(this.y=this.top=t)+(this.height=n),Object.freeze(this)}function d(){t=requestAnimationFrame(d);var s=new WeakMap,p=new Set;o.forEach((function(t){r.get(t).forEach((function(i){var r=t instanceof window.SVGElement,o=a.get(t),d=r?0:parseFloat(o.paddingTop),f=r?0:parseFloat(o.paddingRight),l=r?0:parseFloat(o.paddingBottom),u=r?0:parseFloat(o.paddingLeft),g=r?0:parseFloat(o.borderTopWidth),m=r?0:parseFloat(o.borderRightWidth),w=r?0:parseFloat(o.borderBottomWidth),b=u+f,F=d+l,v=(r?0:parseFloat(o.borderLeftWidth))+m,W=g+w,y=r?0:t.offsetHeight-W-t.clientHeight,E=r?0:t.offsetWidth-v-t.clientWidth,R=b+v,z=F+W,M=r?t.width:parseFloat(o.width)-R-E,O=r?t.height:parseFloat(o.height)-z-y;if(n.has(t)){var k=n.get(t);if(k[0]===M&&k[1]===O)return}n.set(t,[M,O]);var S=Object.create(h.prototype);S.target=t,S.contentRect=new c(u,d,M,O),s.has(i)||(s.set(i,[]),p.add(i)),s.get(i).push(S)}))})),p.forEach((function(e){i.get(e).call(e,s.get(e),e)}))}return s.prototype.observe=function(i){if(i instanceof window.Element){r.has(i)||(r.set(i,new Set),o.add(i),a.set(i,window.getComputedStyle(i)));var n=r.get(i);n.has(this)||n.add(this),cancelAnimationFrame(t),t=requestAnimationFrame(d)}},s.prototype.unobserve=function(i){if(i instanceof window.Element&&r.has(i)){var n=r.get(i);n.has(this)&&(n.delete(this),n.size||(r.delete(i),o.delete(i))),n.size||r.delete(i),o.size||cancelAnimationFrame(t)}},A.DOMRectReadOnly=c,A.ResizeObserver=s,A.ResizeObserverEntry=h,A}; // eslint-disable-line\n",
       "mpl.toolbar_items = [[\"Home\", \"Reset original view\", \"fa fa-home icon-home\", \"home\"], [\"Back\", \"Back to previous view\", \"fa fa-arrow-left icon-arrow-left\", \"back\"], [\"Forward\", \"Forward to next view\", \"fa fa-arrow-right icon-arrow-right\", \"forward\"], [\"\", \"\", \"\", \"\"], [\"Pan\", \"Left button pans, Right button zooms\\nx/y fixes axis, CTRL fixes aspect\", \"fa fa-arrows icon-move\", \"pan\"], [\"Zoom\", \"Zoom to rectangle\\nx/y fixes axis\", \"fa fa-square-o icon-check-empty\", \"zoom\"], [\"\", \"\", \"\", \"\"], [\"Download\", \"Download plot\", \"fa fa-floppy-o icon-save\", \"download\"]];\n",
       "\n",
       "mpl.extensions = [\"eps\", \"jpeg\", \"pgf\", \"pdf\", \"png\", \"ps\", \"raw\", \"svg\", \"tif\"];\n",
       "\n",
       "mpl.default_extension = \"png\";/* global mpl */\n",
       "\n",
       "var comm_websocket_adapter = function (comm) {\n",
       "    // Create a \"websocket\"-like object which calls the given IPython comm\n",
       "    // object with the appropriate methods. Currently this is a non binary\n",
       "    // socket, so there is still some room for performance tuning.\n",
       "    var ws = {};\n",
       "\n",
       "    ws.binaryType = comm.kernel.ws.binaryType;\n",
       "    ws.readyState = comm.kernel.ws.readyState;\n",
       "    function updateReadyState(_event) {\n",
       "        if (comm.kernel.ws) {\n",
       "            ws.readyState = comm.kernel.ws.readyState;\n",
       "        } else {\n",
       "            ws.readyState = 3; // Closed state.\n",
       "        }\n",
       "    }\n",
       "    comm.kernel.ws.addEventListener('open', updateReadyState);\n",
       "    comm.kernel.ws.addEventListener('close', updateReadyState);\n",
       "    comm.kernel.ws.addEventListener('error', updateReadyState);\n",
       "\n",
       "    ws.close = function () {\n",
       "        comm.close();\n",
       "    };\n",
       "    ws.send = function (m) {\n",
       "        //console.log('sending', m);\n",
       "        comm.send(m);\n",
       "    };\n",
       "    // Register the callback with on_msg.\n",
       "    comm.on_msg(function (msg) {\n",
       "        //console.log('receiving', msg['content']['data'], msg);\n",
       "        var data = msg['content']['data'];\n",
       "        if (data['blob'] !== undefined) {\n",
       "            data = {\n",
       "                data: new Blob(msg['buffers'], { type: data['blob'] }),\n",
       "            };\n",
       "        }\n",
       "        // Pass the mpl event to the overridden (by mpl) onmessage function.\n",
       "        ws.onmessage(data);\n",
       "    });\n",
       "    return ws;\n",
       "};\n",
       "\n",
       "mpl.mpl_figure_comm = function (comm, msg) {\n",
       "    // This is the function which gets called when the mpl process\n",
       "    // starts-up an IPython Comm through the \"matplotlib\" channel.\n",
       "\n",
       "    var id = msg.content.data.id;\n",
       "    // Get hold of the div created by the display call when the Comm\n",
       "    // socket was opened in Python.\n",
       "    var element = document.getElementById(id);\n",
       "    var ws_proxy = comm_websocket_adapter(comm);\n",
       "\n",
       "    function ondownload(figure, _format) {\n",
       "        window.open(figure.canvas.toDataURL());\n",
       "    }\n",
       "\n",
       "    var fig = new mpl.figure(id, ws_proxy, ondownload, element);\n",
       "\n",
       "    // Call onopen now - mpl needs it, as it is assuming we've passed it a real\n",
       "    // web socket which is closed, not our websocket->open comm proxy.\n",
       "    ws_proxy.onopen();\n",
       "\n",
       "    fig.parent_element = element;\n",
       "    fig.cell_info = mpl.find_output_cell(\"<div id='\" + id + \"'></div>\");\n",
       "    if (!fig.cell_info) {\n",
       "        console.error('Failed to find cell for figure', id, fig);\n",
       "        return;\n",
       "    }\n",
       "    fig.cell_info[0].output_area.element.on(\n",
       "        'cleared',\n",
       "        { fig: fig },\n",
       "        fig._remove_fig_handler\n",
       "    );\n",
       "};\n",
       "\n",
       "mpl.figure.prototype.handle_close = function (fig, msg) {\n",
       "    var width = fig.canvas.width / fig.ratio;\n",
       "    fig.cell_info[0].output_area.element.off(\n",
       "        'cleared',\n",
       "        fig._remove_fig_handler\n",
       "    );\n",
       "    fig.resizeObserverInstance.unobserve(fig.canvas_div);\n",
       "\n",
       "    // Update the output cell to use the data from the current canvas.\n",
       "    fig.push_to_output();\n",
       "    var dataURL = fig.canvas.toDataURL();\n",
       "    // Re-enable the keyboard manager in IPython - without this line, in FF,\n",
       "    // the notebook keyboard shortcuts fail.\n",
       "    IPython.keyboard_manager.enable();\n",
       "    fig.parent_element.innerHTML =\n",
       "        '<img src=\"' + dataURL + '\" width=\"' + width + '\">';\n",
       "    fig.close_ws(fig, msg);\n",
       "};\n",
       "\n",
       "mpl.figure.prototype.close_ws = function (fig, msg) {\n",
       "    fig.send_message('closing', msg);\n",
       "    // fig.ws.close()\n",
       "};\n",
       "\n",
       "mpl.figure.prototype.push_to_output = function (_remove_interactive) {\n",
       "    // Turn the data on the canvas into data in the output cell.\n",
       "    var width = this.canvas.width / this.ratio;\n",
       "    var dataURL = this.canvas.toDataURL();\n",
       "    this.cell_info[1]['text/html'] =\n",
       "        '<img src=\"' + dataURL + '\" width=\"' + width + '\">';\n",
       "};\n",
       "\n",
       "mpl.figure.prototype.updated_canvas_event = function () {\n",
       "    // Tell IPython that the notebook contents must change.\n",
       "    IPython.notebook.set_dirty(true);\n",
       "    this.send_message('ack', {});\n",
       "    var fig = this;\n",
       "    // Wait a second, then push the new image to the DOM so\n",
       "    // that it is saved nicely (might be nice to debounce this).\n",
       "    setTimeout(function () {\n",
       "        fig.push_to_output();\n",
       "    }, 1000);\n",
       "};\n",
       "\n",
       "mpl.figure.prototype._init_toolbar = function () {\n",
       "    var fig = this;\n",
       "\n",
       "    var toolbar = document.createElement('div');\n",
       "    toolbar.classList = 'btn-toolbar';\n",
       "    this.root.appendChild(toolbar);\n",
       "\n",
       "    function on_click_closure(name) {\n",
       "        return function (_event) {\n",
       "            return fig.toolbar_button_onclick(name);\n",
       "        };\n",
       "    }\n",
       "\n",
       "    function on_mouseover_closure(tooltip) {\n",
       "        return function (event) {\n",
       "            if (!event.currentTarget.disabled) {\n",
       "                return fig.toolbar_button_onmouseover(tooltip);\n",
       "            }\n",
       "        };\n",
       "    }\n",
       "\n",
       "    fig.buttons = {};\n",
       "    var buttonGroup = document.createElement('div');\n",
       "    buttonGroup.classList = 'btn-group';\n",
       "    var button;\n",
       "    for (var toolbar_ind in mpl.toolbar_items) {\n",
       "        var name = mpl.toolbar_items[toolbar_ind][0];\n",
       "        var tooltip = mpl.toolbar_items[toolbar_ind][1];\n",
       "        var image = mpl.toolbar_items[toolbar_ind][2];\n",
       "        var method_name = mpl.toolbar_items[toolbar_ind][3];\n",
       "\n",
       "        if (!name) {\n",
       "            /* Instead of a spacer, we start a new button group. */\n",
       "            if (buttonGroup.hasChildNodes()) {\n",
       "                toolbar.appendChild(buttonGroup);\n",
       "            }\n",
       "            buttonGroup = document.createElement('div');\n",
       "            buttonGroup.classList = 'btn-group';\n",
       "            continue;\n",
       "        }\n",
       "\n",
       "        button = fig.buttons[name] = document.createElement('button');\n",
       "        button.classList = 'btn btn-default';\n",
       "        button.href = '#';\n",
       "        button.title = name;\n",
       "        button.innerHTML = '<i class=\"fa ' + image + ' fa-lg\"></i>';\n",
       "        button.addEventListener('click', on_click_closure(method_name));\n",
       "        button.addEventListener('mouseover', on_mouseover_closure(tooltip));\n",
       "        buttonGroup.appendChild(button);\n",
       "    }\n",
       "\n",
       "    if (buttonGroup.hasChildNodes()) {\n",
       "        toolbar.appendChild(buttonGroup);\n",
       "    }\n",
       "\n",
       "    // Add the status bar.\n",
       "    var status_bar = document.createElement('span');\n",
       "    status_bar.classList = 'mpl-message pull-right';\n",
       "    toolbar.appendChild(status_bar);\n",
       "    this.message = status_bar;\n",
       "\n",
       "    // Add the close button to the window.\n",
       "    var buttongrp = document.createElement('div');\n",
       "    buttongrp.classList = 'btn-group inline pull-right';\n",
       "    button = document.createElement('button');\n",
       "    button.classList = 'btn btn-mini btn-primary';\n",
       "    button.href = '#';\n",
       "    button.title = 'Stop Interaction';\n",
       "    button.innerHTML = '<i class=\"fa fa-power-off icon-remove icon-large\"></i>';\n",
       "    button.addEventListener('click', function (_evt) {\n",
       "        fig.handle_close(fig, {});\n",
       "    });\n",
       "    button.addEventListener(\n",
       "        'mouseover',\n",
       "        on_mouseover_closure('Stop Interaction')\n",
       "    );\n",
       "    buttongrp.appendChild(button);\n",
       "    var titlebar = this.root.querySelector('.ui-dialog-titlebar');\n",
       "    titlebar.insertBefore(buttongrp, titlebar.firstChild);\n",
       "};\n",
       "\n",
       "mpl.figure.prototype._remove_fig_handler = function (event) {\n",
       "    var fig = event.data.fig;\n",
       "    if (event.target !== this) {\n",
       "        // Ignore bubbled events from children.\n",
       "        return;\n",
       "    }\n",
       "    fig.close_ws(fig, {});\n",
       "};\n",
       "\n",
       "mpl.figure.prototype._root_extra_style = function (el) {\n",
       "    el.style.boxSizing = 'content-box'; // override notebook setting of border-box.\n",
       "};\n",
       "\n",
       "mpl.figure.prototype._canvas_extra_style = function (el) {\n",
       "    // this is important to make the div 'focusable\n",
       "    el.setAttribute('tabindex', 0);\n",
       "    // reach out to IPython and tell the keyboard manager to turn it's self\n",
       "    // off when our div gets focus\n",
       "\n",
       "    // location in version 3\n",
       "    if (IPython.notebook.keyboard_manager) {\n",
       "        IPython.notebook.keyboard_manager.register_events(el);\n",
       "    } else {\n",
       "        // location in version 2\n",
       "        IPython.keyboard_manager.register_events(el);\n",
       "    }\n",
       "};\n",
       "\n",
       "mpl.figure.prototype._key_event_extra = function (event, _name) {\n",
       "    // Check for shift+enter\n",
       "    if (event.shiftKey && event.which === 13) {\n",
       "        this.canvas_div.blur();\n",
       "        // select the cell after this one\n",
       "        var index = IPython.notebook.find_cell_index(this.cell_info[0]);\n",
       "        IPython.notebook.select(index + 1);\n",
       "    }\n",
       "};\n",
       "\n",
       "mpl.figure.prototype.handle_save = function (fig, _msg) {\n",
       "    fig.ondownload(fig, null);\n",
       "};\n",
       "\n",
       "mpl.find_output_cell = function (html_output) {\n",
       "    // Return the cell and output element which can be found *uniquely* in the notebook.\n",
       "    // Note - this is a bit hacky, but it is done because the \"notebook_saving.Notebook\"\n",
       "    // IPython event is triggered only after the cells have been serialised, which for\n",
       "    // our purposes (turning an active figure into a static one), is too late.\n",
       "    var cells = IPython.notebook.get_cells();\n",
       "    var ncells = cells.length;\n",
       "    for (var i = 0; i < ncells; i++) {\n",
       "        var cell = cells[i];\n",
       "        if (cell.cell_type === 'code') {\n",
       "            for (var j = 0; j < cell.output_area.outputs.length; j++) {\n",
       "                var data = cell.output_area.outputs[j];\n",
       "                if (data.data) {\n",
       "                    // IPython >= 3 moved mimebundle to data attribute of output\n",
       "                    data = data.data;\n",
       "                }\n",
       "                if (data['text/html'] === html_output) {\n",
       "                    return [cell, data, j];\n",
       "                }\n",
       "            }\n",
       "        }\n",
       "    }\n",
       "};\n",
       "\n",
       "// Register the function which deals with the matplotlib target/channel.\n",
       "// The kernel may be null if the page has been refreshed.\n",
       "if (IPython.notebook.kernel !== null) {\n",
       "    IPython.notebook.kernel.comm_manager.register_target(\n",
       "        'matplotlib',\n",
       "        mpl.mpl_figure_comm\n",
       "    );\n",
       "}\n"
      ],
      "text/plain": [
       "<IPython.core.display.Javascript object>"
      ]
     },
     "metadata": {},
     "output_type": "display_data"
    },
    {
     "data": {
      "text/html": [
       "<img src=\"data:image/png;base64,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\" width=\"503.5\">"
      ],
      "text/plain": [
       "<IPython.core.display.HTML object>"
      ]
     },
     "metadata": {},
     "output_type": "display_data"
    }
   ],
   "source": [
    "# %matplotlib qt\n",
    "%matplotlib nbagg\n",
    "ax = ut.plotSetup3d(-7, 7, -7, 7, -10, 10, figsize = (7, 7))\n",
    "v = [4.0, 4.0, 2.0]\n",
    "u = [-4.0, 3.0, 1.0]\n",
    "npts = 50\n",
    "# set locations of points that fall within x,y\n",
    "xc = -7.0 + 14.0 * np.random.random(npts)\n",
    "yc = -7.0 + 14.0 * np.random.random(npts)\n",
    "A = np.array([u,v]).T\n",
    "# project these points onto the plane\n",
    "P = A @ np.linalg.inv(A.T @ A) @ A.T\n",
    "coords = P @ np.array([xc, yc, np.zeros(npts)])\n",
    "coords[2] += np.random.randn(npts)\n",
    "ax.plot(coords[0], coords[1], 'ro', zs=coords[2], markersize = 6);"
   ]
  },
  {
   "cell_type": "markdown",
   "metadata": {
    "collapsed": true,
    "slideshow": {
     "slide_type": "slide"
    }
   },
   "source": [
    "__Example.__  \n",
    "\n",
    "In geography, local models of terrain are constructed from data $(u_1, v_1, y_1), \\dots, (u_n, v_n, y_n)$ where $u_j, v_j$, and $y_j$ are latitude, longitude, and altitude, respectively."
   ]
  },
  {
   "cell_type": "markdown",
   "metadata": {
    "slideshow": {
     "slide_type": "fragment"
    }
   },
   "source": [
    "Let's describe the linear models that gives a least-squares fit to such data.  The solution is called the least-squares _plane._"
   ]
  },
  {
   "cell_type": "markdown",
   "metadata": {
    "slideshow": {
     "slide_type": "fragment"
    }
   },
   "source": [
    "__Solution.__  We expect the data to satisfy these equations:\n",
    "\n",
    "$$y_1 = \\beta_0 + \\beta_1 u_1 + \\beta_2 v_1 + \\epsilon_1$$\n",
    "$$y_1 = \\beta_0 + \\beta_1 u_2 + \\beta_2 v_2 + \\epsilon_2$$\n",
    "$$\\vdots$$\n",
    "$$y_1 = \\beta_0 + \\beta_1 u_n + \\beta_2 v_n + \\epsilon_n$$"
   ]
  },
  {
   "cell_type": "markdown",
   "metadata": {
    "slideshow": {
     "slide_type": "fragment"
    }
   },
   "source": [
    "This system has the matrix for $\\mathbf{y} = X\\mathbf{\\beta} + \\epsilon,$ where\n",
    "\n",
    "$$\\mathbf{y} = \\begin{bmatrix}y_1\\\\y_1\\\\\\vdots\\\\y_n\\end{bmatrix},\\;\\;X = \\begin{bmatrix}1&u_1&v_1\\\\1&u_2&v_2\\\\\\vdots&\\vdots&\\vdots\\\\1&u_n&v_n\\end{bmatrix},\\;\\;\\mathbf{\\beta}=\\begin{bmatrix}\\beta_0\\\\\\beta_1\\\\\\beta_2\\end{bmatrix},\\;\\;\\epsilon = \\begin{bmatrix}\\epsilon_1\\\\\\epsilon_2\\\\\\vdots\\\\\\epsilon_n\\end{bmatrix}$$"
   ]
  },
  {
   "cell_type": "code",
   "execution_count": 46,
   "metadata": {
    "hide_input": false,
    "slideshow": {
     "slide_type": "fragment"
    },
    "tags": [
     "hide-input"
    ]
   },
   "outputs": [
    {
     "data": {
      "application/javascript": [
       "/* Put everything inside the global mpl namespace */\n",
       "/* global mpl */\n",
       "window.mpl = {};\n",
       "\n",
       "mpl.get_websocket_type = function () {\n",
       "    if (typeof WebSocket !== 'undefined') {\n",
       "        return WebSocket;\n",
       "    } else if (typeof MozWebSocket !== 'undefined') {\n",
       "        return MozWebSocket;\n",
       "    } else {\n",
       "        alert(\n",
       "            'Your browser does not have WebSocket support. ' +\n",
       "                'Please try Chrome, Safari or Firefox ≥ 6. ' +\n",
       "                'Firefox 4 and 5 are also supported but you ' +\n",
       "                'have to enable WebSockets in about:config.'\n",
       "        );\n",
       "    }\n",
       "};\n",
       "\n",
       "mpl.figure = function (figure_id, websocket, ondownload, parent_element) {\n",
       "    this.id = figure_id;\n",
       "\n",
       "    this.ws = websocket;\n",
       "\n",
       "    this.supports_binary = this.ws.binaryType !== undefined;\n",
       "\n",
       "    if (!this.supports_binary) {\n",
       "        var warnings = document.getElementById('mpl-warnings');\n",
       "        if (warnings) {\n",
       "            warnings.style.display = 'block';\n",
       "            warnings.textContent =\n",
       "                'This browser does not support binary websocket messages. ' +\n",
       "                'Performance may be slow.';\n",
       "        }\n",
       "    }\n",
       "\n",
       "    this.imageObj = new Image();\n",
       "\n",
       "    this.context = undefined;\n",
       "    this.message = undefined;\n",
       "    this.canvas = undefined;\n",
       "    this.rubberband_canvas = undefined;\n",
       "    this.rubberband_context = undefined;\n",
       "    this.format_dropdown = undefined;\n",
       "\n",
       "    this.image_mode = 'full';\n",
       "\n",
       "    this.root = document.createElement('div');\n",
       "    this.root.setAttribute('style', 'display: inline-block');\n",
       "    this._root_extra_style(this.root);\n",
       "\n",
       "    parent_element.appendChild(this.root);\n",
       "\n",
       "    this._init_header(this);\n",
       "    this._init_canvas(this);\n",
       "    this._init_toolbar(this);\n",
       "\n",
       "    var fig = this;\n",
       "\n",
       "    this.waiting = false;\n",
       "\n",
       "    this.ws.onopen = function () {\n",
       "        fig.send_message('supports_binary', { value: fig.supports_binary });\n",
       "        fig.send_message('send_image_mode', {});\n",
       "        if (fig.ratio !== 1) {\n",
       "            fig.send_message('set_device_pixel_ratio', {\n",
       "                device_pixel_ratio: fig.ratio,\n",
       "            });\n",
       "        }\n",
       "        fig.send_message('refresh', {});\n",
       "    };\n",
       "\n",
       "    this.imageObj.onload = function () {\n",
       "        if (fig.image_mode === 'full') {\n",
       "            // Full images could contain transparency (where diff images\n",
       "            // almost always do), so we need to clear the canvas so that\n",
       "            // there is no ghosting.\n",
       "            fig.context.clearRect(0, 0, fig.canvas.width, fig.canvas.height);\n",
       "        }\n",
       "        fig.context.drawImage(fig.imageObj, 0, 0);\n",
       "    };\n",
       "\n",
       "    this.imageObj.onunload = function () {\n",
       "        fig.ws.close();\n",
       "    };\n",
       "\n",
       "    this.ws.onmessage = this._make_on_message_function(this);\n",
       "\n",
       "    this.ondownload = ondownload;\n",
       "};\n",
       "\n",
       "mpl.figure.prototype._init_header = function () {\n",
       "    var titlebar = document.createElement('div');\n",
       "    titlebar.classList =\n",
       "        'ui-dialog-titlebar ui-widget-header ui-corner-all ui-helper-clearfix';\n",
       "    var titletext = document.createElement('div');\n",
       "    titletext.classList = 'ui-dialog-title';\n",
       "    titletext.setAttribute(\n",
       "        'style',\n",
       "        'width: 100%; text-align: center; padding: 3px;'\n",
       "    );\n",
       "    titlebar.appendChild(titletext);\n",
       "    this.root.appendChild(titlebar);\n",
       "    this.header = titletext;\n",
       "};\n",
       "\n",
       "mpl.figure.prototype._canvas_extra_style = function (_canvas_div) {};\n",
       "\n",
       "mpl.figure.prototype._root_extra_style = function (_canvas_div) {};\n",
       "\n",
       "mpl.figure.prototype._init_canvas = function () {\n",
       "    var fig = this;\n",
       "\n",
       "    var canvas_div = (this.canvas_div = document.createElement('div'));\n",
       "    canvas_div.setAttribute(\n",
       "        'style',\n",
       "        'border: 1px solid #ddd;' +\n",
       "            'box-sizing: content-box;' +\n",
       "            'clear: both;' +\n",
       "            'min-height: 1px;' +\n",
       "            'min-width: 1px;' +\n",
       "            'outline: 0;' +\n",
       "            'overflow: hidden;' +\n",
       "            'position: relative;' +\n",
       "            'resize: both;'\n",
       "    );\n",
       "\n",
       "    function on_keyboard_event_closure(name) {\n",
       "        return function (event) {\n",
       "            return fig.key_event(event, name);\n",
       "        };\n",
       "    }\n",
       "\n",
       "    canvas_div.addEventListener(\n",
       "        'keydown',\n",
       "        on_keyboard_event_closure('key_press')\n",
       "    );\n",
       "    canvas_div.addEventListener(\n",
       "        'keyup',\n",
       "        on_keyboard_event_closure('key_release')\n",
       "    );\n",
       "\n",
       "    this._canvas_extra_style(canvas_div);\n",
       "    this.root.appendChild(canvas_div);\n",
       "\n",
       "    var canvas = (this.canvas = document.createElement('canvas'));\n",
       "    canvas.classList.add('mpl-canvas');\n",
       "    canvas.setAttribute('style', 'box-sizing: content-box;');\n",
       "\n",
       "    this.context = canvas.getContext('2d');\n",
       "\n",
       "    var backingStore =\n",
       "        this.context.backingStorePixelRatio ||\n",
       "        this.context.webkitBackingStorePixelRatio ||\n",
       "        this.context.mozBackingStorePixelRatio ||\n",
       "        this.context.msBackingStorePixelRatio ||\n",
       "        this.context.oBackingStorePixelRatio ||\n",
       "        this.context.backingStorePixelRatio ||\n",
       "        1;\n",
       "\n",
       "    this.ratio = (window.devicePixelRatio || 1) / backingStore;\n",
       "\n",
       "    var rubberband_canvas = (this.rubberband_canvas = document.createElement(\n",
       "        'canvas'\n",
       "    ));\n",
       "    rubberband_canvas.setAttribute(\n",
       "        'style',\n",
       "        'box-sizing: content-box; position: absolute; left: 0; top: 0; z-index: 1;'\n",
       "    );\n",
       "\n",
       "    // Apply a ponyfill if ResizeObserver is not implemented by browser.\n",
       "    if (this.ResizeObserver === undefined) {\n",
       "        if (window.ResizeObserver !== undefined) {\n",
       "            this.ResizeObserver = window.ResizeObserver;\n",
       "        } else {\n",
       "            var obs = _JSXTOOLS_RESIZE_OBSERVER({});\n",
       "            this.ResizeObserver = obs.ResizeObserver;\n",
       "        }\n",
       "    }\n",
       "\n",
       "    this.resizeObserverInstance = new this.ResizeObserver(function (entries) {\n",
       "        var nentries = entries.length;\n",
       "        for (var i = 0; i < nentries; i++) {\n",
       "            var entry = entries[i];\n",
       "            var width, height;\n",
       "            if (entry.contentBoxSize) {\n",
       "                if (entry.contentBoxSize instanceof Array) {\n",
       "                    // Chrome 84 implements new version of spec.\n",
       "                    width = entry.contentBoxSize[0].inlineSize;\n",
       "                    height = entry.contentBoxSize[0].blockSize;\n",
       "                } else {\n",
       "                    // Firefox implements old version of spec.\n",
       "                    width = entry.contentBoxSize.inlineSize;\n",
       "                    height = entry.contentBoxSize.blockSize;\n",
       "                }\n",
       "            } else {\n",
       "                // Chrome <84 implements even older version of spec.\n",
       "                width = entry.contentRect.width;\n",
       "                height = entry.contentRect.height;\n",
       "            }\n",
       "\n",
       "            // Keep the size of the canvas and rubber band canvas in sync with\n",
       "            // the canvas container.\n",
       "            if (entry.devicePixelContentBoxSize) {\n",
       "                // Chrome 84 implements new version of spec.\n",
       "                canvas.setAttribute(\n",
       "                    'width',\n",
       "                    entry.devicePixelContentBoxSize[0].inlineSize\n",
       "                );\n",
       "                canvas.setAttribute(\n",
       "                    'height',\n",
       "                    entry.devicePixelContentBoxSize[0].blockSize\n",
       "                );\n",
       "            } else {\n",
       "                canvas.setAttribute('width', width * fig.ratio);\n",
       "                canvas.setAttribute('height', height * fig.ratio);\n",
       "            }\n",
       "            canvas.setAttribute(\n",
       "                'style',\n",
       "                'width: ' + width + 'px; height: ' + height + 'px;'\n",
       "            );\n",
       "\n",
       "            rubberband_canvas.setAttribute('width', width);\n",
       "            rubberband_canvas.setAttribute('height', height);\n",
       "\n",
       "            // And update the size in Python. We ignore the initial 0/0 size\n",
       "            // that occurs as the element is placed into the DOM, which should\n",
       "            // otherwise not happen due to the minimum size styling.\n",
       "            if (fig.ws.readyState == 1 && width != 0 && height != 0) {\n",
       "                fig.request_resize(width, height);\n",
       "            }\n",
       "        }\n",
       "    });\n",
       "    this.resizeObserverInstance.observe(canvas_div);\n",
       "\n",
       "    function on_mouse_event_closure(name) {\n",
       "        return function (event) {\n",
       "            return fig.mouse_event(event, name);\n",
       "        };\n",
       "    }\n",
       "\n",
       "    rubberband_canvas.addEventListener(\n",
       "        'mousedown',\n",
       "        on_mouse_event_closure('button_press')\n",
       "    );\n",
       "    rubberband_canvas.addEventListener(\n",
       "        'mouseup',\n",
       "        on_mouse_event_closure('button_release')\n",
       "    );\n",
       "    rubberband_canvas.addEventListener(\n",
       "        'dblclick',\n",
       "        on_mouse_event_closure('dblclick')\n",
       "    );\n",
       "    // Throttle sequential mouse events to 1 every 20ms.\n",
       "    rubberband_canvas.addEventListener(\n",
       "        'mousemove',\n",
       "        on_mouse_event_closure('motion_notify')\n",
       "    );\n",
       "\n",
       "    rubberband_canvas.addEventListener(\n",
       "        'mouseenter',\n",
       "        on_mouse_event_closure('figure_enter')\n",
       "    );\n",
       "    rubberband_canvas.addEventListener(\n",
       "        'mouseleave',\n",
       "        on_mouse_event_closure('figure_leave')\n",
       "    );\n",
       "\n",
       "    canvas_div.addEventListener('wheel', function (event) {\n",
       "        if (event.deltaY < 0) {\n",
       "            event.step = 1;\n",
       "        } else {\n",
       "            event.step = -1;\n",
       "        }\n",
       "        on_mouse_event_closure('scroll')(event);\n",
       "    });\n",
       "\n",
       "    canvas_div.appendChild(canvas);\n",
       "    canvas_div.appendChild(rubberband_canvas);\n",
       "\n",
       "    this.rubberband_context = rubberband_canvas.getContext('2d');\n",
       "    this.rubberband_context.strokeStyle = '#000000';\n",
       "\n",
       "    this._resize_canvas = function (width, height, forward) {\n",
       "        if (forward) {\n",
       "            canvas_div.style.width = width + 'px';\n",
       "            canvas_div.style.height = height + 'px';\n",
       "        }\n",
       "    };\n",
       "\n",
       "    // Disable right mouse context menu.\n",
       "    this.rubberband_canvas.addEventListener('contextmenu', function (_e) {\n",
       "        event.preventDefault();\n",
       "        return false;\n",
       "    });\n",
       "\n",
       "    function set_focus() {\n",
       "        canvas.focus();\n",
       "        canvas_div.focus();\n",
       "    }\n",
       "\n",
       "    window.setTimeout(set_focus, 100);\n",
       "};\n",
       "\n",
       "mpl.figure.prototype._init_toolbar = function () {\n",
       "    var fig = this;\n",
       "\n",
       "    var toolbar = document.createElement('div');\n",
       "    toolbar.classList = 'mpl-toolbar';\n",
       "    this.root.appendChild(toolbar);\n",
       "\n",
       "    function on_click_closure(name) {\n",
       "        return function (_event) {\n",
       "            return fig.toolbar_button_onclick(name);\n",
       "        };\n",
       "    }\n",
       "\n",
       "    function on_mouseover_closure(tooltip) {\n",
       "        return function (event) {\n",
       "            if (!event.currentTarget.disabled) {\n",
       "                return fig.toolbar_button_onmouseover(tooltip);\n",
       "            }\n",
       "        };\n",
       "    }\n",
       "\n",
       "    fig.buttons = {};\n",
       "    var buttonGroup = document.createElement('div');\n",
       "    buttonGroup.classList = 'mpl-button-group';\n",
       "    for (var toolbar_ind in mpl.toolbar_items) {\n",
       "        var name = mpl.toolbar_items[toolbar_ind][0];\n",
       "        var tooltip = mpl.toolbar_items[toolbar_ind][1];\n",
       "        var image = mpl.toolbar_items[toolbar_ind][2];\n",
       "        var method_name = mpl.toolbar_items[toolbar_ind][3];\n",
       "\n",
       "        if (!name) {\n",
       "            /* Instead of a spacer, we start a new button group. */\n",
       "            if (buttonGroup.hasChildNodes()) {\n",
       "                toolbar.appendChild(buttonGroup);\n",
       "            }\n",
       "            buttonGroup = document.createElement('div');\n",
       "            buttonGroup.classList = 'mpl-button-group';\n",
       "            continue;\n",
       "        }\n",
       "\n",
       "        var button = (fig.buttons[name] = document.createElement('button'));\n",
       "        button.classList = 'mpl-widget';\n",
       "        button.setAttribute('role', 'button');\n",
       "        button.setAttribute('aria-disabled', 'false');\n",
       "        button.addEventListener('click', on_click_closure(method_name));\n",
       "        button.addEventListener('mouseover', on_mouseover_closure(tooltip));\n",
       "\n",
       "        var icon_img = document.createElement('img');\n",
       "        icon_img.src = '_images/' + image + '.png';\n",
       "        icon_img.srcset = '_images/' + image + '_large.png 2x';\n",
       "        icon_img.alt = tooltip;\n",
       "        button.appendChild(icon_img);\n",
       "\n",
       "        buttonGroup.appendChild(button);\n",
       "    }\n",
       "\n",
       "    if (buttonGroup.hasChildNodes()) {\n",
       "        toolbar.appendChild(buttonGroup);\n",
       "    }\n",
       "\n",
       "    var fmt_picker = document.createElement('select');\n",
       "    fmt_picker.classList = 'mpl-widget';\n",
       "    toolbar.appendChild(fmt_picker);\n",
       "    this.format_dropdown = fmt_picker;\n",
       "\n",
       "    for (var ind in mpl.extensions) {\n",
       "        var fmt = mpl.extensions[ind];\n",
       "        var option = document.createElement('option');\n",
       "        option.selected = fmt === mpl.default_extension;\n",
       "        option.innerHTML = fmt;\n",
       "        fmt_picker.appendChild(option);\n",
       "    }\n",
       "\n",
       "    var status_bar = document.createElement('span');\n",
       "    status_bar.classList = 'mpl-message';\n",
       "    toolbar.appendChild(status_bar);\n",
       "    this.message = status_bar;\n",
       "};\n",
       "\n",
       "mpl.figure.prototype.request_resize = function (x_pixels, y_pixels) {\n",
       "    // Request matplotlib to resize the figure. Matplotlib will then trigger a resize in the client,\n",
       "    // which will in turn request a refresh of the image.\n",
       "    this.send_message('resize', { width: x_pixels, height: y_pixels });\n",
       "};\n",
       "\n",
       "mpl.figure.prototype.send_message = function (type, properties) {\n",
       "    properties['type'] = type;\n",
       "    properties['figure_id'] = this.id;\n",
       "    this.ws.send(JSON.stringify(properties));\n",
       "};\n",
       "\n",
       "mpl.figure.prototype.send_draw_message = function () {\n",
       "    if (!this.waiting) {\n",
       "        this.waiting = true;\n",
       "        this.ws.send(JSON.stringify({ type: 'draw', figure_id: this.id }));\n",
       "    }\n",
       "};\n",
       "\n",
       "mpl.figure.prototype.handle_save = function (fig, _msg) {\n",
       "    var format_dropdown = fig.format_dropdown;\n",
       "    var format = format_dropdown.options[format_dropdown.selectedIndex].value;\n",
       "    fig.ondownload(fig, format);\n",
       "};\n",
       "\n",
       "mpl.figure.prototype.handle_resize = function (fig, msg) {\n",
       "    var size = msg['size'];\n",
       "    if (size[0] !== fig.canvas.width || size[1] !== fig.canvas.height) {\n",
       "        fig._resize_canvas(size[0], size[1], msg['forward']);\n",
       "        fig.send_message('refresh', {});\n",
       "    }\n",
       "};\n",
       "\n",
       "mpl.figure.prototype.handle_rubberband = function (fig, msg) {\n",
       "    var x0 = msg['x0'] / fig.ratio;\n",
       "    var y0 = (fig.canvas.height - msg['y0']) / fig.ratio;\n",
       "    var x1 = msg['x1'] / fig.ratio;\n",
       "    var y1 = (fig.canvas.height - msg['y1']) / fig.ratio;\n",
       "    x0 = Math.floor(x0) + 0.5;\n",
       "    y0 = Math.floor(y0) + 0.5;\n",
       "    x1 = Math.floor(x1) + 0.5;\n",
       "    y1 = Math.floor(y1) + 0.5;\n",
       "    var min_x = Math.min(x0, x1);\n",
       "    var min_y = Math.min(y0, y1);\n",
       "    var width = Math.abs(x1 - x0);\n",
       "    var height = Math.abs(y1 - y0);\n",
       "\n",
       "    fig.rubberband_context.clearRect(\n",
       "        0,\n",
       "        0,\n",
       "        fig.canvas.width / fig.ratio,\n",
       "        fig.canvas.height / fig.ratio\n",
       "    );\n",
       "\n",
       "    fig.rubberband_context.strokeRect(min_x, min_y, width, height);\n",
       "};\n",
       "\n",
       "mpl.figure.prototype.handle_figure_label = function (fig, msg) {\n",
       "    // Updates the figure title.\n",
       "    fig.header.textContent = msg['label'];\n",
       "};\n",
       "\n",
       "mpl.figure.prototype.handle_cursor = function (fig, msg) {\n",
       "    fig.rubberband_canvas.style.cursor = msg['cursor'];\n",
       "};\n",
       "\n",
       "mpl.figure.prototype.handle_message = function (fig, msg) {\n",
       "    fig.message.textContent = msg['message'];\n",
       "};\n",
       "\n",
       "mpl.figure.prototype.handle_draw = function (fig, _msg) {\n",
       "    // Request the server to send over a new figure.\n",
       "    fig.send_draw_message();\n",
       "};\n",
       "\n",
       "mpl.figure.prototype.handle_image_mode = function (fig, msg) {\n",
       "    fig.image_mode = msg['mode'];\n",
       "};\n",
       "\n",
       "mpl.figure.prototype.handle_history_buttons = function (fig, msg) {\n",
       "    for (var key in msg) {\n",
       "        if (!(key in fig.buttons)) {\n",
       "            continue;\n",
       "        }\n",
       "        fig.buttons[key].disabled = !msg[key];\n",
       "        fig.buttons[key].setAttribute('aria-disabled', !msg[key]);\n",
       "    }\n",
       "};\n",
       "\n",
       "mpl.figure.prototype.handle_navigate_mode = function (fig, msg) {\n",
       "    if (msg['mode'] === 'PAN') {\n",
       "        fig.buttons['Pan'].classList.add('active');\n",
       "        fig.buttons['Zoom'].classList.remove('active');\n",
       "    } else if (msg['mode'] === 'ZOOM') {\n",
       "        fig.buttons['Pan'].classList.remove('active');\n",
       "        fig.buttons['Zoom'].classList.add('active');\n",
       "    } else {\n",
       "        fig.buttons['Pan'].classList.remove('active');\n",
       "        fig.buttons['Zoom'].classList.remove('active');\n",
       "    }\n",
       "};\n",
       "\n",
       "mpl.figure.prototype.updated_canvas_event = function () {\n",
       "    // Called whenever the canvas gets updated.\n",
       "    this.send_message('ack', {});\n",
       "};\n",
       "\n",
       "// A function to construct a web socket function for onmessage handling.\n",
       "// Called in the figure constructor.\n",
       "mpl.figure.prototype._make_on_message_function = function (fig) {\n",
       "    return function socket_on_message(evt) {\n",
       "        if (evt.data instanceof Blob) {\n",
       "            var img = evt.data;\n",
       "            if (img.type !== 'image/png') {\n",
       "                /* FIXME: We get \"Resource interpreted as Image but\n",
       "                 * transferred with MIME type text/plain:\" errors on\n",
       "                 * Chrome.  But how to set the MIME type?  It doesn't seem\n",
       "                 * to be part of the websocket stream */\n",
       "                img.type = 'image/png';\n",
       "            }\n",
       "\n",
       "            /* Free the memory for the previous frames */\n",
       "            if (fig.imageObj.src) {\n",
       "                (window.URL || window.webkitURL).revokeObjectURL(\n",
       "                    fig.imageObj.src\n",
       "                );\n",
       "            }\n",
       "\n",
       "            fig.imageObj.src = (window.URL || window.webkitURL).createObjectURL(\n",
       "                img\n",
       "            );\n",
       "            fig.updated_canvas_event();\n",
       "            fig.waiting = false;\n",
       "            return;\n",
       "        } else if (\n",
       "            typeof evt.data === 'string' &&\n",
       "            evt.data.slice(0, 21) === 'data:image/png;base64'\n",
       "        ) {\n",
       "            fig.imageObj.src = evt.data;\n",
       "            fig.updated_canvas_event();\n",
       "            fig.waiting = false;\n",
       "            return;\n",
       "        }\n",
       "\n",
       "        var msg = JSON.parse(evt.data);\n",
       "        var msg_type = msg['type'];\n",
       "\n",
       "        // Call the  \"handle_{type}\" callback, which takes\n",
       "        // the figure and JSON message as its only arguments.\n",
       "        try {\n",
       "            var callback = fig['handle_' + msg_type];\n",
       "        } catch (e) {\n",
       "            console.log(\n",
       "                \"No handler for the '\" + msg_type + \"' message type: \",\n",
       "                msg\n",
       "            );\n",
       "            return;\n",
       "        }\n",
       "\n",
       "        if (callback) {\n",
       "            try {\n",
       "                // console.log(\"Handling '\" + msg_type + \"' message: \", msg);\n",
       "                callback(fig, msg);\n",
       "            } catch (e) {\n",
       "                console.log(\n",
       "                    \"Exception inside the 'handler_\" + msg_type + \"' callback:\",\n",
       "                    e,\n",
       "                    e.stack,\n",
       "                    msg\n",
       "                );\n",
       "            }\n",
       "        }\n",
       "    };\n",
       "};\n",
       "\n",
       "// from https://stackoverflow.com/questions/1114465/getting-mouse-location-in-canvas\n",
       "mpl.findpos = function (e) {\n",
       "    //this section is from http://www.quirksmode.org/js/events_properties.html\n",
       "    var targ;\n",
       "    if (!e) {\n",
       "        e = window.event;\n",
       "    }\n",
       "    if (e.target) {\n",
       "        targ = e.target;\n",
       "    } else if (e.srcElement) {\n",
       "        targ = e.srcElement;\n",
       "    }\n",
       "    if (targ.nodeType === 3) {\n",
       "        // defeat Safari bug\n",
       "        targ = targ.parentNode;\n",
       "    }\n",
       "\n",
       "    // pageX,Y are the mouse positions relative to the document\n",
       "    var boundingRect = targ.getBoundingClientRect();\n",
       "    var x = e.pageX - (boundingRect.left + document.body.scrollLeft);\n",
       "    var y = e.pageY - (boundingRect.top + document.body.scrollTop);\n",
       "\n",
       "    return { x: x, y: y };\n",
       "};\n",
       "\n",
       "/*\n",
       " * return a copy of an object with only non-object keys\n",
       " * we need this to avoid circular references\n",
       " * https://stackoverflow.com/a/24161582/3208463\n",
       " */\n",
       "function simpleKeys(original) {\n",
       "    return Object.keys(original).reduce(function (obj, key) {\n",
       "        if (typeof original[key] !== 'object') {\n",
       "            obj[key] = original[key];\n",
       "        }\n",
       "        return obj;\n",
       "    }, {});\n",
       "}\n",
       "\n",
       "mpl.figure.prototype.mouse_event = function (event, name) {\n",
       "    var canvas_pos = mpl.findpos(event);\n",
       "\n",
       "    if (name === 'button_press') {\n",
       "        this.canvas.focus();\n",
       "        this.canvas_div.focus();\n",
       "    }\n",
       "\n",
       "    var x = canvas_pos.x * this.ratio;\n",
       "    var y = canvas_pos.y * this.ratio;\n",
       "\n",
       "    this.send_message(name, {\n",
       "        x: x,\n",
       "        y: y,\n",
       "        button: event.button,\n",
       "        step: event.step,\n",
       "        guiEvent: simpleKeys(event),\n",
       "    });\n",
       "\n",
       "    /* This prevents the web browser from automatically changing to\n",
       "     * the text insertion cursor when the button is pressed.  We want\n",
       "     * to control all of the cursor setting manually through the\n",
       "     * 'cursor' event from matplotlib */\n",
       "    event.preventDefault();\n",
       "    return false;\n",
       "};\n",
       "\n",
       "mpl.figure.prototype._key_event_extra = function (_event, _name) {\n",
       "    // Handle any extra behaviour associated with a key event\n",
       "};\n",
       "\n",
       "mpl.figure.prototype.key_event = function (event, name) {\n",
       "    // Prevent repeat events\n",
       "    if (name === 'key_press') {\n",
       "        if (event.key === this._key) {\n",
       "            return;\n",
       "        } else {\n",
       "            this._key = event.key;\n",
       "        }\n",
       "    }\n",
       "    if (name === 'key_release') {\n",
       "        this._key = null;\n",
       "    }\n",
       "\n",
       "    var value = '';\n",
       "    if (event.ctrlKey && event.key !== 'Control') {\n",
       "        value += 'ctrl+';\n",
       "    }\n",
       "    else if (event.altKey && event.key !== 'Alt') {\n",
       "        value += 'alt+';\n",
       "    }\n",
       "    else if (event.shiftKey && event.key !== 'Shift') {\n",
       "        value += 'shift+';\n",
       "    }\n",
       "\n",
       "    value += 'k' + event.key;\n",
       "\n",
       "    this._key_event_extra(event, name);\n",
       "\n",
       "    this.send_message(name, { key: value, guiEvent: simpleKeys(event) });\n",
       "    return false;\n",
       "};\n",
       "\n",
       "mpl.figure.prototype.toolbar_button_onclick = function (name) {\n",
       "    if (name === 'download') {\n",
       "        this.handle_save(this, null);\n",
       "    } else {\n",
       "        this.send_message('toolbar_button', { name: name });\n",
       "    }\n",
       "};\n",
       "\n",
       "mpl.figure.prototype.toolbar_button_onmouseover = function (tooltip) {\n",
       "    this.message.textContent = tooltip;\n",
       "};\n",
       "\n",
       "///////////////// REMAINING CONTENT GENERATED BY embed_js.py /////////////////\n",
       "// prettier-ignore\n",
       "var _JSXTOOLS_RESIZE_OBSERVER=function(A){var t,i=new WeakMap,n=new WeakMap,a=new WeakMap,r=new WeakMap,o=new Set;function s(e){if(!(this instanceof s))throw new TypeError(\"Constructor requires 'new' operator\");i.set(this,e)}function h(){throw new TypeError(\"Function is not a constructor\")}function c(e,t,i,n){e=0 in arguments?Number(arguments[0]):0,t=1 in arguments?Number(arguments[1]):0,i=2 in arguments?Number(arguments[2]):0,n=3 in arguments?Number(arguments[3]):0,this.right=(this.x=this.left=e)+(this.width=i),this.bottom=(this.y=this.top=t)+(this.height=n),Object.freeze(this)}function d(){t=requestAnimationFrame(d);var s=new WeakMap,p=new Set;o.forEach((function(t){r.get(t).forEach((function(i){var r=t instanceof window.SVGElement,o=a.get(t),d=r?0:parseFloat(o.paddingTop),f=r?0:parseFloat(o.paddingRight),l=r?0:parseFloat(o.paddingBottom),u=r?0:parseFloat(o.paddingLeft),g=r?0:parseFloat(o.borderTopWidth),m=r?0:parseFloat(o.borderRightWidth),w=r?0:parseFloat(o.borderBottomWidth),b=u+f,F=d+l,v=(r?0:parseFloat(o.borderLeftWidth))+m,W=g+w,y=r?0:t.offsetHeight-W-t.clientHeight,E=r?0:t.offsetWidth-v-t.clientWidth,R=b+v,z=F+W,M=r?t.width:parseFloat(o.width)-R-E,O=r?t.height:parseFloat(o.height)-z-y;if(n.has(t)){var k=n.get(t);if(k[0]===M&&k[1]===O)return}n.set(t,[M,O]);var S=Object.create(h.prototype);S.target=t,S.contentRect=new c(u,d,M,O),s.has(i)||(s.set(i,[]),p.add(i)),s.get(i).push(S)}))})),p.forEach((function(e){i.get(e).call(e,s.get(e),e)}))}return s.prototype.observe=function(i){if(i instanceof window.Element){r.has(i)||(r.set(i,new Set),o.add(i),a.set(i,window.getComputedStyle(i)));var n=r.get(i);n.has(this)||n.add(this),cancelAnimationFrame(t),t=requestAnimationFrame(d)}},s.prototype.unobserve=function(i){if(i instanceof window.Element&&r.has(i)){var n=r.get(i);n.has(this)&&(n.delete(this),n.size||(r.delete(i),o.delete(i))),n.size||r.delete(i),o.size||cancelAnimationFrame(t)}},A.DOMRectReadOnly=c,A.ResizeObserver=s,A.ResizeObserverEntry=h,A}; // eslint-disable-line\n",
       "mpl.toolbar_items = [[\"Home\", \"Reset original view\", \"fa fa-home icon-home\", \"home\"], [\"Back\", \"Back to previous view\", \"fa fa-arrow-left icon-arrow-left\", \"back\"], [\"Forward\", \"Forward to next view\", \"fa fa-arrow-right icon-arrow-right\", \"forward\"], [\"\", \"\", \"\", \"\"], [\"Pan\", \"Left button pans, Right button zooms\\nx/y fixes axis, CTRL fixes aspect\", \"fa fa-arrows icon-move\", \"pan\"], [\"Zoom\", \"Zoom to rectangle\\nx/y fixes axis\", \"fa fa-square-o icon-check-empty\", \"zoom\"], [\"\", \"\", \"\", \"\"], [\"Download\", \"Download plot\", \"fa fa-floppy-o icon-save\", \"download\"]];\n",
       "\n",
       "mpl.extensions = [\"eps\", \"jpeg\", \"pgf\", \"pdf\", \"png\", \"ps\", \"raw\", \"svg\", \"tif\"];\n",
       "\n",
       "mpl.default_extension = \"png\";/* global mpl */\n",
       "\n",
       "var comm_websocket_adapter = function (comm) {\n",
       "    // Create a \"websocket\"-like object which calls the given IPython comm\n",
       "    // object with the appropriate methods. Currently this is a non binary\n",
       "    // socket, so there is still some room for performance tuning.\n",
       "    var ws = {};\n",
       "\n",
       "    ws.binaryType = comm.kernel.ws.binaryType;\n",
       "    ws.readyState = comm.kernel.ws.readyState;\n",
       "    function updateReadyState(_event) {\n",
       "        if (comm.kernel.ws) {\n",
       "            ws.readyState = comm.kernel.ws.readyState;\n",
       "        } else {\n",
       "            ws.readyState = 3; // Closed state.\n",
       "        }\n",
       "    }\n",
       "    comm.kernel.ws.addEventListener('open', updateReadyState);\n",
       "    comm.kernel.ws.addEventListener('close', updateReadyState);\n",
       "    comm.kernel.ws.addEventListener('error', updateReadyState);\n",
       "\n",
       "    ws.close = function () {\n",
       "        comm.close();\n",
       "    };\n",
       "    ws.send = function (m) {\n",
       "        //console.log('sending', m);\n",
       "        comm.send(m);\n",
       "    };\n",
       "    // Register the callback with on_msg.\n",
       "    comm.on_msg(function (msg) {\n",
       "        //console.log('receiving', msg['content']['data'], msg);\n",
       "        var data = msg['content']['data'];\n",
       "        if (data['blob'] !== undefined) {\n",
       "            data = {\n",
       "                data: new Blob(msg['buffers'], { type: data['blob'] }),\n",
       "            };\n",
       "        }\n",
       "        // Pass the mpl event to the overridden (by mpl) onmessage function.\n",
       "        ws.onmessage(data);\n",
       "    });\n",
       "    return ws;\n",
       "};\n",
       "\n",
       "mpl.mpl_figure_comm = function (comm, msg) {\n",
       "    // This is the function which gets called when the mpl process\n",
       "    // starts-up an IPython Comm through the \"matplotlib\" channel.\n",
       "\n",
       "    var id = msg.content.data.id;\n",
       "    // Get hold of the div created by the display call when the Comm\n",
       "    // socket was opened in Python.\n",
       "    var element = document.getElementById(id);\n",
       "    var ws_proxy = comm_websocket_adapter(comm);\n",
       "\n",
       "    function ondownload(figure, _format) {\n",
       "        window.open(figure.canvas.toDataURL());\n",
       "    }\n",
       "\n",
       "    var fig = new mpl.figure(id, ws_proxy, ondownload, element);\n",
       "\n",
       "    // Call onopen now - mpl needs it, as it is assuming we've passed it a real\n",
       "    // web socket which is closed, not our websocket->open comm proxy.\n",
       "    ws_proxy.onopen();\n",
       "\n",
       "    fig.parent_element = element;\n",
       "    fig.cell_info = mpl.find_output_cell(\"<div id='\" + id + \"'></div>\");\n",
       "    if (!fig.cell_info) {\n",
       "        console.error('Failed to find cell for figure', id, fig);\n",
       "        return;\n",
       "    }\n",
       "    fig.cell_info[0].output_area.element.on(\n",
       "        'cleared',\n",
       "        { fig: fig },\n",
       "        fig._remove_fig_handler\n",
       "    );\n",
       "};\n",
       "\n",
       "mpl.figure.prototype.handle_close = function (fig, msg) {\n",
       "    var width = fig.canvas.width / fig.ratio;\n",
       "    fig.cell_info[0].output_area.element.off(\n",
       "        'cleared',\n",
       "        fig._remove_fig_handler\n",
       "    );\n",
       "    fig.resizeObserverInstance.unobserve(fig.canvas_div);\n",
       "\n",
       "    // Update the output cell to use the data from the current canvas.\n",
       "    fig.push_to_output();\n",
       "    var dataURL = fig.canvas.toDataURL();\n",
       "    // Re-enable the keyboard manager in IPython - without this line, in FF,\n",
       "    // the notebook keyboard shortcuts fail.\n",
       "    IPython.keyboard_manager.enable();\n",
       "    fig.parent_element.innerHTML =\n",
       "        '<img src=\"' + dataURL + '\" width=\"' + width + '\">';\n",
       "    fig.close_ws(fig, msg);\n",
       "};\n",
       "\n",
       "mpl.figure.prototype.close_ws = function (fig, msg) {\n",
       "    fig.send_message('closing', msg);\n",
       "    // fig.ws.close()\n",
       "};\n",
       "\n",
       "mpl.figure.prototype.push_to_output = function (_remove_interactive) {\n",
       "    // Turn the data on the canvas into data in the output cell.\n",
       "    var width = this.canvas.width / this.ratio;\n",
       "    var dataURL = this.canvas.toDataURL();\n",
       "    this.cell_info[1]['text/html'] =\n",
       "        '<img src=\"' + dataURL + '\" width=\"' + width + '\">';\n",
       "};\n",
       "\n",
       "mpl.figure.prototype.updated_canvas_event = function () {\n",
       "    // Tell IPython that the notebook contents must change.\n",
       "    IPython.notebook.set_dirty(true);\n",
       "    this.send_message('ack', {});\n",
       "    var fig = this;\n",
       "    // Wait a second, then push the new image to the DOM so\n",
       "    // that it is saved nicely (might be nice to debounce this).\n",
       "    setTimeout(function () {\n",
       "        fig.push_to_output();\n",
       "    }, 1000);\n",
       "};\n",
       "\n",
       "mpl.figure.prototype._init_toolbar = function () {\n",
       "    var fig = this;\n",
       "\n",
       "    var toolbar = document.createElement('div');\n",
       "    toolbar.classList = 'btn-toolbar';\n",
       "    this.root.appendChild(toolbar);\n",
       "\n",
       "    function on_click_closure(name) {\n",
       "        return function (_event) {\n",
       "            return fig.toolbar_button_onclick(name);\n",
       "        };\n",
       "    }\n",
       "\n",
       "    function on_mouseover_closure(tooltip) {\n",
       "        return function (event) {\n",
       "            if (!event.currentTarget.disabled) {\n",
       "                return fig.toolbar_button_onmouseover(tooltip);\n",
       "            }\n",
       "        };\n",
       "    }\n",
       "\n",
       "    fig.buttons = {};\n",
       "    var buttonGroup = document.createElement('div');\n",
       "    buttonGroup.classList = 'btn-group';\n",
       "    var button;\n",
       "    for (var toolbar_ind in mpl.toolbar_items) {\n",
       "        var name = mpl.toolbar_items[toolbar_ind][0];\n",
       "        var tooltip = mpl.toolbar_items[toolbar_ind][1];\n",
       "        var image = mpl.toolbar_items[toolbar_ind][2];\n",
       "        var method_name = mpl.toolbar_items[toolbar_ind][3];\n",
       "\n",
       "        if (!name) {\n",
       "            /* Instead of a spacer, we start a new button group. */\n",
       "            if (buttonGroup.hasChildNodes()) {\n",
       "                toolbar.appendChild(buttonGroup);\n",
       "            }\n",
       "            buttonGroup = document.createElement('div');\n",
       "            buttonGroup.classList = 'btn-group';\n",
       "            continue;\n",
       "        }\n",
       "\n",
       "        button = fig.buttons[name] = document.createElement('button');\n",
       "        button.classList = 'btn btn-default';\n",
       "        button.href = '#';\n",
       "        button.title = name;\n",
       "        button.innerHTML = '<i class=\"fa ' + image + ' fa-lg\"></i>';\n",
       "        button.addEventListener('click', on_click_closure(method_name));\n",
       "        button.addEventListener('mouseover', on_mouseover_closure(tooltip));\n",
       "        buttonGroup.appendChild(button);\n",
       "    }\n",
       "\n",
       "    if (buttonGroup.hasChildNodes()) {\n",
       "        toolbar.appendChild(buttonGroup);\n",
       "    }\n",
       "\n",
       "    // Add the status bar.\n",
       "    var status_bar = document.createElement('span');\n",
       "    status_bar.classList = 'mpl-message pull-right';\n",
       "    toolbar.appendChild(status_bar);\n",
       "    this.message = status_bar;\n",
       "\n",
       "    // Add the close button to the window.\n",
       "    var buttongrp = document.createElement('div');\n",
       "    buttongrp.classList = 'btn-group inline pull-right';\n",
       "    button = document.createElement('button');\n",
       "    button.classList = 'btn btn-mini btn-primary';\n",
       "    button.href = '#';\n",
       "    button.title = 'Stop Interaction';\n",
       "    button.innerHTML = '<i class=\"fa fa-power-off icon-remove icon-large\"></i>';\n",
       "    button.addEventListener('click', function (_evt) {\n",
       "        fig.handle_close(fig, {});\n",
       "    });\n",
       "    button.addEventListener(\n",
       "        'mouseover',\n",
       "        on_mouseover_closure('Stop Interaction')\n",
       "    );\n",
       "    buttongrp.appendChild(button);\n",
       "    var titlebar = this.root.querySelector('.ui-dialog-titlebar');\n",
       "    titlebar.insertBefore(buttongrp, titlebar.firstChild);\n",
       "};\n",
       "\n",
       "mpl.figure.prototype._remove_fig_handler = function (event) {\n",
       "    var fig = event.data.fig;\n",
       "    if (event.target !== this) {\n",
       "        // Ignore bubbled events from children.\n",
       "        return;\n",
       "    }\n",
       "    fig.close_ws(fig, {});\n",
       "};\n",
       "\n",
       "mpl.figure.prototype._root_extra_style = function (el) {\n",
       "    el.style.boxSizing = 'content-box'; // override notebook setting of border-box.\n",
       "};\n",
       "\n",
       "mpl.figure.prototype._canvas_extra_style = function (el) {\n",
       "    // this is important to make the div 'focusable\n",
       "    el.setAttribute('tabindex', 0);\n",
       "    // reach out to IPython and tell the keyboard manager to turn it's self\n",
       "    // off when our div gets focus\n",
       "\n",
       "    // location in version 3\n",
       "    if (IPython.notebook.keyboard_manager) {\n",
       "        IPython.notebook.keyboard_manager.register_events(el);\n",
       "    } else {\n",
       "        // location in version 2\n",
       "        IPython.keyboard_manager.register_events(el);\n",
       "    }\n",
       "};\n",
       "\n",
       "mpl.figure.prototype._key_event_extra = function (event, _name) {\n",
       "    // Check for shift+enter\n",
       "    if (event.shiftKey && event.which === 13) {\n",
       "        this.canvas_div.blur();\n",
       "        // select the cell after this one\n",
       "        var index = IPython.notebook.find_cell_index(this.cell_info[0]);\n",
       "        IPython.notebook.select(index + 1);\n",
       "    }\n",
       "};\n",
       "\n",
       "mpl.figure.prototype.handle_save = function (fig, _msg) {\n",
       "    fig.ondownload(fig, null);\n",
       "};\n",
       "\n",
       "mpl.find_output_cell = function (html_output) {\n",
       "    // Return the cell and output element which can be found *uniquely* in the notebook.\n",
       "    // Note - this is a bit hacky, but it is done because the \"notebook_saving.Notebook\"\n",
       "    // IPython event is triggered only after the cells have been serialised, which for\n",
       "    // our purposes (turning an active figure into a static one), is too late.\n",
       "    var cells = IPython.notebook.get_cells();\n",
       "    var ncells = cells.length;\n",
       "    for (var i = 0; i < ncells; i++) {\n",
       "        var cell = cells[i];\n",
       "        if (cell.cell_type === 'code') {\n",
       "            for (var j = 0; j < cell.output_area.outputs.length; j++) {\n",
       "                var data = cell.output_area.outputs[j];\n",
       "                if (data.data) {\n",
       "                    // IPython >= 3 moved mimebundle to data attribute of output\n",
       "                    data = data.data;\n",
       "                }\n",
       "                if (data['text/html'] === html_output) {\n",
       "                    return [cell, data, j];\n",
       "                }\n",
       "            }\n",
       "        }\n",
       "    }\n",
       "};\n",
       "\n",
       "// Register the function which deals with the matplotlib target/channel.\n",
       "// The kernel may be null if the page has been refreshed.\n",
       "if (IPython.notebook.kernel !== null) {\n",
       "    IPython.notebook.kernel.comm_manager.register_target(\n",
       "        'matplotlib',\n",
       "        mpl.mpl_figure_comm\n",
       "    );\n",
       "}\n"
      ],
      "text/plain": [
       "<IPython.core.display.Javascript object>"
      ]
     },
     "metadata": {},
     "output_type": "display_data"
    },
    {
     "data": {
      "text/html": [
       "<img src=\"data:image/png;base64,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\" width=\"503.5\">"
      ],
      "text/plain": [
       "<IPython.core.display.HTML object>"
      ]
     },
     "metadata": {},
     "output_type": "display_data"
    }
   ],
   "source": [
    "%matplotlib nbagg\n",
    "ax = ut.plotSetup3d(-7, 7, -7, 7, -10, 10, figsize = (7, 7))\n",
    "v = [4.0, 4.0, 2.0]\n",
    "u = [-4.0, 3.0, 1.0]\n",
    "# plotting the span of v\n",
    "ut.plotSpan3d(ax,u,v,'Green')\n",
    "npts = 50\n",
    "ax.plot(coords[0], coords[1], 'ro', zs = coords[2], markersize=6);"
   ]
  },
  {
   "cell_type": "markdown",
   "metadata": {
    "hide_input": true,
    "slideshow": {
     "slide_type": "fragment"
    }
   },
   "source": [
    "This example shows that the linear model for multiple regression has the same form as the model for the simple regression in the earlier examples."
   ]
  },
  {
   "cell_type": "markdown",
   "metadata": {
    "slideshow": {
     "slide_type": "fragment"
    }
   },
   "source": [
    "We can see that there the general principle is the same across all the different kinds of linear models."
   ]
  },
  {
   "cell_type": "markdown",
   "metadata": {
    "slideshow": {
     "slide_type": "fragment"
    }
   },
   "source": [
    "Once $X$ is defined properly, the normal equations for $\\mathbf{\\beta}$ have the same matrix form, no matter how many variables are involved.\n",
    "\n",
    "Thus, for any linear model where $X^TX$ is invertible, the least squares estimate $\\hat{\\mathbf{\\beta}}$ is given by $(X^TX)^{-1}X^T\\mathbf{y}$."
   ]
  },
  {
   "cell_type": "markdown",
   "metadata": {
    "slideshow": {
     "slide_type": "slide"
    }
   },
   "source": [
    "## Measuring the fit of a regression model: $R^2$"
   ]
  },
  {
   "cell_type": "markdown",
   "metadata": {
    "slideshow": {
     "slide_type": "fragment"
    }
   },
   "source": [
    "Given any $X$ and $\\mathbf{y}$, the above algorithm will produce an output $\\hat{\\beta}$.\n",
    "\n",
    "But how do we know whether the data is in fact well described by the model?"
   ]
  },
  {
   "cell_type": "markdown",
   "metadata": {
    "slideshow": {
     "slide_type": "fragment"
    }
   },
   "source": [
    "The most common measure of fit is $R^2$.\n",
    "\n",
    "$R^2$ measures the __fraction of the variance__ of $\\mathbf{y}$ that can be explained by the model $X\\hat{\\beta}$."
   ]
  },
  {
   "cell_type": "markdown",
   "metadata": {
    "slideshow": {
     "slide_type": "fragment"
    }
   },
   "source": [
    "The variance of $\\mathbf{y}$ is \n",
    "\n",
    "$$\\text{Var}(\\mathbf{y}) =\\frac{1}{n} \\sum_{i=1}^n \\left(y_i-\\overline{y}\\right)^2$$\n",
    "\n",
    "where $\\overline{y}=\\frac{1}{n}\\sum_{i=1}^ny_i$."
   ]
  },
  {
   "cell_type": "markdown",
   "metadata": {
    "slideshow": {
     "slide_type": "fragment"
    }
   },
   "source": [
    "For any given $n$, we can equally work with just \n",
    "$$\\sum_{i=1}^n \\left(y_i-\\overline{y}\\right)^2$$\n",
    "which is called the __Total Sum of Squares__ (TSS)."
   ]
  },
  {
   "cell_type": "markdown",
   "metadata": {
    "slideshow": {
     "slide_type": "fragment"
    }
   },
   "source": [
    "Now to measure the quality of fit of a model, we break TSS down into two components. \n",
    "\n",
    "For any given $\\mathbf{x}_i$, the prediction made by the model is $\\hat{y_i} = \\mathbf{x}_i^T\\beta$.\n",
    "\n",
    "Therefore, \n",
    "* the residual $\\epsilon$ is $y_i - \\hat{y_i}$, and \n",
    "* the part that the model \"explains\" is $\\hat{y_i} - \\overline{y_i}.$"
   ]
  },
  {
   "cell_type": "markdown",
   "metadata": {
    "slideshow": {
     "slide_type": "fragment"
    }
   },
   "source": [
    "Se we define Residual Sum of Squares (RSS) as:\n",
    "\n",
    "$$\\text{RSS} = \\sum_{i=1}^n \\left(y_i-\\hat{y_i}\\right)^2,$$\n",
    "\n",
    "and Explained Sum of Squares (ESS) as:\n",
    "\n",
    "$$\\text{ESS} = \\sum_{i=1}^n \\left(\\hat{y_i}-\\overline{y}\\right)^2,$$"
   ]
  },
  {
   "cell_type": "markdown",
   "metadata": {
    "slideshow": {
     "slide_type": "fragment"
    }
   },
   "source": [
    "Then it turns out that the total sum of squares is exactly equal to the sum of squares of the residuals plus the sum of squares of the explained part.\n",
    "\n",
    "In other words:\n",
    "\n",
    "$$\\text{TSS} = \\text{RSS} + \\text{ESS}$$"
   ]
  },
  {
   "cell_type": "markdown",
   "metadata": {
    "slideshow": {
     "slide_type": "fragment"
    }
   },
   "source": [
    "Now, a good fit is one in which the model explains a large part of the variance of $\\mathbf{y}$.  "
   ]
  },
  {
   "cell_type": "markdown",
   "metadata": {
    "slideshow": {
     "slide_type": "fragment"
    }
   },
   "source": [
    "So the measure of fit $R^2$ is defined as:\n",
    "\n",
    "\\begin{eqnarray}\n",
    "R^2 & = & \\frac{\\text{ESS}}{\\text{TSS}} = 1-\\frac{\\text{RSS}}{\\text{TSS}}\n",
    "\\end{eqnarray}"
   ]
  },
  {
   "cell_type": "markdown",
   "metadata": {
    "slideshow": {
     "slide_type": "fragment"
    }
   },
   "source": [
    "As a result, $0\\leq R^2\\leq 1$.\n",
    "\n",
    "The closer the value of $R^2$ is to $1$ the better the fit of the regression:\n",
    "* small values of RSS imply that the residuals are small and therefore we have a better fit."
   ]
  },
  {
   "cell_type": "markdown",
   "metadata": {},
   "source": [
    "$R^2$ is called the __coefficient of determination.__  \n",
    "\n",
    "It tells us \"how well does the model predict the data?\""
   ]
  },
  {
   "cell_type": "markdown",
   "metadata": {},
   "source": [
    "__WARNING -- WARNING -- WARNING__\n",
    "\n",
    "Do __not__ confuse $R^2$ with Pearson's $r$, which is the __correlation coefficient.__\n",
    "\n",
    "(To make matters worse, sometimes people talk about $r^2$... very confusing!)\n",
    "\n",
    "The correlation coefficient tells us whether two variables are __correlated__.   \n",
    "\n",
    "However, just because two variables are correlated does not mean that one is a good __predictor__ of the other!\n",
    "\n",
    "To compare ground truth with predictions, we always use $R^2$."
   ]
  },
  {
   "cell_type": "markdown",
   "metadata": {
    "slideshow": {
     "slide_type": "slide"
    }
   },
   "source": [
    "## OLS in Practice"
   ]
  },
  {
   "cell_type": "markdown",
   "metadata": {
    "slideshow": {
     "slide_type": "fragment"
    }
   },
   "source": [
    "First, we'll look at a test case on synthetic data."
   ]
  },
  {
   "cell_type": "code",
   "execution_count": 34,
   "metadata": {
    "slideshow": {
     "slide_type": "fragment"
    }
   },
   "outputs": [],
   "source": [
    "from sklearn import datasets\n",
    "X, y = datasets.make_regression(n_samples=100, n_features=20, n_informative=5, bias=0.1, noise=30, random_state=1)"
   ]
  },
  {
   "cell_type": "code",
   "execution_count": 35,
   "metadata": {
    "slideshow": {
     "slide_type": "fragment"
    }
   },
   "outputs": [
    {
     "name": "stdout",
     "output_type": "stream",
     "text": [
      "                                 OLS Regression Results                                \n",
      "=======================================================================================\n",
      "Dep. Variable:                      y   R-squared (uncentered):                   0.969\n",
      "Model:                            OLS   Adj. R-squared (uncentered):              0.961\n",
      "Method:                 Least Squares   F-statistic:                              123.8\n",
      "Date:                Thu, 02 Nov 2023   Prob (F-statistic):                    1.03e-51\n",
      "Time:                        09:01:49   Log-Likelihood:                         -468.30\n",
      "No. Observations:                 100   AIC:                                      976.6\n",
      "Df Residuals:                      80   BIC:                                      1029.\n",
      "Df Model:                          20                                                  \n",
      "Covariance Type:            nonrobust                                                  \n",
      "==============================================================================\n",
      "                 coef    std err          t      P>|t|      [0.025      0.975]\n",
      "------------------------------------------------------------------------------\n",
      "x1            12.5673      3.471      3.620      0.001       5.659      19.476\n",
      "x2            -3.8321      2.818     -1.360      0.178      -9.440       1.776\n",
      "x3            -2.4197      3.466     -0.698      0.487      -9.316       4.477\n",
      "x4             2.0143      3.086      0.653      0.516      -4.127       8.155\n",
      "x5            -2.6256      3.445     -0.762      0.448      -9.481       4.230\n",
      "x6             0.7894      3.159      0.250      0.803      -5.497       7.076\n",
      "x7            -3.0684      3.595     -0.853      0.396     -10.224       4.087\n",
      "x8            90.1383      3.211     28.068      0.000      83.747      96.529\n",
      "x9            -0.0133      3.400     -0.004      0.997      -6.779       6.752\n",
      "x10           15.2675      3.248      4.701      0.000       8.804      21.731\n",
      "x11           -0.2247      3.339     -0.067      0.947      -6.869       6.419\n",
      "x12            0.0773      3.546      0.022      0.983      -6.979       7.133\n",
      "x13           -0.2452      3.250     -0.075      0.940      -6.712       6.222\n",
      "x14           90.0179      3.544     25.402      0.000      82.966      97.070\n",
      "x15            1.6684      3.727      0.448      0.656      -5.748       9.085\n",
      "x16            4.3945      2.742      1.603      0.113      -1.062       9.851\n",
      "x17            8.7918      3.399      2.587      0.012       2.028      15.556\n",
      "x18           73.3771      3.425     21.426      0.000      66.562      80.193\n",
      "x19           -1.9139      3.515     -0.545      0.588      -8.908       5.080\n",
      "x20           -1.3206      3.284     -0.402      0.689      -7.855       5.214\n",
      "==============================================================================\n",
      "Omnibus:                        5.248   Durbin-Watson:                   2.018\n",
      "Prob(Omnibus):                  0.073   Jarque-Bera (JB):                4.580\n",
      "Skew:                           0.467   Prob(JB):                        0.101\n",
      "Kurtosis:                       3.475   Cond. No.                         2.53\n",
      "==============================================================================\n",
      "\n",
      "Notes:\n",
      "[1] R² is computed without centering (uncentered) since the model does not contain a constant.\n",
      "[2] Standard Errors assume that the covariance matrix of the errors is correctly specified.\n"
     ]
    }
   ],
   "source": [
    "model = sm.OLS(y, X)\n",
    "results = model.fit()\n",
    "print(results.summary())"
   ]
  },
  {
   "cell_type": "markdown",
   "metadata": {
    "slideshow": {
     "slide_type": "fragment"
    }
   },
   "source": [
    "The $R^2$ value is very good.   We can see that the linear model does a very good job of predicting the observations $y_i$.\n",
    "\n",
    "However, some of the independent variables may not contribute to the accuracy of the prediction. "
   ]
  },
  {
   "cell_type": "code",
   "execution_count": 48,
   "metadata": {
    "hide_input": false,
    "scrolled": true,
    "slideshow": {
     "slide_type": "fragment"
    },
    "tags": [
     "hide-input"
    ]
   },
   "outputs": [
    {
     "data": {
      "application/javascript": [
       "/* Put everything inside the global mpl namespace */\n",
       "/* global mpl */\n",
       "window.mpl = {};\n",
       "\n",
       "mpl.get_websocket_type = function () {\n",
       "    if (typeof WebSocket !== 'undefined') {\n",
       "        return WebSocket;\n",
       "    } else if (typeof MozWebSocket !== 'undefined') {\n",
       "        return MozWebSocket;\n",
       "    } else {\n",
       "        alert(\n",
       "            'Your browser does not have WebSocket support. ' +\n",
       "                'Please try Chrome, Safari or Firefox ≥ 6. ' +\n",
       "                'Firefox 4 and 5 are also supported but you ' +\n",
       "                'have to enable WebSockets in about:config.'\n",
       "        );\n",
       "    }\n",
       "};\n",
       "\n",
       "mpl.figure = function (figure_id, websocket, ondownload, parent_element) {\n",
       "    this.id = figure_id;\n",
       "\n",
       "    this.ws = websocket;\n",
       "\n",
       "    this.supports_binary = this.ws.binaryType !== undefined;\n",
       "\n",
       "    if (!this.supports_binary) {\n",
       "        var warnings = document.getElementById('mpl-warnings');\n",
       "        if (warnings) {\n",
       "            warnings.style.display = 'block';\n",
       "            warnings.textContent =\n",
       "                'This browser does not support binary websocket messages. ' +\n",
       "                'Performance may be slow.';\n",
       "        }\n",
       "    }\n",
       "\n",
       "    this.imageObj = new Image();\n",
       "\n",
       "    this.context = undefined;\n",
       "    this.message = undefined;\n",
       "    this.canvas = undefined;\n",
       "    this.rubberband_canvas = undefined;\n",
       "    this.rubberband_context = undefined;\n",
       "    this.format_dropdown = undefined;\n",
       "\n",
       "    this.image_mode = 'full';\n",
       "\n",
       "    this.root = document.createElement('div');\n",
       "    this.root.setAttribute('style', 'display: inline-block');\n",
       "    this._root_extra_style(this.root);\n",
       "\n",
       "    parent_element.appendChild(this.root);\n",
       "\n",
       "    this._init_header(this);\n",
       "    this._init_canvas(this);\n",
       "    this._init_toolbar(this);\n",
       "\n",
       "    var fig = this;\n",
       "\n",
       "    this.waiting = false;\n",
       "\n",
       "    this.ws.onopen = function () {\n",
       "        fig.send_message('supports_binary', { value: fig.supports_binary });\n",
       "        fig.send_message('send_image_mode', {});\n",
       "        if (fig.ratio !== 1) {\n",
       "            fig.send_message('set_device_pixel_ratio', {\n",
       "                device_pixel_ratio: fig.ratio,\n",
       "            });\n",
       "        }\n",
       "        fig.send_message('refresh', {});\n",
       "    };\n",
       "\n",
       "    this.imageObj.onload = function () {\n",
       "        if (fig.image_mode === 'full') {\n",
       "            // Full images could contain transparency (where diff images\n",
       "            // almost always do), so we need to clear the canvas so that\n",
       "            // there is no ghosting.\n",
       "            fig.context.clearRect(0, 0, fig.canvas.width, fig.canvas.height);\n",
       "        }\n",
       "        fig.context.drawImage(fig.imageObj, 0, 0);\n",
       "    };\n",
       "\n",
       "    this.imageObj.onunload = function () {\n",
       "        fig.ws.close();\n",
       "    };\n",
       "\n",
       "    this.ws.onmessage = this._make_on_message_function(this);\n",
       "\n",
       "    this.ondownload = ondownload;\n",
       "};\n",
       "\n",
       "mpl.figure.prototype._init_header = function () {\n",
       "    var titlebar = document.createElement('div');\n",
       "    titlebar.classList =\n",
       "        'ui-dialog-titlebar ui-widget-header ui-corner-all ui-helper-clearfix';\n",
       "    var titletext = document.createElement('div');\n",
       "    titletext.classList = 'ui-dialog-title';\n",
       "    titletext.setAttribute(\n",
       "        'style',\n",
       "        'width: 100%; text-align: center; padding: 3px;'\n",
       "    );\n",
       "    titlebar.appendChild(titletext);\n",
       "    this.root.appendChild(titlebar);\n",
       "    this.header = titletext;\n",
       "};\n",
       "\n",
       "mpl.figure.prototype._canvas_extra_style = function (_canvas_div) {};\n",
       "\n",
       "mpl.figure.prototype._root_extra_style = function (_canvas_div) {};\n",
       "\n",
       "mpl.figure.prototype._init_canvas = function () {\n",
       "    var fig = this;\n",
       "\n",
       "    var canvas_div = (this.canvas_div = document.createElement('div'));\n",
       "    canvas_div.setAttribute(\n",
       "        'style',\n",
       "        'border: 1px solid #ddd;' +\n",
       "            'box-sizing: content-box;' +\n",
       "            'clear: both;' +\n",
       "            'min-height: 1px;' +\n",
       "            'min-width: 1px;' +\n",
       "            'outline: 0;' +\n",
       "            'overflow: hidden;' +\n",
       "            'position: relative;' +\n",
       "            'resize: both;'\n",
       "    );\n",
       "\n",
       "    function on_keyboard_event_closure(name) {\n",
       "        return function (event) {\n",
       "            return fig.key_event(event, name);\n",
       "        };\n",
       "    }\n",
       "\n",
       "    canvas_div.addEventListener(\n",
       "        'keydown',\n",
       "        on_keyboard_event_closure('key_press')\n",
       "    );\n",
       "    canvas_div.addEventListener(\n",
       "        'keyup',\n",
       "        on_keyboard_event_closure('key_release')\n",
       "    );\n",
       "\n",
       "    this._canvas_extra_style(canvas_div);\n",
       "    this.root.appendChild(canvas_div);\n",
       "\n",
       "    var canvas = (this.canvas = document.createElement('canvas'));\n",
       "    canvas.classList.add('mpl-canvas');\n",
       "    canvas.setAttribute('style', 'box-sizing: content-box;');\n",
       "\n",
       "    this.context = canvas.getContext('2d');\n",
       "\n",
       "    var backingStore =\n",
       "        this.context.backingStorePixelRatio ||\n",
       "        this.context.webkitBackingStorePixelRatio ||\n",
       "        this.context.mozBackingStorePixelRatio ||\n",
       "        this.context.msBackingStorePixelRatio ||\n",
       "        this.context.oBackingStorePixelRatio ||\n",
       "        this.context.backingStorePixelRatio ||\n",
       "        1;\n",
       "\n",
       "    this.ratio = (window.devicePixelRatio || 1) / backingStore;\n",
       "\n",
       "    var rubberband_canvas = (this.rubberband_canvas = document.createElement(\n",
       "        'canvas'\n",
       "    ));\n",
       "    rubberband_canvas.setAttribute(\n",
       "        'style',\n",
       "        'box-sizing: content-box; position: absolute; left: 0; top: 0; z-index: 1;'\n",
       "    );\n",
       "\n",
       "    // Apply a ponyfill if ResizeObserver is not implemented by browser.\n",
       "    if (this.ResizeObserver === undefined) {\n",
       "        if (window.ResizeObserver !== undefined) {\n",
       "            this.ResizeObserver = window.ResizeObserver;\n",
       "        } else {\n",
       "            var obs = _JSXTOOLS_RESIZE_OBSERVER({});\n",
       "            this.ResizeObserver = obs.ResizeObserver;\n",
       "        }\n",
       "    }\n",
       "\n",
       "    this.resizeObserverInstance = new this.ResizeObserver(function (entries) {\n",
       "        var nentries = entries.length;\n",
       "        for (var i = 0; i < nentries; i++) {\n",
       "            var entry = entries[i];\n",
       "            var width, height;\n",
       "            if (entry.contentBoxSize) {\n",
       "                if (entry.contentBoxSize instanceof Array) {\n",
       "                    // Chrome 84 implements new version of spec.\n",
       "                    width = entry.contentBoxSize[0].inlineSize;\n",
       "                    height = entry.contentBoxSize[0].blockSize;\n",
       "                } else {\n",
       "                    // Firefox implements old version of spec.\n",
       "                    width = entry.contentBoxSize.inlineSize;\n",
       "                    height = entry.contentBoxSize.blockSize;\n",
       "                }\n",
       "            } else {\n",
       "                // Chrome <84 implements even older version of spec.\n",
       "                width = entry.contentRect.width;\n",
       "                height = entry.contentRect.height;\n",
       "            }\n",
       "\n",
       "            // Keep the size of the canvas and rubber band canvas in sync with\n",
       "            // the canvas container.\n",
       "            if (entry.devicePixelContentBoxSize) {\n",
       "                // Chrome 84 implements new version of spec.\n",
       "                canvas.setAttribute(\n",
       "                    'width',\n",
       "                    entry.devicePixelContentBoxSize[0].inlineSize\n",
       "                );\n",
       "                canvas.setAttribute(\n",
       "                    'height',\n",
       "                    entry.devicePixelContentBoxSize[0].blockSize\n",
       "                );\n",
       "            } else {\n",
       "                canvas.setAttribute('width', width * fig.ratio);\n",
       "                canvas.setAttribute('height', height * fig.ratio);\n",
       "            }\n",
       "            canvas.setAttribute(\n",
       "                'style',\n",
       "                'width: ' + width + 'px; height: ' + height + 'px;'\n",
       "            );\n",
       "\n",
       "            rubberband_canvas.setAttribute('width', width);\n",
       "            rubberband_canvas.setAttribute('height', height);\n",
       "\n",
       "            // And update the size in Python. We ignore the initial 0/0 size\n",
       "            // that occurs as the element is placed into the DOM, which should\n",
       "            // otherwise not happen due to the minimum size styling.\n",
       "            if (fig.ws.readyState == 1 && width != 0 && height != 0) {\n",
       "                fig.request_resize(width, height);\n",
       "            }\n",
       "        }\n",
       "    });\n",
       "    this.resizeObserverInstance.observe(canvas_div);\n",
       "\n",
       "    function on_mouse_event_closure(name) {\n",
       "        return function (event) {\n",
       "            return fig.mouse_event(event, name);\n",
       "        };\n",
       "    }\n",
       "\n",
       "    rubberband_canvas.addEventListener(\n",
       "        'mousedown',\n",
       "        on_mouse_event_closure('button_press')\n",
       "    );\n",
       "    rubberband_canvas.addEventListener(\n",
       "        'mouseup',\n",
       "        on_mouse_event_closure('button_release')\n",
       "    );\n",
       "    rubberband_canvas.addEventListener(\n",
       "        'dblclick',\n",
       "        on_mouse_event_closure('dblclick')\n",
       "    );\n",
       "    // Throttle sequential mouse events to 1 every 20ms.\n",
       "    rubberband_canvas.addEventListener(\n",
       "        'mousemove',\n",
       "        on_mouse_event_closure('motion_notify')\n",
       "    );\n",
       "\n",
       "    rubberband_canvas.addEventListener(\n",
       "        'mouseenter',\n",
       "        on_mouse_event_closure('figure_enter')\n",
       "    );\n",
       "    rubberband_canvas.addEventListener(\n",
       "        'mouseleave',\n",
       "        on_mouse_event_closure('figure_leave')\n",
       "    );\n",
       "\n",
       "    canvas_div.addEventListener('wheel', function (event) {\n",
       "        if (event.deltaY < 0) {\n",
       "            event.step = 1;\n",
       "        } else {\n",
       "            event.step = -1;\n",
       "        }\n",
       "        on_mouse_event_closure('scroll')(event);\n",
       "    });\n",
       "\n",
       "    canvas_div.appendChild(canvas);\n",
       "    canvas_div.appendChild(rubberband_canvas);\n",
       "\n",
       "    this.rubberband_context = rubberband_canvas.getContext('2d');\n",
       "    this.rubberband_context.strokeStyle = '#000000';\n",
       "\n",
       "    this._resize_canvas = function (width, height, forward) {\n",
       "        if (forward) {\n",
       "            canvas_div.style.width = width + 'px';\n",
       "            canvas_div.style.height = height + 'px';\n",
       "        }\n",
       "    };\n",
       "\n",
       "    // Disable right mouse context menu.\n",
       "    this.rubberband_canvas.addEventListener('contextmenu', function (_e) {\n",
       "        event.preventDefault();\n",
       "        return false;\n",
       "    });\n",
       "\n",
       "    function set_focus() {\n",
       "        canvas.focus();\n",
       "        canvas_div.focus();\n",
       "    }\n",
       "\n",
       "    window.setTimeout(set_focus, 100);\n",
       "};\n",
       "\n",
       "mpl.figure.prototype._init_toolbar = function () {\n",
       "    var fig = this;\n",
       "\n",
       "    var toolbar = document.createElement('div');\n",
       "    toolbar.classList = 'mpl-toolbar';\n",
       "    this.root.appendChild(toolbar);\n",
       "\n",
       "    function on_click_closure(name) {\n",
       "        return function (_event) {\n",
       "            return fig.toolbar_button_onclick(name);\n",
       "        };\n",
       "    }\n",
       "\n",
       "    function on_mouseover_closure(tooltip) {\n",
       "        return function (event) {\n",
       "            if (!event.currentTarget.disabled) {\n",
       "                return fig.toolbar_button_onmouseover(tooltip);\n",
       "            }\n",
       "        };\n",
       "    }\n",
       "\n",
       "    fig.buttons = {};\n",
       "    var buttonGroup = document.createElement('div');\n",
       "    buttonGroup.classList = 'mpl-button-group';\n",
       "    for (var toolbar_ind in mpl.toolbar_items) {\n",
       "        var name = mpl.toolbar_items[toolbar_ind][0];\n",
       "        var tooltip = mpl.toolbar_items[toolbar_ind][1];\n",
       "        var image = mpl.toolbar_items[toolbar_ind][2];\n",
       "        var method_name = mpl.toolbar_items[toolbar_ind][3];\n",
       "\n",
       "        if (!name) {\n",
       "            /* Instead of a spacer, we start a new button group. */\n",
       "            if (buttonGroup.hasChildNodes()) {\n",
       "                toolbar.appendChild(buttonGroup);\n",
       "            }\n",
       "            buttonGroup = document.createElement('div');\n",
       "            buttonGroup.classList = 'mpl-button-group';\n",
       "            continue;\n",
       "        }\n",
       "\n",
       "        var button = (fig.buttons[name] = document.createElement('button'));\n",
       "        button.classList = 'mpl-widget';\n",
       "        button.setAttribute('role', 'button');\n",
       "        button.setAttribute('aria-disabled', 'false');\n",
       "        button.addEventListener('click', on_click_closure(method_name));\n",
       "        button.addEventListener('mouseover', on_mouseover_closure(tooltip));\n",
       "\n",
       "        var icon_img = document.createElement('img');\n",
       "        icon_img.src = '_images/' + image + '.png';\n",
       "        icon_img.srcset = '_images/' + image + '_large.png 2x';\n",
       "        icon_img.alt = tooltip;\n",
       "        button.appendChild(icon_img);\n",
       "\n",
       "        buttonGroup.appendChild(button);\n",
       "    }\n",
       "\n",
       "    if (buttonGroup.hasChildNodes()) {\n",
       "        toolbar.appendChild(buttonGroup);\n",
       "    }\n",
       "\n",
       "    var fmt_picker = document.createElement('select');\n",
       "    fmt_picker.classList = 'mpl-widget';\n",
       "    toolbar.appendChild(fmt_picker);\n",
       "    this.format_dropdown = fmt_picker;\n",
       "\n",
       "    for (var ind in mpl.extensions) {\n",
       "        var fmt = mpl.extensions[ind];\n",
       "        var option = document.createElement('option');\n",
       "        option.selected = fmt === mpl.default_extension;\n",
       "        option.innerHTML = fmt;\n",
       "        fmt_picker.appendChild(option);\n",
       "    }\n",
       "\n",
       "    var status_bar = document.createElement('span');\n",
       "    status_bar.classList = 'mpl-message';\n",
       "    toolbar.appendChild(status_bar);\n",
       "    this.message = status_bar;\n",
       "};\n",
       "\n",
       "mpl.figure.prototype.request_resize = function (x_pixels, y_pixels) {\n",
       "    // Request matplotlib to resize the figure. Matplotlib will then trigger a resize in the client,\n",
       "    // which will in turn request a refresh of the image.\n",
       "    this.send_message('resize', { width: x_pixels, height: y_pixels });\n",
       "};\n",
       "\n",
       "mpl.figure.prototype.send_message = function (type, properties) {\n",
       "    properties['type'] = type;\n",
       "    properties['figure_id'] = this.id;\n",
       "    this.ws.send(JSON.stringify(properties));\n",
       "};\n",
       "\n",
       "mpl.figure.prototype.send_draw_message = function () {\n",
       "    if (!this.waiting) {\n",
       "        this.waiting = true;\n",
       "        this.ws.send(JSON.stringify({ type: 'draw', figure_id: this.id }));\n",
       "    }\n",
       "};\n",
       "\n",
       "mpl.figure.prototype.handle_save = function (fig, _msg) {\n",
       "    var format_dropdown = fig.format_dropdown;\n",
       "    var format = format_dropdown.options[format_dropdown.selectedIndex].value;\n",
       "    fig.ondownload(fig, format);\n",
       "};\n",
       "\n",
       "mpl.figure.prototype.handle_resize = function (fig, msg) {\n",
       "    var size = msg['size'];\n",
       "    if (size[0] !== fig.canvas.width || size[1] !== fig.canvas.height) {\n",
       "        fig._resize_canvas(size[0], size[1], msg['forward']);\n",
       "        fig.send_message('refresh', {});\n",
       "    }\n",
       "};\n",
       "\n",
       "mpl.figure.prototype.handle_rubberband = function (fig, msg) {\n",
       "    var x0 = msg['x0'] / fig.ratio;\n",
       "    var y0 = (fig.canvas.height - msg['y0']) / fig.ratio;\n",
       "    var x1 = msg['x1'] / fig.ratio;\n",
       "    var y1 = (fig.canvas.height - msg['y1']) / fig.ratio;\n",
       "    x0 = Math.floor(x0) + 0.5;\n",
       "    y0 = Math.floor(y0) + 0.5;\n",
       "    x1 = Math.floor(x1) + 0.5;\n",
       "    y1 = Math.floor(y1) + 0.5;\n",
       "    var min_x = Math.min(x0, x1);\n",
       "    var min_y = Math.min(y0, y1);\n",
       "    var width = Math.abs(x1 - x0);\n",
       "    var height = Math.abs(y1 - y0);\n",
       "\n",
       "    fig.rubberband_context.clearRect(\n",
       "        0,\n",
       "        0,\n",
       "        fig.canvas.width / fig.ratio,\n",
       "        fig.canvas.height / fig.ratio\n",
       "    );\n",
       "\n",
       "    fig.rubberband_context.strokeRect(min_x, min_y, width, height);\n",
       "};\n",
       "\n",
       "mpl.figure.prototype.handle_figure_label = function (fig, msg) {\n",
       "    // Updates the figure title.\n",
       "    fig.header.textContent = msg['label'];\n",
       "};\n",
       "\n",
       "mpl.figure.prototype.handle_cursor = function (fig, msg) {\n",
       "    fig.rubberband_canvas.style.cursor = msg['cursor'];\n",
       "};\n",
       "\n",
       "mpl.figure.prototype.handle_message = function (fig, msg) {\n",
       "    fig.message.textContent = msg['message'];\n",
       "};\n",
       "\n",
       "mpl.figure.prototype.handle_draw = function (fig, _msg) {\n",
       "    // Request the server to send over a new figure.\n",
       "    fig.send_draw_message();\n",
       "};\n",
       "\n",
       "mpl.figure.prototype.handle_image_mode = function (fig, msg) {\n",
       "    fig.image_mode = msg['mode'];\n",
       "};\n",
       "\n",
       "mpl.figure.prototype.handle_history_buttons = function (fig, msg) {\n",
       "    for (var key in msg) {\n",
       "        if (!(key in fig.buttons)) {\n",
       "            continue;\n",
       "        }\n",
       "        fig.buttons[key].disabled = !msg[key];\n",
       "        fig.buttons[key].setAttribute('aria-disabled', !msg[key]);\n",
       "    }\n",
       "};\n",
       "\n",
       "mpl.figure.prototype.handle_navigate_mode = function (fig, msg) {\n",
       "    if (msg['mode'] === 'PAN') {\n",
       "        fig.buttons['Pan'].classList.add('active');\n",
       "        fig.buttons['Zoom'].classList.remove('active');\n",
       "    } else if (msg['mode'] === 'ZOOM') {\n",
       "        fig.buttons['Pan'].classList.remove('active');\n",
       "        fig.buttons['Zoom'].classList.add('active');\n",
       "    } else {\n",
       "        fig.buttons['Pan'].classList.remove('active');\n",
       "        fig.buttons['Zoom'].classList.remove('active');\n",
       "    }\n",
       "};\n",
       "\n",
       "mpl.figure.prototype.updated_canvas_event = function () {\n",
       "    // Called whenever the canvas gets updated.\n",
       "    this.send_message('ack', {});\n",
       "};\n",
       "\n",
       "// A function to construct a web socket function for onmessage handling.\n",
       "// Called in the figure constructor.\n",
       "mpl.figure.prototype._make_on_message_function = function (fig) {\n",
       "    return function socket_on_message(evt) {\n",
       "        if (evt.data instanceof Blob) {\n",
       "            var img = evt.data;\n",
       "            if (img.type !== 'image/png') {\n",
       "                /* FIXME: We get \"Resource interpreted as Image but\n",
       "                 * transferred with MIME type text/plain:\" errors on\n",
       "                 * Chrome.  But how to set the MIME type?  It doesn't seem\n",
       "                 * to be part of the websocket stream */\n",
       "                img.type = 'image/png';\n",
       "            }\n",
       "\n",
       "            /* Free the memory for the previous frames */\n",
       "            if (fig.imageObj.src) {\n",
       "                (window.URL || window.webkitURL).revokeObjectURL(\n",
       "                    fig.imageObj.src\n",
       "                );\n",
       "            }\n",
       "\n",
       "            fig.imageObj.src = (window.URL || window.webkitURL).createObjectURL(\n",
       "                img\n",
       "            );\n",
       "            fig.updated_canvas_event();\n",
       "            fig.waiting = false;\n",
       "            return;\n",
       "        } else if (\n",
       "            typeof evt.data === 'string' &&\n",
       "            evt.data.slice(0, 21) === 'data:image/png;base64'\n",
       "        ) {\n",
       "            fig.imageObj.src = evt.data;\n",
       "            fig.updated_canvas_event();\n",
       "            fig.waiting = false;\n",
       "            return;\n",
       "        }\n",
       "\n",
       "        var msg = JSON.parse(evt.data);\n",
       "        var msg_type = msg['type'];\n",
       "\n",
       "        // Call the  \"handle_{type}\" callback, which takes\n",
       "        // the figure and JSON message as its only arguments.\n",
       "        try {\n",
       "            var callback = fig['handle_' + msg_type];\n",
       "        } catch (e) {\n",
       "            console.log(\n",
       "                \"No handler for the '\" + msg_type + \"' message type: \",\n",
       "                msg\n",
       "            );\n",
       "            return;\n",
       "        }\n",
       "\n",
       "        if (callback) {\n",
       "            try {\n",
       "                // console.log(\"Handling '\" + msg_type + \"' message: \", msg);\n",
       "                callback(fig, msg);\n",
       "            } catch (e) {\n",
       "                console.log(\n",
       "                    \"Exception inside the 'handler_\" + msg_type + \"' callback:\",\n",
       "                    e,\n",
       "                    e.stack,\n",
       "                    msg\n",
       "                );\n",
       "            }\n",
       "        }\n",
       "    };\n",
       "};\n",
       "\n",
       "// from https://stackoverflow.com/questions/1114465/getting-mouse-location-in-canvas\n",
       "mpl.findpos = function (e) {\n",
       "    //this section is from http://www.quirksmode.org/js/events_properties.html\n",
       "    var targ;\n",
       "    if (!e) {\n",
       "        e = window.event;\n",
       "    }\n",
       "    if (e.target) {\n",
       "        targ = e.target;\n",
       "    } else if (e.srcElement) {\n",
       "        targ = e.srcElement;\n",
       "    }\n",
       "    if (targ.nodeType === 3) {\n",
       "        // defeat Safari bug\n",
       "        targ = targ.parentNode;\n",
       "    }\n",
       "\n",
       "    // pageX,Y are the mouse positions relative to the document\n",
       "    var boundingRect = targ.getBoundingClientRect();\n",
       "    var x = e.pageX - (boundingRect.left + document.body.scrollLeft);\n",
       "    var y = e.pageY - (boundingRect.top + document.body.scrollTop);\n",
       "\n",
       "    return { x: x, y: y };\n",
       "};\n",
       "\n",
       "/*\n",
       " * return a copy of an object with only non-object keys\n",
       " * we need this to avoid circular references\n",
       " * https://stackoverflow.com/a/24161582/3208463\n",
       " */\n",
       "function simpleKeys(original) {\n",
       "    return Object.keys(original).reduce(function (obj, key) {\n",
       "        if (typeof original[key] !== 'object') {\n",
       "            obj[key] = original[key];\n",
       "        }\n",
       "        return obj;\n",
       "    }, {});\n",
       "}\n",
       "\n",
       "mpl.figure.prototype.mouse_event = function (event, name) {\n",
       "    var canvas_pos = mpl.findpos(event);\n",
       "\n",
       "    if (name === 'button_press') {\n",
       "        this.canvas.focus();\n",
       "        this.canvas_div.focus();\n",
       "    }\n",
       "\n",
       "    var x = canvas_pos.x * this.ratio;\n",
       "    var y = canvas_pos.y * this.ratio;\n",
       "\n",
       "    this.send_message(name, {\n",
       "        x: x,\n",
       "        y: y,\n",
       "        button: event.button,\n",
       "        step: event.step,\n",
       "        guiEvent: simpleKeys(event),\n",
       "    });\n",
       "\n",
       "    /* This prevents the web browser from automatically changing to\n",
       "     * the text insertion cursor when the button is pressed.  We want\n",
       "     * to control all of the cursor setting manually through the\n",
       "     * 'cursor' event from matplotlib */\n",
       "    event.preventDefault();\n",
       "    return false;\n",
       "};\n",
       "\n",
       "mpl.figure.prototype._key_event_extra = function (_event, _name) {\n",
       "    // Handle any extra behaviour associated with a key event\n",
       "};\n",
       "\n",
       "mpl.figure.prototype.key_event = function (event, name) {\n",
       "    // Prevent repeat events\n",
       "    if (name === 'key_press') {\n",
       "        if (event.key === this._key) {\n",
       "            return;\n",
       "        } else {\n",
       "            this._key = event.key;\n",
       "        }\n",
       "    }\n",
       "    if (name === 'key_release') {\n",
       "        this._key = null;\n",
       "    }\n",
       "\n",
       "    var value = '';\n",
       "    if (event.ctrlKey && event.key !== 'Control') {\n",
       "        value += 'ctrl+';\n",
       "    }\n",
       "    else if (event.altKey && event.key !== 'Alt') {\n",
       "        value += 'alt+';\n",
       "    }\n",
       "    else if (event.shiftKey && event.key !== 'Shift') {\n",
       "        value += 'shift+';\n",
       "    }\n",
       "\n",
       "    value += 'k' + event.key;\n",
       "\n",
       "    this._key_event_extra(event, name);\n",
       "\n",
       "    this.send_message(name, { key: value, guiEvent: simpleKeys(event) });\n",
       "    return false;\n",
       "};\n",
       "\n",
       "mpl.figure.prototype.toolbar_button_onclick = function (name) {\n",
       "    if (name === 'download') {\n",
       "        this.handle_save(this, null);\n",
       "    } else {\n",
       "        this.send_message('toolbar_button', { name: name });\n",
       "    }\n",
       "};\n",
       "\n",
       "mpl.figure.prototype.toolbar_button_onmouseover = function (tooltip) {\n",
       "    this.message.textContent = tooltip;\n",
       "};\n",
       "\n",
       "///////////////// REMAINING CONTENT GENERATED BY embed_js.py /////////////////\n",
       "// prettier-ignore\n",
       "var _JSXTOOLS_RESIZE_OBSERVER=function(A){var t,i=new WeakMap,n=new WeakMap,a=new WeakMap,r=new WeakMap,o=new Set;function s(e){if(!(this instanceof s))throw new TypeError(\"Constructor requires 'new' operator\");i.set(this,e)}function h(){throw new TypeError(\"Function is not a constructor\")}function c(e,t,i,n){e=0 in arguments?Number(arguments[0]):0,t=1 in arguments?Number(arguments[1]):0,i=2 in arguments?Number(arguments[2]):0,n=3 in arguments?Number(arguments[3]):0,this.right=(this.x=this.left=e)+(this.width=i),this.bottom=(this.y=this.top=t)+(this.height=n),Object.freeze(this)}function d(){t=requestAnimationFrame(d);var s=new WeakMap,p=new Set;o.forEach((function(t){r.get(t).forEach((function(i){var r=t instanceof window.SVGElement,o=a.get(t),d=r?0:parseFloat(o.paddingTop),f=r?0:parseFloat(o.paddingRight),l=r?0:parseFloat(o.paddingBottom),u=r?0:parseFloat(o.paddingLeft),g=r?0:parseFloat(o.borderTopWidth),m=r?0:parseFloat(o.borderRightWidth),w=r?0:parseFloat(o.borderBottomWidth),b=u+f,F=d+l,v=(r?0:parseFloat(o.borderLeftWidth))+m,W=g+w,y=r?0:t.offsetHeight-W-t.clientHeight,E=r?0:t.offsetWidth-v-t.clientWidth,R=b+v,z=F+W,M=r?t.width:parseFloat(o.width)-R-E,O=r?t.height:parseFloat(o.height)-z-y;if(n.has(t)){var k=n.get(t);if(k[0]===M&&k[1]===O)return}n.set(t,[M,O]);var S=Object.create(h.prototype);S.target=t,S.contentRect=new c(u,d,M,O),s.has(i)||(s.set(i,[]),p.add(i)),s.get(i).push(S)}))})),p.forEach((function(e){i.get(e).call(e,s.get(e),e)}))}return s.prototype.observe=function(i){if(i instanceof window.Element){r.has(i)||(r.set(i,new Set),o.add(i),a.set(i,window.getComputedStyle(i)));var n=r.get(i);n.has(this)||n.add(this),cancelAnimationFrame(t),t=requestAnimationFrame(d)}},s.prototype.unobserve=function(i){if(i instanceof window.Element&&r.has(i)){var n=r.get(i);n.has(this)&&(n.delete(this),n.size||(r.delete(i),o.delete(i))),n.size||r.delete(i),o.size||cancelAnimationFrame(t)}},A.DOMRectReadOnly=c,A.ResizeObserver=s,A.ResizeObserverEntry=h,A}; // eslint-disable-line\n",
       "mpl.toolbar_items = [[\"Home\", \"Reset original view\", \"fa fa-home icon-home\", \"home\"], [\"Back\", \"Back to previous view\", \"fa fa-arrow-left icon-arrow-left\", \"back\"], [\"Forward\", \"Forward to next view\", \"fa fa-arrow-right icon-arrow-right\", \"forward\"], [\"\", \"\", \"\", \"\"], [\"Pan\", \"Left button pans, Right button zooms\\nx/y fixes axis, CTRL fixes aspect\", \"fa fa-arrows icon-move\", \"pan\"], [\"Zoom\", \"Zoom to rectangle\\nx/y fixes axis\", \"fa fa-square-o icon-check-empty\", \"zoom\"], [\"\", \"\", \"\", \"\"], [\"Download\", \"Download plot\", \"fa fa-floppy-o icon-save\", \"download\"]];\n",
       "\n",
       "mpl.extensions = [\"eps\", \"jpeg\", \"pgf\", \"pdf\", \"png\", \"ps\", \"raw\", \"svg\", \"tif\"];\n",
       "\n",
       "mpl.default_extension = \"png\";/* global mpl */\n",
       "\n",
       "var comm_websocket_adapter = function (comm) {\n",
       "    // Create a \"websocket\"-like object which calls the given IPython comm\n",
       "    // object with the appropriate methods. Currently this is a non binary\n",
       "    // socket, so there is still some room for performance tuning.\n",
       "    var ws = {};\n",
       "\n",
       "    ws.binaryType = comm.kernel.ws.binaryType;\n",
       "    ws.readyState = comm.kernel.ws.readyState;\n",
       "    function updateReadyState(_event) {\n",
       "        if (comm.kernel.ws) {\n",
       "            ws.readyState = comm.kernel.ws.readyState;\n",
       "        } else {\n",
       "            ws.readyState = 3; // Closed state.\n",
       "        }\n",
       "    }\n",
       "    comm.kernel.ws.addEventListener('open', updateReadyState);\n",
       "    comm.kernel.ws.addEventListener('close', updateReadyState);\n",
       "    comm.kernel.ws.addEventListener('error', updateReadyState);\n",
       "\n",
       "    ws.close = function () {\n",
       "        comm.close();\n",
       "    };\n",
       "    ws.send = function (m) {\n",
       "        //console.log('sending', m);\n",
       "        comm.send(m);\n",
       "    };\n",
       "    // Register the callback with on_msg.\n",
       "    comm.on_msg(function (msg) {\n",
       "        //console.log('receiving', msg['content']['data'], msg);\n",
       "        var data = msg['content']['data'];\n",
       "        if (data['blob'] !== undefined) {\n",
       "            data = {\n",
       "                data: new Blob(msg['buffers'], { type: data['blob'] }),\n",
       "            };\n",
       "        }\n",
       "        // Pass the mpl event to the overridden (by mpl) onmessage function.\n",
       "        ws.onmessage(data);\n",
       "    });\n",
       "    return ws;\n",
       "};\n",
       "\n",
       "mpl.mpl_figure_comm = function (comm, msg) {\n",
       "    // This is the function which gets called when the mpl process\n",
       "    // starts-up an IPython Comm through the \"matplotlib\" channel.\n",
       "\n",
       "    var id = msg.content.data.id;\n",
       "    // Get hold of the div created by the display call when the Comm\n",
       "    // socket was opened in Python.\n",
       "    var element = document.getElementById(id);\n",
       "    var ws_proxy = comm_websocket_adapter(comm);\n",
       "\n",
       "    function ondownload(figure, _format) {\n",
       "        window.open(figure.canvas.toDataURL());\n",
       "    }\n",
       "\n",
       "    var fig = new mpl.figure(id, ws_proxy, ondownload, element);\n",
       "\n",
       "    // Call onopen now - mpl needs it, as it is assuming we've passed it a real\n",
       "    // web socket which is closed, not our websocket->open comm proxy.\n",
       "    ws_proxy.onopen();\n",
       "\n",
       "    fig.parent_element = element;\n",
       "    fig.cell_info = mpl.find_output_cell(\"<div id='\" + id + \"'></div>\");\n",
       "    if (!fig.cell_info) {\n",
       "        console.error('Failed to find cell for figure', id, fig);\n",
       "        return;\n",
       "    }\n",
       "    fig.cell_info[0].output_area.element.on(\n",
       "        'cleared',\n",
       "        { fig: fig },\n",
       "        fig._remove_fig_handler\n",
       "    );\n",
       "};\n",
       "\n",
       "mpl.figure.prototype.handle_close = function (fig, msg) {\n",
       "    var width = fig.canvas.width / fig.ratio;\n",
       "    fig.cell_info[0].output_area.element.off(\n",
       "        'cleared',\n",
       "        fig._remove_fig_handler\n",
       "    );\n",
       "    fig.resizeObserverInstance.unobserve(fig.canvas_div);\n",
       "\n",
       "    // Update the output cell to use the data from the current canvas.\n",
       "    fig.push_to_output();\n",
       "    var dataURL = fig.canvas.toDataURL();\n",
       "    // Re-enable the keyboard manager in IPython - without this line, in FF,\n",
       "    // the notebook keyboard shortcuts fail.\n",
       "    IPython.keyboard_manager.enable();\n",
       "    fig.parent_element.innerHTML =\n",
       "        '<img src=\"' + dataURL + '\" width=\"' + width + '\">';\n",
       "    fig.close_ws(fig, msg);\n",
       "};\n",
       "\n",
       "mpl.figure.prototype.close_ws = function (fig, msg) {\n",
       "    fig.send_message('closing', msg);\n",
       "    // fig.ws.close()\n",
       "};\n",
       "\n",
       "mpl.figure.prototype.push_to_output = function (_remove_interactive) {\n",
       "    // Turn the data on the canvas into data in the output cell.\n",
       "    var width = this.canvas.width / this.ratio;\n",
       "    var dataURL = this.canvas.toDataURL();\n",
       "    this.cell_info[1]['text/html'] =\n",
       "        '<img src=\"' + dataURL + '\" width=\"' + width + '\">';\n",
       "};\n",
       "\n",
       "mpl.figure.prototype.updated_canvas_event = function () {\n",
       "    // Tell IPython that the notebook contents must change.\n",
       "    IPython.notebook.set_dirty(true);\n",
       "    this.send_message('ack', {});\n",
       "    var fig = this;\n",
       "    // Wait a second, then push the new image to the DOM so\n",
       "    // that it is saved nicely (might be nice to debounce this).\n",
       "    setTimeout(function () {\n",
       "        fig.push_to_output();\n",
       "    }, 1000);\n",
       "};\n",
       "\n",
       "mpl.figure.prototype._init_toolbar = function () {\n",
       "    var fig = this;\n",
       "\n",
       "    var toolbar = document.createElement('div');\n",
       "    toolbar.classList = 'btn-toolbar';\n",
       "    this.root.appendChild(toolbar);\n",
       "\n",
       "    function on_click_closure(name) {\n",
       "        return function (_event) {\n",
       "            return fig.toolbar_button_onclick(name);\n",
       "        };\n",
       "    }\n",
       "\n",
       "    function on_mouseover_closure(tooltip) {\n",
       "        return function (event) {\n",
       "            if (!event.currentTarget.disabled) {\n",
       "                return fig.toolbar_button_onmouseover(tooltip);\n",
       "            }\n",
       "        };\n",
       "    }\n",
       "\n",
       "    fig.buttons = {};\n",
       "    var buttonGroup = document.createElement('div');\n",
       "    buttonGroup.classList = 'btn-group';\n",
       "    var button;\n",
       "    for (var toolbar_ind in mpl.toolbar_items) {\n",
       "        var name = mpl.toolbar_items[toolbar_ind][0];\n",
       "        var tooltip = mpl.toolbar_items[toolbar_ind][1];\n",
       "        var image = mpl.toolbar_items[toolbar_ind][2];\n",
       "        var method_name = mpl.toolbar_items[toolbar_ind][3];\n",
       "\n",
       "        if (!name) {\n",
       "            /* Instead of a spacer, we start a new button group. */\n",
       "            if (buttonGroup.hasChildNodes()) {\n",
       "                toolbar.appendChild(buttonGroup);\n",
       "            }\n",
       "            buttonGroup = document.createElement('div');\n",
       "            buttonGroup.classList = 'btn-group';\n",
       "            continue;\n",
       "        }\n",
       "\n",
       "        button = fig.buttons[name] = document.createElement('button');\n",
       "        button.classList = 'btn btn-default';\n",
       "        button.href = '#';\n",
       "        button.title = name;\n",
       "        button.innerHTML = '<i class=\"fa ' + image + ' fa-lg\"></i>';\n",
       "        button.addEventListener('click', on_click_closure(method_name));\n",
       "        button.addEventListener('mouseover', on_mouseover_closure(tooltip));\n",
       "        buttonGroup.appendChild(button);\n",
       "    }\n",
       "\n",
       "    if (buttonGroup.hasChildNodes()) {\n",
       "        toolbar.appendChild(buttonGroup);\n",
       "    }\n",
       "\n",
       "    // Add the status bar.\n",
       "    var status_bar = document.createElement('span');\n",
       "    status_bar.classList = 'mpl-message pull-right';\n",
       "    toolbar.appendChild(status_bar);\n",
       "    this.message = status_bar;\n",
       "\n",
       "    // Add the close button to the window.\n",
       "    var buttongrp = document.createElement('div');\n",
       "    buttongrp.classList = 'btn-group inline pull-right';\n",
       "    button = document.createElement('button');\n",
       "    button.classList = 'btn btn-mini btn-primary';\n",
       "    button.href = '#';\n",
       "    button.title = 'Stop Interaction';\n",
       "    button.innerHTML = '<i class=\"fa fa-power-off icon-remove icon-large\"></i>';\n",
       "    button.addEventListener('click', function (_evt) {\n",
       "        fig.handle_close(fig, {});\n",
       "    });\n",
       "    button.addEventListener(\n",
       "        'mouseover',\n",
       "        on_mouseover_closure('Stop Interaction')\n",
       "    );\n",
       "    buttongrp.appendChild(button);\n",
       "    var titlebar = this.root.querySelector('.ui-dialog-titlebar');\n",
       "    titlebar.insertBefore(buttongrp, titlebar.firstChild);\n",
       "};\n",
       "\n",
       "mpl.figure.prototype._remove_fig_handler = function (event) {\n",
       "    var fig = event.data.fig;\n",
       "    if (event.target !== this) {\n",
       "        // Ignore bubbled events from children.\n",
       "        return;\n",
       "    }\n",
       "    fig.close_ws(fig, {});\n",
       "};\n",
       "\n",
       "mpl.figure.prototype._root_extra_style = function (el) {\n",
       "    el.style.boxSizing = 'content-box'; // override notebook setting of border-box.\n",
       "};\n",
       "\n",
       "mpl.figure.prototype._canvas_extra_style = function (el) {\n",
       "    // this is important to make the div 'focusable\n",
       "    el.setAttribute('tabindex', 0);\n",
       "    // reach out to IPython and tell the keyboard manager to turn it's self\n",
       "    // off when our div gets focus\n",
       "\n",
       "    // location in version 3\n",
       "    if (IPython.notebook.keyboard_manager) {\n",
       "        IPython.notebook.keyboard_manager.register_events(el);\n",
       "    } else {\n",
       "        // location in version 2\n",
       "        IPython.keyboard_manager.register_events(el);\n",
       "    }\n",
       "};\n",
       "\n",
       "mpl.figure.prototype._key_event_extra = function (event, _name) {\n",
       "    // Check for shift+enter\n",
       "    if (event.shiftKey && event.which === 13) {\n",
       "        this.canvas_div.blur();\n",
       "        // select the cell after this one\n",
       "        var index = IPython.notebook.find_cell_index(this.cell_info[0]);\n",
       "        IPython.notebook.select(index + 1);\n",
       "    }\n",
       "};\n",
       "\n",
       "mpl.figure.prototype.handle_save = function (fig, _msg) {\n",
       "    fig.ondownload(fig, null);\n",
       "};\n",
       "\n",
       "mpl.find_output_cell = function (html_output) {\n",
       "    // Return the cell and output element which can be found *uniquely* in the notebook.\n",
       "    // Note - this is a bit hacky, but it is done because the \"notebook_saving.Notebook\"\n",
       "    // IPython event is triggered only after the cells have been serialised, which for\n",
       "    // our purposes (turning an active figure into a static one), is too late.\n",
       "    var cells = IPython.notebook.get_cells();\n",
       "    var ncells = cells.length;\n",
       "    for (var i = 0; i < ncells; i++) {\n",
       "        var cell = cells[i];\n",
       "        if (cell.cell_type === 'code') {\n",
       "            for (var j = 0; j < cell.output_area.outputs.length; j++) {\n",
       "                var data = cell.output_area.outputs[j];\n",
       "                if (data.data) {\n",
       "                    // IPython >= 3 moved mimebundle to data attribute of output\n",
       "                    data = data.data;\n",
       "                }\n",
       "                if (data['text/html'] === html_output) {\n",
       "                    return [cell, data, j];\n",
       "                }\n",
       "            }\n",
       "        }\n",
       "    }\n",
       "};\n",
       "\n",
       "// Register the function which deals with the matplotlib target/channel.\n",
       "// The kernel may be null if the page has been refreshed.\n",
       "if (IPython.notebook.kernel !== null) {\n",
       "    IPython.notebook.kernel.comm_manager.register_target(\n",
       "        'matplotlib',\n",
       "        mpl.mpl_figure_comm\n",
       "    );\n",
       "}\n"
      ],
      "text/plain": [
       "<IPython.core.display.Javascript object>"
      ]
     },
     "metadata": {},
     "output_type": "display_data"
    },
    {
     "data": {
      "text/html": [
       "<img src=\"data:image/png;base64,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\" width=\"431.5\">"
      ],
      "text/plain": [
       "<IPython.core.display.HTML object>"
      ]
     },
     "metadata": {},
     "output_type": "display_data"
    },
    {
     "data": {
      "text/plain": [
       "[<mpl_toolkits.mplot3d.art3d.Line3D at 0x7fb45a50ab50>]"
      ]
     },
     "execution_count": 48,
     "metadata": {},
     "output_type": "execute_result"
    }
   ],
   "source": [
    "%matplotlib nbagg\n",
    "ax = ut.plotSetup3d(-2, 2, -2, 2, -200, 200)\n",
    "# try columns of X with large coefficients, or not\n",
    "ax.plot(X[:, 1], X[:, 2], 'ro', zs=y, markersize = 4)"
   ]
  },
  {
   "cell_type": "markdown",
   "metadata": {
    "slideshow": {
     "slide_type": "fragment"
    }
   },
   "source": [
    "Note that each parameter of an independent variable has an associated confidence interval. \n",
    "\n",
    "If a coefficient is not distinguishable from zero, then we cannot assume that there is any relationship between the independent variable and the observations.\n",
    "\n",
    "In other words, if the confidence interval for the parameter includes zero, the associated independent variable may not have any predictive value."
   ]
  },
  {
   "cell_type": "code",
   "execution_count": 18,
   "metadata": {
    "slideshow": {
     "slide_type": "fragment"
    }
   },
   "outputs": [
    {
     "name": "stdout",
     "output_type": "stream",
     "text": [
      "Confidence Intervals: [[  5.65891465  19.47559281]\n",
      " [ -9.44032559   1.77614877]\n",
      " [ -9.31636359   4.47701749]\n",
      " [ -4.12661379   8.15524508]\n",
      " [ -9.4808662    4.22965424]\n",
      " [ -5.49698033   7.07574692]\n",
      " [-10.22359973   4.08684835]\n",
      " [ 83.74738375  96.52928603]\n",
      " [ -6.77896356   6.75226985]\n",
      " [  8.80365396  21.73126149]\n",
      " [ -6.86882065   6.4194618 ]\n",
      " [ -6.97868351   7.1332267 ]\n",
      " [ -6.71228582   6.2218515 ]\n",
      " [ 82.96557061  97.07028228]\n",
      " [ -5.74782503   9.08465366]\n",
      " [ -1.06173893   9.85081724]\n",
      " [  2.02753258  15.5561241 ]\n",
      " [ 66.56165458  80.19256546]\n",
      " [ -8.90825108   5.0804296 ]\n",
      " [ -7.85545335   5.21424811]]\n",
      "Parameters: [ 1.25672537e+01 -3.83208841e+00 -2.41967305e+00  2.01431564e+00\n",
      " -2.62560598e+00  7.89383294e-01 -3.06837569e+00  9.01383349e+01\n",
      " -1.33468527e-02  1.52674577e+01 -2.24679428e-01  7.72715974e-02\n",
      " -2.45217158e-01  9.00179264e+01  1.66841432e+00  4.39453916e+00\n",
      "  8.79182834e+00  7.33771100e+01 -1.91391074e+00 -1.32060262e+00]\n"
     ]
    }
   ],
   "source": [
    "print('Confidence Intervals: {}'.format(results.conf_int()))\n",
    "print('Parameters: {}'.format(results.params))"
   ]
  },
  {
   "cell_type": "code",
   "execution_count": 19,
   "metadata": {
    "slideshow": {
     "slide_type": "fragment"
    }
   },
   "outputs": [
    {
     "data": {
      "text/plain": [
       "array([False,  True,  True,  True,  True,  True,  True, False,  True,\n",
       "       False,  True,  True,  True, False,  True,  True, False, False,\n",
       "        True,  True])"
      ]
     },
     "execution_count": 19,
     "metadata": {},
     "output_type": "execute_result"
    }
   ],
   "source": [
    "CIs = results.conf_int()\n",
    "notSignificant = (CIs[:,0] < 0) & (CIs[:,1] > 0)\n",
    "notSignificant"
   ]
  },
  {
   "cell_type": "code",
   "execution_count": 20,
   "metadata": {
    "slideshow": {
     "slide_type": "fragment"
    }
   },
   "outputs": [
    {
     "data": {
      "text/plain": [
       "(100, 6)"
      ]
     },
     "execution_count": 20,
     "metadata": {},
     "output_type": "execute_result"
    }
   ],
   "source": [
    "Xsignif = X[:,~notSignificant]\n",
    "Xsignif.shape"
   ]
  },
  {
   "cell_type": "markdown",
   "metadata": {
    "slideshow": {
     "slide_type": "fragment"
    }
   },
   "source": [
    "By eliminating independent variables that are not significant, we help avoid overfitting."
   ]
  },
  {
   "cell_type": "code",
   "execution_count": 21,
   "metadata": {
    "slideshow": {
     "slide_type": "fragment"
    }
   },
   "outputs": [
    {
     "name": "stdout",
     "output_type": "stream",
     "text": [
      "                                 OLS Regression Results                                \n",
      "=======================================================================================\n",
      "Dep. Variable:                      y   R-squared (uncentered):                   0.965\n",
      "Model:                            OLS   Adj. R-squared (uncentered):              0.963\n",
      "Method:                 Least Squares   F-statistic:                              437.1\n",
      "Date:                Thu, 02 Nov 2023   Prob (F-statistic):                    2.38e-66\n",
      "Time:                        08:55:40   Log-Likelihood:                         -473.32\n",
      "No. Observations:                 100   AIC:                                      958.6\n",
      "Df Residuals:                      94   BIC:                                      974.3\n",
      "Df Model:                           6                                                  \n",
      "Covariance Type:            nonrobust                                                  \n",
      "==============================================================================\n",
      "                 coef    std err          t      P>|t|      [0.025      0.975]\n",
      "------------------------------------------------------------------------------\n",
      "x1            11.9350      3.162      3.775      0.000       5.657      18.213\n",
      "x2            90.5841      2.705     33.486      0.000      85.213      95.955\n",
      "x3            14.3652      2.924      4.913      0.000       8.560      20.170\n",
      "x4            90.5586      3.289     27.535      0.000      84.028      97.089\n",
      "x5             8.3185      3.028      2.747      0.007       2.307      14.330\n",
      "x6            71.9119      3.104     23.169      0.000      65.749      78.075\n",
      "==============================================================================\n",
      "Omnibus:                        9.915   Durbin-Watson:                   2.056\n",
      "Prob(Omnibus):                  0.007   Jarque-Bera (JB):               11.608\n",
      "Skew:                           0.551   Prob(JB):                      0.00302\n",
      "Kurtosis:                       4.254   Cond. No.                         1.54\n",
      "==============================================================================\n",
      "\n",
      "Notes:\n",
      "[1] R² is computed without centering (uncentered) since the model does not contain a constant.\n",
      "[2] Standard Errors assume that the covariance matrix of the errors is correctly specified.\n"
     ]
    }
   ],
   "source": [
    "model = sm.OLS(y, Xsignif)\n",
    "results = model.fit()\n",
    "print(results.summary())"
   ]
  },
  {
   "cell_type": "markdown",
   "metadata": {
    "slideshow": {
     "slide_type": "slide"
    }
   },
   "source": [
    "## Real Data: House Prices in Ames, Iowa"
   ]
  },
  {
   "cell_type": "markdown",
   "metadata": {
    "slideshow": {
     "slide_type": "fragment"
    }
   },
   "source": [
    "Let's see how powerful multiple regression can be on a real-world example.\n",
    "\n",
    "A typical application of linear models is predicting house prices.   Linear models have been used for this problem for decades, and when a municipality does a value assessment on your house, they typically use a linear model."
   ]
  },
  {
   "cell_type": "markdown",
   "metadata": {
    "slideshow": {
     "slide_type": "fragment"
    }
   },
   "source": [
    "We can consider various measurable attributes of a house (its \"features\") as the independent variables, and the most recent sale price of the house as the dependent variable."
   ]
  },
  {
   "cell_type": "markdown",
   "metadata": {
    "slideshow": {
     "slide_type": "fragment"
    }
   },
   "source": [
    "For our case study, we will use the features:\n",
    "* Lot Area (sq ft), \n",
    "* Gross Living Area (sq ft), \n",
    "* Number of Fireplaces, \n",
    "* Number of Full Baths, \n",
    "* Number of Half Baths, \n",
    "* Garage Area (sq ft), \n",
    "* Basement Area (sq ft)"
   ]
  },
  {
   "cell_type": "markdown",
   "metadata": {
    "slideshow": {
     "slide_type": "fragment"
    }
   },
   "source": [
    "So our design matrix will have 8 columns (including the constant for the intercept):\n",
    "\n",
    "$$ X\\beta = \\mathbf{y}$$\n",
    "\n",
    "and it will have one row for each house in the data set, with $y$ the sale price of the house."
   ]
  },
  {
   "cell_type": "markdown",
   "metadata": {
    "slideshow": {
     "slide_type": "fragment"
    }
   },
   "source": [
    "We will use data from housing sales in Ames, Iowa from 2006 to 2009:"
   ]
  },
  {
   "cell_type": "markdown",
   "metadata": {},
   "source": [
    "<img src=\"figs/ames-iowa-downtown.jpeg\" alt=\"Figure\" width=\"45%\">\n",
    "\n",
    "<p style = \"text-align: center;\">\n",
    "Ames, Iowa</p>\n",
    "<p style = \"text-align: center;\">\n",
    "<a href=\"https://commons.wikimedia.org/wiki/File:Ames_Iowa_Main_Street.jpg\">Tim Kiser (w:User:Malepheasant)</a>, <a href=\"https://creativecommons.org/licenses/by-sa/2.5\">CC BY-SA 2.5</a>, via Wikimedia Commons</p>"
   ]
  },
  {
   "cell_type": "code",
   "execution_count": 22,
   "metadata": {
    "slideshow": {
     "slide_type": "fragment"
    }
   },
   "outputs": [],
   "source": [
    "df = pd.read_csv('data/ames-housing-data/train.csv')"
   ]
  },
  {
   "cell_type": "code",
   "execution_count": 23,
   "metadata": {
    "slideshow": {
     "slide_type": "fragment"
    }
   },
   "outputs": [
    {
     "data": {
      "text/html": [
       "<div>\n",
       "<style scoped>\n",
       "    .dataframe tbody tr th:only-of-type {\n",
       "        vertical-align: middle;\n",
       "    }\n",
       "\n",
       "    .dataframe tbody tr th {\n",
       "        vertical-align: top;\n",
       "    }\n",
       "\n",
       "    .dataframe thead th {\n",
       "        text-align: right;\n",
       "    }\n",
       "</style>\n",
       "<table border=\"1\" class=\"dataframe\">\n",
       "  <thead>\n",
       "    <tr style=\"text-align: right;\">\n",
       "      <th></th>\n",
       "      <th>LotArea</th>\n",
       "      <th>GrLivArea</th>\n",
       "      <th>Fireplaces</th>\n",
       "      <th>FullBath</th>\n",
       "      <th>HalfBath</th>\n",
       "      <th>GarageArea</th>\n",
       "      <th>TotalBsmtSF</th>\n",
       "      <th>SalePrice</th>\n",
       "    </tr>\n",
       "  </thead>\n",
       "  <tbody>\n",
       "    <tr>\n",
       "      <th>0</th>\n",
       "      <td>8450</td>\n",
       "      <td>1710</td>\n",
       "      <td>0</td>\n",
       "      <td>2</td>\n",
       "      <td>1</td>\n",
       "      <td>548</td>\n",
       "      <td>856</td>\n",
       "      <td>208500</td>\n",
       "    </tr>\n",
       "    <tr>\n",
       "      <th>1</th>\n",
       "      <td>9600</td>\n",
       "      <td>1262</td>\n",
       "      <td>1</td>\n",
       "      <td>2</td>\n",
       "      <td>0</td>\n",
       "      <td>460</td>\n",
       "      <td>1262</td>\n",
       "      <td>181500</td>\n",
       "    </tr>\n",
       "    <tr>\n",
       "      <th>2</th>\n",
       "      <td>11250</td>\n",
       "      <td>1786</td>\n",
       "      <td>1</td>\n",
       "      <td>2</td>\n",
       "      <td>1</td>\n",
       "      <td>608</td>\n",
       "      <td>920</td>\n",
       "      <td>223500</td>\n",
       "    </tr>\n",
       "    <tr>\n",
       "      <th>3</th>\n",
       "      <td>9550</td>\n",
       "      <td>1717</td>\n",
       "      <td>1</td>\n",
       "      <td>1</td>\n",
       "      <td>0</td>\n",
       "      <td>642</td>\n",
       "      <td>756</td>\n",
       "      <td>140000</td>\n",
       "    </tr>\n",
       "    <tr>\n",
       "      <th>4</th>\n",
       "      <td>14260</td>\n",
       "      <td>2198</td>\n",
       "      <td>1</td>\n",
       "      <td>2</td>\n",
       "      <td>1</td>\n",
       "      <td>836</td>\n",
       "      <td>1145</td>\n",
       "      <td>250000</td>\n",
       "    </tr>\n",
       "  </tbody>\n",
       "</table>\n",
       "</div>"
      ],
      "text/plain": [
       "   LotArea  GrLivArea  Fireplaces  FullBath  HalfBath  GarageArea  \\\n",
       "0     8450       1710           0         2         1         548   \n",
       "1     9600       1262           1         2         0         460   \n",
       "2    11250       1786           1         2         1         608   \n",
       "3     9550       1717           1         1         0         642   \n",
       "4    14260       2198           1         2         1         836   \n",
       "\n",
       "   TotalBsmtSF  SalePrice  \n",
       "0          856     208500  \n",
       "1         1262     181500  \n",
       "2          920     223500  \n",
       "3          756     140000  \n",
       "4         1145     250000  "
      ]
     },
     "execution_count": 23,
     "metadata": {},
     "output_type": "execute_result"
    }
   ],
   "source": [
    "df[['LotArea', 'GrLivArea', 'Fireplaces', 'FullBath', 'HalfBath', 'GarageArea', 'TotalBsmtSF', 'SalePrice']].head()"
   ]
  },
  {
   "cell_type": "markdown",
   "metadata": {
    "slideshow": {
     "slide_type": "fragment"
    }
   },
   "source": [
    "Some things to note here:\n",
    "* House prices are in dollars\n",
    "* Areas are in square feet\n",
    "* Rooms are in counts"
   ]
  },
  {
   "cell_type": "markdown",
   "metadata": {
    "slideshow": {
     "slide_type": "fragment"
    }
   },
   "source": [
    "Do we have scaling concerns here?  \n",
    "\n",
    "No, because each feature will get its own $\\beta$, which will correct for the scaling differences between different units of measure."
   ]
  },
  {
   "cell_type": "code",
   "execution_count": 24,
   "metadata": {
    "slideshow": {
     "slide_type": "slide"
    }
   },
   "outputs": [],
   "source": [
    "X_no_intercept = df[['LotArea', 'GrLivArea', 'Fireplaces', 'FullBath', 'HalfBath', 'GarageArea', 'TotalBsmtSF']]\n",
    "X_intercept = sm.add_constant(X_no_intercept)\n",
    "y = df['SalePrice'].values"
   ]
  },
  {
   "cell_type": "markdown",
   "metadata": {
    "slideshow": {
     "slide_type": "skip"
    }
   },
   "source": [
    "```{note}\n",
    "Note that removing the intercept will cause the $R^2$ to go up, which is counter-intuitive.  The reason is explained here -- but amounts to the fact that the formula for R2 with/without an intercept is different.\n",
    "https://stats.stackexchange.com/questions/26176/removal-of-statistically-significant-intercept-term-increases-r2-in-linear-mo/26205#26205\n",
    "```"
   ]
  },
  {
   "cell_type": "code",
   "execution_count": 25,
   "metadata": {
    "slideshow": {
     "slide_type": "fragment"
    }
   },
   "outputs": [],
   "source": [
    "from sklearn import utils, model_selection\n",
    "X_train, X_test, y_train, y_test = model_selection.train_test_split(\n",
    "    X_intercept, y, test_size = 0.5, random_state = 0)"
   ]
  },
  {
   "cell_type": "code",
   "execution_count": 26,
   "metadata": {
    "slideshow": {
     "slide_type": "fragment"
    }
   },
   "outputs": [
    {
     "name": "stdout",
     "output_type": "stream",
     "text": [
      "                            OLS Regression Results                            \n",
      "==============================================================================\n",
      "Dep. Variable:                      y   R-squared:                       0.759\n",
      "Model:                            OLS   Adj. R-squared:                  0.757\n",
      "Method:                 Least Squares   F-statistic:                     325.5\n",
      "Date:                Thu, 02 Nov 2023   Prob (F-statistic):          1.74e-218\n",
      "Time:                        08:55:40   Log-Likelihood:                -8746.5\n",
      "No. Observations:                 730   AIC:                         1.751e+04\n",
      "Df Residuals:                     722   BIC:                         1.755e+04\n",
      "Df Model:                           7                                         \n",
      "Covariance Type:            nonrobust                                         \n",
      "===============================================================================\n",
      "                  coef    std err          t      P>|t|      [0.025      0.975]\n",
      "-------------------------------------------------------------------------------\n",
      "const       -4.285e+04   5350.784     -8.007      0.000   -5.34e+04   -3.23e+04\n",
      "LotArea         0.2361      0.131      1.798      0.073      -0.022       0.494\n",
      "GrLivArea      48.0865      4.459     10.783      0.000      39.332      56.841\n",
      "Fireplaces   1.089e+04   2596.751      4.192      0.000    5787.515     1.6e+04\n",
      "FullBath      1.49e+04   3528.456      4.224      0.000    7977.691    2.18e+04\n",
      "HalfBath      1.56e+04   3421.558      4.559      0.000    8882.381    2.23e+04\n",
      "GarageArea     98.9856      8.815     11.229      0.000      81.680     116.291\n",
      "TotalBsmtSF    62.6392      4.318     14.508      0.000      54.163      71.116\n",
      "==============================================================================\n",
      "Omnibus:                      144.283   Durbin-Watson:                   1.937\n",
      "Prob(Omnibus):                  0.000   Jarque-Bera (JB):              917.665\n",
      "Skew:                           0.718   Prob(JB):                    5.39e-200\n",
      "Kurtosis:                       8.302   Cond. No.                     6.08e+04\n",
      "==============================================================================\n",
      "\n",
      "Notes:\n",
      "[1] Standard Errors assume that the covariance matrix of the errors is correctly specified.\n",
      "[2] The condition number is large, 6.08e+04. This might indicate that there are\n",
      "strong multicollinearity or other numerical problems.\n"
     ]
    }
   ],
   "source": [
    "model = sm.OLS(y_train, X_train)\n",
    "results = model.fit()\n",
    "print(results.summary())"
   ]
  },
  {
   "cell_type": "markdown",
   "metadata": {
    "slideshow": {
     "slide_type": "fragment"
    }
   },
   "source": [
    "We see that we have:\n",
    "* $\\beta_0$: Intercept of -\\$42,850\n",
    "* $\\beta_1$: Marginal value of one square foot of Lot Area: \\$0.23 \n",
    "    * but __NOTICE__ - this coefficient is not statistically different from zero!\n",
    "* $\\beta_2$: Marginal value of one square foot of Gross Living Area: \\$48 \n",
    "* $\\beta_3$: Marginal value of one additional fireplace: \\$10,890\n",
    "* $\\beta_4$: Marginal value of one additional full bath: \\$14,900\n",
    "* $\\beta_5$: Marginal value of one additional half bath: \\$15,600\n",
    "* $\\beta_6$: Marginal value of one square foot of Garage Area: \\$99\n",
    "* $\\beta_7$: Marginal value of one square foot of Basement Area: \\$62"
   ]
  },
  {
   "cell_type": "markdown",
   "metadata": {
    "slideshow": {
     "slide_type": "fragment"
    }
   },
   "source": [
    "Is our model doing a good job?  \n",
    "\n",
    "There are many statistics for testing this question, but we'll just look at the predictions versus the ground truth.\n",
    "\n",
    "For each house we compute its predicted sale value according to our model:\n",
    "\n",
    "$$\\hat{\\mathbf{y}} = X\\hat{\\beta}$$"
   ]
  },
  {
   "cell_type": "code",
   "execution_count": 27,
   "metadata": {
    "hide_input": true,
    "slideshow": {
     "slide_type": "fragment"
    },
    "tags": [
     "hide-input"
    ]
   },
   "outputs": [
    {
     "data": {
      "image/png": "[encoded data removed]",
      "text/plain": [
       "<Figure size 864x360 with 2 Axes>"
      ]
     },
     "metadata": {
      "needs_background": "light"
     },
     "output_type": "display_data"
    }
   ],
   "source": [
    "%matplotlib inline\n",
    "from sklearn.metrics import r2_score\n",
    "\n",
    "fig, (ax1, ax2) = plt.subplots(1,2,sharey = 'row', figsize=(12, 5))\n",
    "y_oos_predict = results.predict(X_test)\n",
    "r2_test = r2_score(y_test, y_oos_predict)\n",
    "ax1.scatter(y_test, y_oos_predict, s = 8)\n",
    "ax1.set_xlabel('True Price')\n",
    "ax1.set_ylabel('Predicted Price')\n",
    "ax1.plot([0,500000], [0,500000], 'r-')\n",
    "ax1.axis('equal')\n",
    "ax1.set_ylim([0, 500000])\n",
    "ax1.set_xlim([0, 500000])\n",
    "ax1.set_title(f'Out of Sample Prediction, $R^2$ is {r2_test:0.3f}')\n",
    "#\n",
    "y_is_predict = results.predict(X_train)\n",
    "ax2.scatter(y_train, y_is_predict, s = 8)\n",
    "r2_train = r2_score(y_train, y_is_predict)\n",
    "ax2.set_xlabel('True Price')\n",
    "ax2.plot([0,500000],[0,500000],'r-')\n",
    "ax2.axis('equal')\n",
    "ax2.set_ylim([0,500000])\n",
    "ax2.set_xlim([0,500000])\n",
    "ax2.set_title(f'In Sample Prediction, $R^2$ is {r2_train:0.3f}');"
   ]
  },
  {
   "cell_type": "markdown",
   "metadata": {
    "slideshow": {
     "slide_type": "fragment"
    }
   },
   "source": [
    "We see that the model does a reasonable job for house values less than about \\$250,000. \n",
    "\n",
    "It tends to underestimate at both ends of the price range.\n",
    "\n",
    "Note that the $R^2$ on the (held out) test data is 0.610.   \n",
    "\n",
    "We are not doing as well on test data as on training data (somewhat to be expected).\n",
    "\n",
    "For a better model, we'd want to consider more features of each house, and perhaps some additional functions such as polynomials as components of our model."
   ]
  }
 ],
 "metadata": {
  "celltoolbar": "Slideshow",
  "kernelspec": {
   "display_name": "Python 3 (ipykernel)",
   "language": "python",
   "name": "python3"
  },
  "language_info": {
   "codemirror_mode": {
    "name": "ipython",
    "version": 3
   },
   "file_extension": ".py",
   "mimetype": "text/x-python",
   "name": "python",
   "nbconvert_exporter": "python",
   "pygments_lexer": "ipython3",
   "version": "3.9.12"
  },
  "rise": {
   "scroll": true,
   "theme": "beige",
   "transition": "fade"
  }
 },
 "nbformat": 4,
 "nbformat_minor": 1
}
